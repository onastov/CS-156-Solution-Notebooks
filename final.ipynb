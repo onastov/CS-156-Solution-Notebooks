{
 "cells": [
  {
   "cell_type": "markdown",
   "metadata": {},
   "source": [
    "# Learning From Data - Final Exam\n",
    "## Ognen Nastov"
   ]
  },
  {
   "cell_type": "markdown",
   "metadata": {},
   "source": [
    "![](final_images/finalp1.png)"
   ]
  },
  {
   "cell_type": "markdown",
   "metadata": {},
   "source": [
    "**Answer:**\n",
    "\n",
    "- For $Q=1$, $z = (1, x_1, x_2)$\n",
    "\n",
    "- For $Q=2$, $z = (1, x_1, x_2, x_1 x_2, x_1^2, x_2^2)$\n",
    "\n",
    "Etc.\n",
    "\n",
    "Not counting the $x_0=1$, when $Q$ increases by $1$, we have additional terms $x_1^i x_2^j$ with $i+j=Q$. The number of such terms is equal to the number of solutions to the equation.\n",
    "\n",
    "Analogous problem: how many ways can $Q$ pieces of candy be divided among $d$ children. Or how many $Q$ indistinguishable stars can be put into $d$ distinguishable bins.\n",
    "\n",
    "Represent the $Q$ candies as `*`, and represent the dividers specifying the bins as `|`. There are $d$ bins, thus there are $d-1$ dividers.\n",
    "\n",
    "E.g. for $Q=2$ and $d=2$, the set of configurations is: \\{`**|` , `*|*` , `|**`\\} which has 3 elements.\n",
    "\n",
    "The number of total objects (stars and dividers) is $Q+d-1$. Choosing the positions of the dividers leaves exactly $Q$ positions left for the stars. Thus, the number of different configurations is given by the $Q$ combinations of $Q+d-1$ configurations, i.e.\n",
    "\n",
    "$$\\text{# of ways} = \\binom{Q+d-1}{d-1} = \\frac{(Q+d-1)!}{Q! (d-1)!}$$\n",
    "\n",
    "If $d=2$, # ways = $\\binom{Q+d-1}{d-1} = Q+1$\n",
    "\n",
    "The total number of terms for $Q=10$ is therefore the sum $2+3+...+11$, i.e.\n",
    "\n",
    "$$\\text{dimensionality of Z} = \\sum_{i=2}^{11} i  = \\sum_{i=1}^{11} i - 1 = \\frac{11*12}{2} - 1 = 65$$\n",
    "\n",
    "The answer is none of the above, i.e. [e].\n",
    "\n",
    "---\n",
    "\n",
    "Problem 1 alternate answer:\n",
    "\n",
    "Dimensionality of poly transform of order $Q$ is given by $\\tilde{d} = \\frac{Q(Q+3)}{2} = \\frac{10*13}{2} = 65$\n",
    "\n",
    "(See book pp. 104 for reference.)\n",
    "\n",
    "---"
   ]
  },
  {
   "cell_type": "markdown",
   "metadata": {},
   "source": [
    "![](final_images/finalp2.png)"
   ]
  },
  {
   "cell_type": "markdown",
   "metadata": {},
   "source": [
    "**Answer:**\n",
    "\n",
    "[a] A singleton $H$ with one hypothesis $h$, has $\\bar{g} = h$, thus $\\bar{g} \\in H$.\n",
    "\n",
    "[b] For $H$ being the set of all constant real valued hypotheses, the average of any number of $h \\in H$ will result also in a constant real valued hypothesis from the set, thus $\\bar{g} \\in H$.\n",
    "\n",
    "[c] For $H$ being the linear regression model, $h(x) = w^T x$. The average of these linear functions is also a linear function:\n",
    "\n",
    "$$\\bar{g}(x) = \\frac{1}{2}(h_1(x) + h_2(x)) = \\frac{1}{2}(w_1^T x + w_2^T x) = \\frac{1}{2}(w_1^T + w_2^T)x$$\n",
    "\n",
    "[d] For $H$ being the logistic regression model, $h(x) = \\theta(w^T x)$ with $\\theta(s) = \\frac{e^s}{1+e^s}$:\n",
    "\n",
    "$$h(x) = \\frac{e^{w^T x}}{1+e^{w^T x}}$$\n",
    "\n",
    "For the average $\\bar{g}(x) = \\frac{1}{2}(h_1(x) + h_2(x))$ to be representable as a logistic regression model, we need:\n",
    "\n",
    "$$\\bar{g}(x) = \\frac{1}{2}(h_1(x) + h_2(x)) = \\frac{1}{2} \\left( \\frac{e^{w_1^T x}}{1+e^{w_1^T x}} + \\frac{e^{w_2^T x}}{1+e^{w_2^T x}} \\right)$$\n",
    "\n",
    "to be equal to:\n",
    "\n",
    "$$\\frac{e^{w^T x}}{1+e^{w^T x}}$$\n",
    "\n",
    "which will not always be the case, and $\\bar{g} \\notin H$.\n",
    "\n",
    "Thus, answer is [d].\n",
    "\n",
    "---"
   ]
  },
  {
   "cell_type": "markdown",
   "metadata": {},
   "source": [
    "![](final_images/finalp3.png)"
   ]
  },
  {
   "cell_type": "markdown",
   "metadata": {},
   "source": [
    "**Answer:**\n",
    "\n",
    "[a] True.\n",
    "\n",
    "[b] True.\n",
    "\n",
    "[c] True.\n",
    "\n",
    "[d] False.\n",
    "\n",
    "[e] True.\n",
    "\n",
    "The answer is [d].\n",
    "\n",
    "---"
   ]
  },
  {
   "cell_type": "markdown",
   "metadata": {},
   "source": [
    "![](final_images/finalp4.png)"
   ]
  },
  {
   "cell_type": "markdown",
   "metadata": {},
   "source": [
    "**Answer:**\n",
    "\n",
    "[a] False.\n",
    "\n",
    "[b] False.\n",
    "\n",
    "[c] False.\n",
    "\n",
    "[d] True.\n",
    "\n",
    "[e] False.\n",
    "\n",
    "The answer is [d].\n",
    "\n",
    "---"
   ]
  },
  {
   "cell_type": "markdown",
   "metadata": {},
   "source": [
    "![](final_images/finalp5.png)"
   ]
  },
  {
   "cell_type": "markdown",
   "metadata": {},
   "source": [
    "**Answer:**\n",
    "\n",
    "$w_{lin}$ is the solution to the unconstrained minimization problem:\n",
    "\n",
    "$$\\min \\frac{1}{N} \\sum_{n=1}^N (w^T x_n - y_n)^2$$\n",
    "\n",
    "$w_{reg}$ is the solution to the constrained minimization problem:\n",
    "\n",
    "$$\\min \\frac{1}{N} \\sum_{n=1}^N (w^T x_n - y_n)^2$$ \n",
    "\n",
    "subject to $w^T \\Gamma^T \\Gamma w \\leq C$\n",
    "\n",
    "If $w_{lin}^T \\Gamma^T \\Gamma w_{lin} \\leq C$, meaning $w_{lin}$ satisfies the constraint in the constrained problem, then $w_{lin}$ is the solution to the constrained problem.\n",
    "\n",
    "It follows that $w_{lin} = w_{reg}$.\n",
    "\n",
    "Answer is [a].\n",
    "\n",
    "---"
   ]
  },
  {
   "cell_type": "markdown",
   "metadata": {},
   "source": [
    "![](final_images/finalp6.png)"
   ]
  },
  {
   "cell_type": "markdown",
   "metadata": {},
   "source": [
    "[a] written as hard-order constraints.\n",
    "\n",
    "- Not true as the soft order constraint does not limit the orders.\n",
    "\n",
    "[b] translated into augmented error. \n",
    "\n",
    "- This is true as the constrained problem is equivalent to the augmented error unconstrained problem. The soft-order constraint in the constrained problem becomes a penalty term in the augmented error unconstrained problem.\n",
    "\n",
    "[c] determined from the value of the VC dimension.\n",
    "\n",
    "- Not true. \n",
    "\n",
    "[d] used to decrease both $E_{in}$ and $E_{out}$.\n",
    "\n",
    "- Not true. It is used to decrease both $E_{out}$ (avoid overfitting) and the augmented error $E_{aug}$. The $E_{in}$ may increase.\n",
    " \n",
    "[e] None of the above is true.\n",
    "\n",
    "- Not true.\n",
    "\n",
    "Answer is [b].\n",
    "\n",
    "\n",
    "---"
   ]
  },
  {
   "cell_type": "markdown",
   "metadata": {},
   "source": [
    "![](final_images/finalp7a.png)\n",
    "![](final_images/finalp7b.png)"
   ]
  },
  {
   "cell_type": "markdown",
   "metadata": {},
   "source": [
    "**Answer:**"
   ]
  },
  {
   "cell_type": "code",
   "execution_count": 1,
   "metadata": {},
   "outputs": [],
   "source": [
    "import numpy as np\n",
    "import pandas as pd"
   ]
  },
  {
   "cell_type": "code",
   "execution_count": 2,
   "metadata": {},
   "outputs": [],
   "source": [
    "# problems 7-10\n",
    "\n",
    "# read handwritten digits input and test sets\n",
    "# format of each row is: digit intensity symmetry\n",
    "# d = 2\n",
    "# return X,Y where X = [[x1, ...]] and Y = [y1, ...]\n",
    "def read_training_set():\n",
    "    S = np.loadtxt(\"http://www.amlbook.com/data/zip/features.train\")\n",
    "    return S[:,1:3], S[:,0]\n",
    "\n",
    "def read_test_set():\n",
    "    S = np.loadtxt(\"http://www.amlbook.com/data/zip/features.test\")\n",
    "    return S[:,1:3], S[:,0]"
   ]
  },
  {
   "cell_type": "code",
   "execution_count": 3,
   "metadata": {},
   "outputs": [],
   "source": [
    "def no_transform_input_set(X):\n",
    "    N = np.size(X, 0)\n",
    "    X0 = np.ones([N,])\n",
    "    X1 = X[:,0]\n",
    "    X2 = X[:,1]\n",
    "    X_no_transform = np.array([X0, X1, X2]).T\n",
    "    return (X_no_transform)\n",
    "\n",
    "# transformed input set is d = 7\n",
    "def transform_input_set(X):\n",
    "    N = np.size(X, 0)\n",
    "    X0 = np.ones([N,])\n",
    "    X1 = X[:,0]\n",
    "    X2 = X[:,1]\n",
    "    X3 = X1*X2\n",
    "    X4 = X1**2\n",
    "    X5 = X2**2\n",
    "    X_transformed = np.array([X0, X1, X2, X3, X4, X5]).T\n",
    "    return (X_transformed)"
   ]
  },
  {
   "cell_type": "code",
   "execution_count": 4,
   "metadata": {},
   "outputs": [],
   "source": [
    "# make Y for one-vs-all classification\n",
    "# Y is +1 for selected digit, and -1 for the rest of the digits\n",
    "def make_Y_ova(digit, Y):\n",
    "    Y_ova = (Y == digit)*(+1.0) + (Y != digit)*(-1.0)\n",
    "    return Y_ova\n",
    "  \n",
    "# make Y for one-vs-one classification\n",
    "# Y is +1 for digit_1, and -1 for digit_2\n",
    "# the rest of digits are ignored\n",
    "def make_X_Y_ovo(digit_1, digit_2, X, Y):\n",
    "    Y_ovo = (Y == digit_1)*(+1.0) + (Y == digit_2)*(-1.0) + \\\n",
    "    ((Y != digit_1) & (Y != digit_2))*(0.0)\n",
    "    indices_to_be_deleted = np.nonzero(Y_ovo == 0.0)\n",
    "    Y_ovo_trunc = np.delete(Y_ovo, indices_to_be_deleted)\n",
    "    X_ovo_trunc = np.delete(X, indices_to_be_deleted, axis=0)\n",
    "    return X_ovo_trunc, Y_ovo_trunc"
   ]
  },
  {
   "cell_type": "code",
   "execution_count": 5,
   "metadata": {},
   "outputs": [],
   "source": [
    "def solve_regression_with_reg(X, Y, _lambda):\n",
    "    w = np.dot(np.linalg.inv(X.T@X + _lambda*np.eye(np.size(X, axis=1)))@X.T, Y)\n",
    "    return (w)\n",
    "\n",
    "# classification error\n",
    "def classification_error(w, X, y):\n",
    "    y_c = np.sign(np.dot(X,w))\n",
    "    error = np.count_nonzero(y_c != y) / len(y)\n",
    "    return (error)"
   ]
  },
  {
   "cell_type": "code",
   "execution_count": 6,
   "metadata": {},
   "outputs": [],
   "source": [
    "def problems_7_to_9(transform=False, _lambda=1.0):\n",
    "    results = []\n",
    "    X, Y = read_training_set()\n",
    "    X_t, Y_t = read_test_set()\n",
    "    if transform:\n",
    "        X_train = transform_input_set(X)\n",
    "        X_test = transform_input_set(X_t)\n",
    "    else:\n",
    "        X_train = no_transform_input_set(X)\n",
    "        X_test = no_transform_input_set(X_t)\n",
    "    for digit in range(0,10):\n",
    "        classifier = str(digit) + \"_vs_all\"\n",
    "        Y_ova_train = make_Y_ova(digit, Y)\n",
    "        Y_ova_test = make_Y_ova(digit, Y_t)\n",
    "        w = solve_regression_with_reg(X_train, Y_ova_train, _lambda)\n",
    "        Ein = classification_error(w, X_train, Y_ova_train)\n",
    "        Eout = classification_error(w, X_test, Y_ova_test)\n",
    "        result = {\"classifier\": classifier,\n",
    "                  \"transform\": transform,\n",
    "                  \"lambda\": _lambda,\n",
    "                  \"E_in\": Ein,\n",
    "                  \"E_out\": Eout}\n",
    "        results.append(result)\n",
    "    return results"
   ]
  },
  {
   "cell_type": "code",
   "execution_count": 7,
   "metadata": {},
   "outputs": [
    {
     "data": {
      "text/html": [
       "<div>\n",
       "<style scoped>\n",
       "    .dataframe tbody tr th:only-of-type {\n",
       "        vertical-align: middle;\n",
       "    }\n",
       "\n",
       "    .dataframe tbody tr th {\n",
       "        vertical-align: top;\n",
       "    }\n",
       "\n",
       "    .dataframe thead th {\n",
       "        text-align: right;\n",
       "    }\n",
       "</style>\n",
       "<table border=\"1\" class=\"dataframe\">\n",
       "  <thead>\n",
       "    <tr style=\"text-align: right;\">\n",
       "      <th></th>\n",
       "      <th>classifier</th>\n",
       "      <th>transform</th>\n",
       "      <th>lambda</th>\n",
       "      <th>E_in</th>\n",
       "      <th>E_out</th>\n",
       "    </tr>\n",
       "  </thead>\n",
       "  <tbody>\n",
       "    <tr>\n",
       "      <td>0</td>\n",
       "      <td>0_vs_all</td>\n",
       "      <td>False</td>\n",
       "      <td>1.0</td>\n",
       "      <td>0.109313</td>\n",
       "      <td>0.115097</td>\n",
       "    </tr>\n",
       "    <tr>\n",
       "      <td>1</td>\n",
       "      <td>1_vs_all</td>\n",
       "      <td>False</td>\n",
       "      <td>1.0</td>\n",
       "      <td>0.015224</td>\n",
       "      <td>0.022422</td>\n",
       "    </tr>\n",
       "    <tr>\n",
       "      <td>2</td>\n",
       "      <td>2_vs_all</td>\n",
       "      <td>False</td>\n",
       "      <td>1.0</td>\n",
       "      <td>0.100261</td>\n",
       "      <td>0.098655</td>\n",
       "    </tr>\n",
       "    <tr>\n",
       "      <td>3</td>\n",
       "      <td>3_vs_all</td>\n",
       "      <td>False</td>\n",
       "      <td>1.0</td>\n",
       "      <td>0.090248</td>\n",
       "      <td>0.082711</td>\n",
       "    </tr>\n",
       "    <tr>\n",
       "      <td>4</td>\n",
       "      <td>4_vs_all</td>\n",
       "      <td>False</td>\n",
       "      <td>1.0</td>\n",
       "      <td>0.089425</td>\n",
       "      <td>0.099651</td>\n",
       "    </tr>\n",
       "    <tr>\n",
       "      <td>5</td>\n",
       "      <td>5_vs_all</td>\n",
       "      <td>False</td>\n",
       "      <td>1.0</td>\n",
       "      <td>0.076258</td>\n",
       "      <td>0.079721</td>\n",
       "    </tr>\n",
       "    <tr>\n",
       "      <td>6</td>\n",
       "      <td>6_vs_all</td>\n",
       "      <td>False</td>\n",
       "      <td>1.0</td>\n",
       "      <td>0.091071</td>\n",
       "      <td>0.084704</td>\n",
       "    </tr>\n",
       "    <tr>\n",
       "      <td>7</td>\n",
       "      <td>7_vs_all</td>\n",
       "      <td>False</td>\n",
       "      <td>1.0</td>\n",
       "      <td>0.088465</td>\n",
       "      <td>0.073244</td>\n",
       "    </tr>\n",
       "    <tr>\n",
       "      <td>8</td>\n",
       "      <td>8_vs_all</td>\n",
       "      <td>False</td>\n",
       "      <td>1.0</td>\n",
       "      <td>0.074338</td>\n",
       "      <td>0.082711</td>\n",
       "    </tr>\n",
       "    <tr>\n",
       "      <td>9</td>\n",
       "      <td>9_vs_all</td>\n",
       "      <td>False</td>\n",
       "      <td>1.0</td>\n",
       "      <td>0.088328</td>\n",
       "      <td>0.088191</td>\n",
       "    </tr>\n",
       "  </tbody>\n",
       "</table>\n",
       "</div>"
      ],
      "text/plain": [
       "  classifier  transform  lambda      E_in     E_out\n",
       "0   0_vs_all      False     1.0  0.109313  0.115097\n",
       "1   1_vs_all      False     1.0  0.015224  0.022422\n",
       "2   2_vs_all      False     1.0  0.100261  0.098655\n",
       "3   3_vs_all      False     1.0  0.090248  0.082711\n",
       "4   4_vs_all      False     1.0  0.089425  0.099651\n",
       "5   5_vs_all      False     1.0  0.076258  0.079721\n",
       "6   6_vs_all      False     1.0  0.091071  0.084704\n",
       "7   7_vs_all      False     1.0  0.088465  0.073244\n",
       "8   8_vs_all      False     1.0  0.074338  0.082711\n",
       "9   9_vs_all      False     1.0  0.088328  0.088191"
      ]
     },
     "execution_count": 7,
     "metadata": {},
     "output_type": "execute_result"
    }
   ],
   "source": [
    "results = problems_7_to_9(transform=False, _lambda=1.0)\n",
    "pd.DataFrame(results)"
   ]
  },
  {
   "cell_type": "markdown",
   "metadata": {},
   "source": [
    "Out of the `5_vs_all` through `9_vs_all` classifiers, the lowest `E_in` is found for `8_vs_all`.\n",
    "\n",
    "Answer is [d].\n",
    "\n",
    "---"
   ]
  },
  {
   "cell_type": "markdown",
   "metadata": {},
   "source": [
    "![](final_images/finalp8.png)"
   ]
  },
  {
   "cell_type": "markdown",
   "metadata": {},
   "source": [
    "**Answer:**"
   ]
  },
  {
   "cell_type": "code",
   "execution_count": 8,
   "metadata": {},
   "outputs": [
    {
     "data": {
      "text/html": [
       "<div>\n",
       "<style scoped>\n",
       "    .dataframe tbody tr th:only-of-type {\n",
       "        vertical-align: middle;\n",
       "    }\n",
       "\n",
       "    .dataframe tbody tr th {\n",
       "        vertical-align: top;\n",
       "    }\n",
       "\n",
       "    .dataframe thead th {\n",
       "        text-align: right;\n",
       "    }\n",
       "</style>\n",
       "<table border=\"1\" class=\"dataframe\">\n",
       "  <thead>\n",
       "    <tr style=\"text-align: right;\">\n",
       "      <th></th>\n",
       "      <th>classifier</th>\n",
       "      <th>transform</th>\n",
       "      <th>lambda</th>\n",
       "      <th>E_in</th>\n",
       "      <th>E_out</th>\n",
       "    </tr>\n",
       "  </thead>\n",
       "  <tbody>\n",
       "    <tr>\n",
       "      <td>0</td>\n",
       "      <td>0_vs_all</td>\n",
       "      <td>True</td>\n",
       "      <td>1.0</td>\n",
       "      <td>0.102318</td>\n",
       "      <td>0.106627</td>\n",
       "    </tr>\n",
       "    <tr>\n",
       "      <td>1</td>\n",
       "      <td>1_vs_all</td>\n",
       "      <td>True</td>\n",
       "      <td>1.0</td>\n",
       "      <td>0.012344</td>\n",
       "      <td>0.021923</td>\n",
       "    </tr>\n",
       "    <tr>\n",
       "      <td>2</td>\n",
       "      <td>2_vs_all</td>\n",
       "      <td>True</td>\n",
       "      <td>1.0</td>\n",
       "      <td>0.100261</td>\n",
       "      <td>0.098655</td>\n",
       "    </tr>\n",
       "    <tr>\n",
       "      <td>3</td>\n",
       "      <td>3_vs_all</td>\n",
       "      <td>True</td>\n",
       "      <td>1.0</td>\n",
       "      <td>0.090248</td>\n",
       "      <td>0.082711</td>\n",
       "    </tr>\n",
       "    <tr>\n",
       "      <td>4</td>\n",
       "      <td>4_vs_all</td>\n",
       "      <td>True</td>\n",
       "      <td>1.0</td>\n",
       "      <td>0.089425</td>\n",
       "      <td>0.099651</td>\n",
       "    </tr>\n",
       "    <tr>\n",
       "      <td>5</td>\n",
       "      <td>5_vs_all</td>\n",
       "      <td>True</td>\n",
       "      <td>1.0</td>\n",
       "      <td>0.076258</td>\n",
       "      <td>0.079223</td>\n",
       "    </tr>\n",
       "    <tr>\n",
       "      <td>6</td>\n",
       "      <td>6_vs_all</td>\n",
       "      <td>True</td>\n",
       "      <td>1.0</td>\n",
       "      <td>0.091071</td>\n",
       "      <td>0.084704</td>\n",
       "    </tr>\n",
       "    <tr>\n",
       "      <td>7</td>\n",
       "      <td>7_vs_all</td>\n",
       "      <td>True</td>\n",
       "      <td>1.0</td>\n",
       "      <td>0.088465</td>\n",
       "      <td>0.073244</td>\n",
       "    </tr>\n",
       "    <tr>\n",
       "      <td>8</td>\n",
       "      <td>8_vs_all</td>\n",
       "      <td>True</td>\n",
       "      <td>1.0</td>\n",
       "      <td>0.074338</td>\n",
       "      <td>0.082711</td>\n",
       "    </tr>\n",
       "    <tr>\n",
       "      <td>9</td>\n",
       "      <td>9_vs_all</td>\n",
       "      <td>True</td>\n",
       "      <td>1.0</td>\n",
       "      <td>0.088328</td>\n",
       "      <td>0.088191</td>\n",
       "    </tr>\n",
       "  </tbody>\n",
       "</table>\n",
       "</div>"
      ],
      "text/plain": [
       "  classifier  transform  lambda      E_in     E_out\n",
       "0   0_vs_all       True     1.0  0.102318  0.106627\n",
       "1   1_vs_all       True     1.0  0.012344  0.021923\n",
       "2   2_vs_all       True     1.0  0.100261  0.098655\n",
       "3   3_vs_all       True     1.0  0.090248  0.082711\n",
       "4   4_vs_all       True     1.0  0.089425  0.099651\n",
       "5   5_vs_all       True     1.0  0.076258  0.079223\n",
       "6   6_vs_all       True     1.0  0.091071  0.084704\n",
       "7   7_vs_all       True     1.0  0.088465  0.073244\n",
       "8   8_vs_all       True     1.0  0.074338  0.082711\n",
       "9   9_vs_all       True     1.0  0.088328  0.088191"
      ]
     },
     "execution_count": 8,
     "metadata": {},
     "output_type": "execute_result"
    }
   ],
   "source": [
    "results2 = problems_7_to_9(transform=True, _lambda=1.0)\n",
    "pd.DataFrame(results2)"
   ]
  },
  {
   "cell_type": "markdown",
   "metadata": {},
   "source": [
    "Out of the `0_vs_all` through `4_vs_all` classifiers, the lowest `E_out` is found for `1_vs_all`.\n",
    "\n",
    "Answer is [b].\n",
    "\n",
    "---"
   ]
  },
  {
   "cell_type": "markdown",
   "metadata": {},
   "source": [
    "![](final_images/finalp9a.png)\n",
    "![](final_images/finalp9b.png)"
   ]
  },
  {
   "cell_type": "markdown",
   "metadata": {},
   "source": [
    "**Answer:**\n",
    "\n",
    "[a] Overfitting always occurs when we use the transform. \n",
    "\n",
    "- Not true.\n",
    "\n",
    "[b] The transform always improves the out-of-sample performance by at least 5% ($E_{out}$ with transform $ \\leq 0.95E_{out}$ without transform).\n",
    "\n",
    "- Let's check:"
   ]
  },
  {
   "cell_type": "code",
   "execution_count": 9,
   "metadata": {},
   "outputs": [
    {
     "data": {
      "text/plain": [
       "0    7.359307\n",
       "1    2.222222\n",
       "2    0.000000\n",
       "3    0.000000\n",
       "4    0.000000\n",
       "5    0.625000\n",
       "6    0.000000\n",
       "7    0.000000\n",
       "8    0.000000\n",
       "9    0.000000\n",
       "Name: E_out, dtype: float64"
      ]
     },
     "execution_count": 9,
     "metadata": {},
     "output_type": "execute_result"
    }
   ],
   "source": [
    "100*(pd.DataFrame(results)['E_out'] - pd.DataFrame(results2)['E_out'])/pd.DataFrame(results)['E_out']"
   ]
  },
  {
   "cell_type": "markdown",
   "metadata": {},
   "source": [
    "- Not true: there is improvement in `E_out` only for `0_vs_all`, `1_vs_all`, and `5_vs_all`.\n",
    "\n",
    "[c] The transform does not make any difference in the out-of-sample performance. \n",
    "\n",
    "- Not true: There is improvement in `E_out` for `0_vs_all`, `1_vs_all`, and `5_vs_all`. \n",
    "\n",
    "[d] The transform always worsens the out-of-sample performance by at least 5%. \n",
    "\n",
    "- Not true.\n",
    "\n",
    "[e] The transform improves the out-of-sample performance of ‘5 versus all,’ but by less than 5%. \n",
    "\n",
    "- True, as the `5_vs_all` `E_out` performance is improved by 0.625%.\n",
    "\n",
    "Answer is [e].\n",
    "\n",
    "---"
   ]
  },
  {
   "cell_type": "markdown",
   "metadata": {},
   "source": [
    "![](final_images/finalp10.png)"
   ]
  },
  {
   "cell_type": "markdown",
   "metadata": {},
   "source": [
    "**Answer:**"
   ]
  },
  {
   "cell_type": "code",
   "execution_count": 10,
   "metadata": {},
   "outputs": [],
   "source": [
    "def problem_10(digit_1, digit_2, transform=False, _lambda=1.0):\n",
    "    results = []\n",
    "    classifier = str(digit_1) + \"_vs_\" +str(digit_2)\n",
    "    X, Y = read_training_set()\n",
    "    X_t, Y_t = read_test_set()\n",
    "    if transform:\n",
    "        X_train = transform_input_set(X)\n",
    "        X_test = transform_input_set(X_t)\n",
    "    else:\n",
    "        X_train = no_transform_input_set(X)\n",
    "        X_test = no_transform_input_set(X_t)\n",
    "    X_ovo_train, Y_ovo_train = make_X_Y_ovo(digit_1, digit_2, X_train, Y)\n",
    "    X_ovo_test, Y_ovo_test = make_X_Y_ovo(digit_1, digit_2, X_test, Y_t)\n",
    "    w = solve_regression_with_reg(X_ovo_train, Y_ovo_train, _lambda)\n",
    "    Ein = classification_error(w, X_ovo_train, Y_ovo_train)\n",
    "    Eout = classification_error(w, X_ovo_test, Y_ovo_test)\n",
    "    result = {\"classifier\": classifier,\n",
    "              \"transform\": transform,\n",
    "              \"lambda\": _lambda,\n",
    "              \"E_in\": Ein,\n",
    "              \"E_out\": Eout}\n",
    "    results.append(result)\n",
    "    return results"
   ]
  },
  {
   "cell_type": "markdown",
   "metadata": {},
   "source": [
    "For $\\lambda = 1$:"
   ]
  },
  {
   "cell_type": "code",
   "execution_count": 11,
   "metadata": {},
   "outputs": [
    {
     "data": {
      "text/html": [
       "<div>\n",
       "<style scoped>\n",
       "    .dataframe tbody tr th:only-of-type {\n",
       "        vertical-align: middle;\n",
       "    }\n",
       "\n",
       "    .dataframe tbody tr th {\n",
       "        vertical-align: top;\n",
       "    }\n",
       "\n",
       "    .dataframe thead th {\n",
       "        text-align: right;\n",
       "    }\n",
       "</style>\n",
       "<table border=\"1\" class=\"dataframe\">\n",
       "  <thead>\n",
       "    <tr style=\"text-align: right;\">\n",
       "      <th></th>\n",
       "      <th>classifier</th>\n",
       "      <th>transform</th>\n",
       "      <th>lambda</th>\n",
       "      <th>E_in</th>\n",
       "      <th>E_out</th>\n",
       "    </tr>\n",
       "  </thead>\n",
       "  <tbody>\n",
       "    <tr>\n",
       "      <td>0</td>\n",
       "      <td>1_vs_5</td>\n",
       "      <td>True</td>\n",
       "      <td>1.0</td>\n",
       "      <td>0.005125</td>\n",
       "      <td>0.025943</td>\n",
       "    </tr>\n",
       "  </tbody>\n",
       "</table>\n",
       "</div>"
      ],
      "text/plain": [
       "  classifier  transform  lambda      E_in     E_out\n",
       "0     1_vs_5       True     1.0  0.005125  0.025943"
      ]
     },
     "execution_count": 11,
     "metadata": {},
     "output_type": "execute_result"
    }
   ],
   "source": [
    "results3 = problem_10(1, 5, transform=True, _lambda=1.0)\n",
    "pd.DataFrame(results3)"
   ]
  },
  {
   "cell_type": "markdown",
   "metadata": {},
   "source": [
    "For $\\lambda = 0.01$:"
   ]
  },
  {
   "cell_type": "code",
   "execution_count": 12,
   "metadata": {},
   "outputs": [
    {
     "data": {
      "text/html": [
       "<div>\n",
       "<style scoped>\n",
       "    .dataframe tbody tr th:only-of-type {\n",
       "        vertical-align: middle;\n",
       "    }\n",
       "\n",
       "    .dataframe tbody tr th {\n",
       "        vertical-align: top;\n",
       "    }\n",
       "\n",
       "    .dataframe thead th {\n",
       "        text-align: right;\n",
       "    }\n",
       "</style>\n",
       "<table border=\"1\" class=\"dataframe\">\n",
       "  <thead>\n",
       "    <tr style=\"text-align: right;\">\n",
       "      <th></th>\n",
       "      <th>classifier</th>\n",
       "      <th>transform</th>\n",
       "      <th>lambda</th>\n",
       "      <th>E_in</th>\n",
       "      <th>E_out</th>\n",
       "    </tr>\n",
       "  </thead>\n",
       "  <tbody>\n",
       "    <tr>\n",
       "      <td>0</td>\n",
       "      <td>1_vs_5</td>\n",
       "      <td>True</td>\n",
       "      <td>0.01</td>\n",
       "      <td>0.004484</td>\n",
       "      <td>0.028302</td>\n",
       "    </tr>\n",
       "  </tbody>\n",
       "</table>\n",
       "</div>"
      ],
      "text/plain": [
       "  classifier  transform  lambda      E_in     E_out\n",
       "0     1_vs_5       True    0.01  0.004484  0.028302"
      ]
     },
     "execution_count": 12,
     "metadata": {},
     "output_type": "execute_result"
    }
   ],
   "source": [
    "results4 = problem_10(1, 5, transform=True, _lambda=0.01)\n",
    "pd.DataFrame(results4)"
   ]
  },
  {
   "cell_type": "markdown",
   "metadata": {},
   "source": [
    "[a] Overfitting occurs (from $λ=1$ to $λ=0.01$). \n",
    "\n",
    "- This is true as `E_out` increases.\n",
    "\n",
    "[b] The two classifiers have the same $E_{in}$.\n",
    "\n",
    "- Not true.\n",
    "\n",
    "[c] The two classifiers have the same $E_{out}$.\n",
    "\n",
    "- Not true.\n",
    "\n",
    "[d] When $λ$ goes up, both $E_{in}$ and $E_{out}$ go up.\n",
    "\n",
    "- Not true. When `lambda` ⬆️, `E_in` ⬆️, and `E_out` ⬇️.\n",
    "\n",
    "[e] When $λ$ goes up, both $E_{in}$ and $E_{out}$ go down.\n",
    "\n",
    "- Not true. When `lambda` ⬆️, `E_in` ⬆️, and `E_out` ⬇️.\n",
    "\n",
    "Answer is [a].\n",
    "\n",
    "---"
   ]
  },
  {
   "cell_type": "markdown",
   "metadata": {},
   "source": [
    "![](final_images/finalp11.png)"
   ]
  },
  {
   "cell_type": "markdown",
   "metadata": {},
   "source": [
    "**Answer:**"
   ]
  },
  {
   "cell_type": "code",
   "execution_count": 13,
   "metadata": {},
   "outputs": [],
   "source": [
    "# data set for problems 11-12\n",
    "# row format is x1, x2, y\n",
    "# returns X, Y\n",
    "def make_training_set_problems_11_12():\n",
    "    data = np.array([[1, 0, -1],\n",
    "                     [0, 1, -1],\n",
    "                     [0, -1, -1],\n",
    "                     [-1, 0, 1],\n",
    "                     [0, 2, 1],\n",
    "                     [0, -2, 1],\n",
    "                     [-2, 0, 1]])\n",
    "    return data[:,0:2], data[:,2]"
   ]
  },
  {
   "cell_type": "code",
   "execution_count": 14,
   "metadata": {},
   "outputs": [],
   "source": [
    "def transform_input_set_problems_11_12(X):\n",
    "    X1 = X[:,0]\n",
    "    X2 = X[:,1]\n",
    "    Z1 = X2**2 - 2*X1 - 1\n",
    "    Z2 = X1**2 - 2*X2 + 1\n",
    "    Z = np.array([Z1, Z2]).T\n",
    "    return (Z)"
   ]
  },
  {
   "cell_type": "code",
   "execution_count": 15,
   "metadata": {},
   "outputs": [],
   "source": [
    "import matplotlib.pyplot as plt"
   ]
  },
  {
   "cell_type": "code",
   "execution_count": 16,
   "metadata": {},
   "outputs": [],
   "source": [
    "# problem 11\n",
    "def problem_11(transform=False, sep_planes=False):\n",
    "    X, Y = make_training_set_problems_11_12()\n",
    "    x_lab, y_lab = ('$x_{1}$', '$x_{2}$')\n",
    "    if transform:\n",
    "        X = transform_input_set_problems_11_12(X)\n",
    "        x_lab, y_lab = ('$z_{1}$', '$z_{2}$')\n",
    "    for i in range(Y.shape[0]):\n",
    "        if Y[i] == 1:\n",
    "            plt.plot(X[i,0], X[i,1], 'bo')\n",
    "        else:\n",
    "            plt.plot(X[i,0], X[i,1], 'ro')\n",
    "    plt.xlabel(x_lab);\n",
    "    plt.ylabel(y_lab);\n",
    "    plt.grid()\n",
    "    if sep_planes:\n",
    "        planes = {'(a)' : (-1, 1, -0.5),\n",
    "                  '(b)' : (1, -1, -0.5), \n",
    "                  '(c)' : (1, 0, -0.5), \n",
    "                  '(d)' : (0, 1, -0.5)}\n",
    "        x = np.linspace(-6, 6)\n",
    "        for key, val in planes.items():\n",
    "            slope = - val[0] / (val[1] + 1e-10)\n",
    "            b = - val[2] / (val[1] + 1e-10)\n",
    "            y =  slope * x + b\n",
    "            plt.plot(x, y, label=f\"{key}\")\n",
    "            plt.legend(loc='lower right')\n",
    "            plt.xlim(-6, 6);\n",
    "            plt.ylim(-6, 6);"
   ]
  },
  {
   "cell_type": "markdown",
   "metadata": {},
   "source": [
    "The hyperplane separates the data only if for $n = 1,\\cdots,7$:\n",
    "\n",
    "$$y_n(w^T z + b) > 0$$"
   ]
  },
  {
   "cell_type": "code",
   "execution_count": 17,
   "metadata": {},
   "outputs": [
    {
     "data": {
      "image/png": "[encoded data removed]",
      "text/plain": [
       "<Figure size 432x288 with 1 Axes>"
      ]
     },
     "metadata": {
      "needs_background": "light"
     },
     "output_type": "display_data"
    }
   ],
   "source": [
    "problem_11(transform=False, sep_planes=False)"
   ]
  },
  {
   "cell_type": "markdown",
   "metadata": {},
   "source": [
    "It can be seen the original training data in $X$ space is not linearly separable."
   ]
  },
  {
   "cell_type": "code",
   "execution_count": 18,
   "metadata": {},
   "outputs": [
    {
     "data": {
      "image/png": "[encoded data removed]",
      "text/plain": [
       "<Figure size 432x288 with 1 Axes>"
      ]
     },
     "metadata": {
      "needs_background": "light"
     },
     "output_type": "display_data"
    }
   ],
   "source": [
    "problem_11(transform=True, sep_planes=False)"
   ]
  },
  {
   "cell_type": "markdown",
   "metadata": {},
   "source": [
    "The transformed training data in $Z$ space is now linearly separable.\n",
    "\n",
    "Plot the 4 hyperplanes for [a] through [d]:"
   ]
  },
  {
   "cell_type": "code",
   "execution_count": 19,
   "metadata": {},
   "outputs": [
    {
     "data": {
      "image/png": "[encoded data removed]",
      "text/plain": [
       "<Figure size 432x288 with 1 Axes>"
      ]
     },
     "metadata": {
      "needs_background": "light"
     },
     "output_type": "display_data"
    }
   ],
   "source": [
    "problem_11(transform=True, sep_planes=True)"
   ]
  },
  {
   "cell_type": "markdown",
   "metadata": {},
   "source": [
    "From the plot the only hyperplane that separates the data is [c].\n",
    "\n",
    "- It is orthogonal to the weight vector $w = [1.0, 0.0]$. \n",
    "\n",
    "- It separates the data with the maximum margin (as it bisects the closest points of the two classes), and that margin is 1.\n",
    "\n",
    "=> Answer is [c].\n",
    "\n",
    "---"
   ]
  },
  {
   "cell_type": "markdown",
   "metadata": {},
   "source": [
    "![](final_images/finalp12.png)"
   ]
  },
  {
   "cell_type": "markdown",
   "metadata": {},
   "source": [
    "**Answer:**\n",
    "\n",
    "Implement hard margin SVM with the polynomial kernel using the `sklearn (libsvm)` package:"
   ]
  },
  {
   "cell_type": "code",
   "execution_count": 20,
   "metadata": {},
   "outputs": [],
   "source": [
    "# problem 12\n",
    "from sklearn import svm"
   ]
  },
  {
   "cell_type": "code",
   "execution_count": 21,
   "metadata": {},
   "outputs": [],
   "source": [
    "# hard margin SVM (set C = 1e10) with poly kernel, use sklearn package\n",
    "# no transform    \n",
    "def svm_hard_poly(Q):\n",
    "    clf = svm.SVC(C=1e10, kernel='poly', degree=Q, gamma=1.0, coef0=1.0)\n",
    "    return clf"
   ]
  },
  {
   "cell_type": "code",
   "execution_count": 22,
   "metadata": {},
   "outputs": [],
   "source": [
    "def problem_12():\n",
    "    X, Y = make_training_set_problems_11_12()\n",
    "    clf = svm_hard_poly(2)\n",
    "    clf.fit(X, Y)\n",
    "    num_support_vectors = np.size(clf.support_)\n",
    "    support_vectors = clf.support_vectors_\n",
    "    # dual_coef_ is the vector of products y_i*alpha_i\n",
    "    # alphas are positive, thus:\n",
    "    sv_outputs = np.sign(clf.dual_coef_)\n",
    "    print(f'b = {clf.intercept_}')\n",
    "    print(f\"alphas = \\n{sv_outputs*clf.dual_coef_}\")\n",
    "    print(f\"support vectors = \\n{support_vectors}\")\n",
    "    print(f\"# support vectors = {num_support_vectors}\")\n",
    "    return num_support_vectors"
   ]
  },
  {
   "cell_type": "code",
   "execution_count": 23,
   "metadata": {},
   "outputs": [
    {
     "name": "stdout",
     "output_type": "stream",
     "text": [
      "b = [-1.66633088]\n",
      "alphas = \n",
      "[[0.59647182 0.81065085 0.8887034  0.20566488 0.31275439]]\n",
      "support vectors = \n",
      "[[ 0.  1.]\n",
      " [ 0. -1.]\n",
      " [-1.  0.]\n",
      " [ 0.  2.]\n",
      " [ 0. -2.]]\n",
      "# support vectors = 5\n"
     ]
    },
    {
     "data": {
      "text/plain": [
       "5"
      ]
     },
     "execution_count": 23,
     "metadata": {},
     "output_type": "execute_result"
    }
   ],
   "source": [
    "problem_12()"
   ]
  },
  {
   "cell_type": "markdown",
   "metadata": {},
   "source": [
    "Answer is [c].\n",
    "\n",
    "---"
   ]
  },
  {
   "cell_type": "markdown",
   "metadata": {},
   "source": [
    "![](final_images/finalp13a.png)\n",
    "![](final_images/finalp13b.png)"
   ]
  },
  {
   "cell_type": "markdown",
   "metadata": {},
   "source": [
    "**Answer:**"
   ]
  },
  {
   "cell_type": "code",
   "execution_count": 24,
   "metadata": {},
   "outputs": [],
   "source": [
    "# problems 13-18 common code\n",
    "def make_training_set_problems_13_to_18(N=100):\n",
    "    X = np.zeros([N,2])\n",
    "    Y = np.zeros([N,1])\n",
    "    X[:,0] = np.random.uniform(-1.0, 1.0, N)\n",
    "    X[:,1] = np.random.uniform(-1.0, 1.0, N)\n",
    "    x1 = X[:,0]\n",
    "    x2 = X[:,1]\n",
    "    Y = np.sign(x1 - x2 + 0.25 * np.sin(np.pi * x1))\n",
    "    return X, Y"
   ]
  },
  {
   "cell_type": "code",
   "execution_count": 25,
   "metadata": {},
   "outputs": [],
   "source": [
    "# RBF kernel form (hard-margin SVM with RBF kernel)\n",
    "def svm_hard_rbf():\n",
    "    clf = svm.SVC(C=1e10, kernel='rbf', gamma=1.5)\n",
    "    return clf"
   ]
  },
  {
   "cell_type": "code",
   "execution_count": 26,
   "metadata": {},
   "outputs": [],
   "source": [
    "import time\n",
    "\n",
    "# problem 13\n",
    "def problem_13():\n",
    "    time_start = time.time()\n",
    "    trials = 100\n",
    "    count_non_sep = 0\n",
    "    clf = svm_hard_rbf()\n",
    "    for i in range(0, trials):\n",
    "        X, Y = make_training_set_problems_13_to_18()\n",
    "        clf.fit(X, Y)\n",
    "        Y_model = clf.predict(X)\n",
    "        Ein = np.count_nonzero(Y != Y_model) / len(Y)\n",
    "        if Ein > 0.0:\n",
    "            count_non_sep += 1\n",
    "    percent_non_sep = count_non_sep / trials\n",
    "    print(f\"Non-separable {percent_non_sep}% of the time.\")\n",
    "    time_end = time.time()\n",
    "    print(f\"Run time = {(time_end - time_start):3.1f} seconds.\")\n",
    "    return"
   ]
  },
  {
   "cell_type": "code",
   "execution_count": 27,
   "metadata": {},
   "outputs": [
    {
     "name": "stdout",
     "output_type": "stream",
     "text": [
      "Non-separable 0.0% of the time.\n",
      "Run time = 0.1 seconds.\n"
     ]
    }
   ],
   "source": [
    "problem_13()"
   ]
  },
  {
   "cell_type": "markdown",
   "metadata": {},
   "source": [
    "Answer is [a].\n",
    "\n",
    "---"
   ]
  },
  {
   "cell_type": "markdown",
   "metadata": {},
   "source": [
    "![](final_images/finalp14.png)"
   ]
  },
  {
   "cell_type": "markdown",
   "metadata": {},
   "source": [
    "**Answer:**\n",
    "\n",
    "Use the `sklearn` implemetation of Lloyd's algorithm:"
   ]
  },
  {
   "cell_type": "code",
   "execution_count": 28,
   "metadata": {},
   "outputs": [],
   "source": [
    "from sklearn.cluster import KMeans"
   ]
  },
  {
   "cell_type": "code",
   "execution_count": 29,
   "metadata": {},
   "outputs": [],
   "source": [
    "# Lloyd's algorithm: cluster inputs into K clusters\n",
    "def kmeans(K):\n",
    "    kms = KMeans(n_clusters=K, init='random', algorithm='full')\n",
    "    return kms"
   ]
  },
  {
   "cell_type": "markdown",
   "metadata": {},
   "source": [
    "Test the Lloyd's algorithm on the small (N=7) data set from problems 11-12:"
   ]
  },
  {
   "cell_type": "code",
   "execution_count": 30,
   "metadata": {},
   "outputs": [],
   "source": [
    "# test KMeans on the small (N=7) data set from problems 11-12\n",
    "def test_kmeans(K=3):\n",
    "    X, Y = make_training_set_problems_11_12()\n",
    "    kms = kmeans(K)\n",
    "    kms.fit(X)\n",
    "    mu = kms.cluster_centers_\n",
    "    labels = kms.labels_\n",
    "    return mu, labels"
   ]
  },
  {
   "cell_type": "code",
   "execution_count": 31,
   "metadata": {},
   "outputs": [
    {
     "data": {
      "text/plain": [
       "(array([[ 0.        ,  1.5       ],\n",
       "        [ 0.33333333, -1.        ],\n",
       "        [-1.5       ,  0.        ]]),\n",
       " array([1, 0, 1, 2, 0, 1, 2], dtype=int32))"
      ]
     },
     "execution_count": 31,
     "metadata": {},
     "output_type": "execute_result"
    }
   ],
   "source": [
    "test_kmeans(K=3)"
   ]
  },
  {
   "cell_type": "markdown",
   "metadata": {},
   "source": [
    "Implement RBF regular form. It uses Lloyd's algorithm and computes the solution using the pseudo-inverse:"
   ]
  },
  {
   "cell_type": "code",
   "execution_count": 32,
   "metadata": {},
   "outputs": [],
   "source": [
    "# RBF regular form (Lloyd's + pseudo-inverse)\n",
    "def phi_matrix(X, mu, gamma):\n",
    "    N = len(X)\n",
    "    K = len(mu)\n",
    "    phi = np.zeros([N, K+1])\n",
    "    for row in range(0, N):\n",
    "        for col in range(0, K+1):\n",
    "            if col == 0:\n",
    "                phi[row, col] = 1.0\n",
    "            else:\n",
    "                phi[row, col] = \\\n",
    "                    np.exp(-gamma * (np.linalg.norm(X[row] - mu[col-1])**2))\n",
    "    return phi"
   ]
  },
  {
   "cell_type": "code",
   "execution_count": 33,
   "metadata": {},
   "outputs": [],
   "source": [
    "def solve_rbf(phi, y):\n",
    "    w = np.linalg.inv(phi.T @ phi) @ (phi.T @ y)\n",
    "    return w"
   ]
  },
  {
   "cell_type": "markdown",
   "metadata": {},
   "source": [
    "Common code for problems 14 and 15:"
   ]
  },
  {
   "cell_type": "code",
   "execution_count": 34,
   "metadata": {},
   "outputs": [],
   "source": [
    "# problems 14 & 15\n",
    "def problems_14_and_15(K):\n",
    "    time_start = time.time()\n",
    "    trials = 100\n",
    "    N_test = 10000\n",
    "    svm_wins = 0\n",
    "    Eout_svm = 0\n",
    "    Eout_rbf = 0\n",
    "    gamma = 1.5\n",
    "    clf = svm_hard_rbf()\n",
    "    kms = kmeans(K)\n",
    "    for i in range(0, trials):\n",
    "        X, Y = make_training_set_problems_13_to_18()\n",
    "        # hard-margin svm with rbf kernel\n",
    "        clf.fit(X, Y)\n",
    "        Y_model = clf.predict(X)\n",
    "        Ein_svm = np.count_nonzero(Y != Y_model) / len(Y)\n",
    "        # repeat this run if Ein > 0\n",
    "        if Ein_svm > 0.0:\n",
    "            continue\n",
    "        # regular rbf\n",
    "        kms.fit(X)\n",
    "        mu = kms.cluster_centers_\n",
    "        phi = phi_matrix(X, mu, gamma)\n",
    "        w = solve_rbf(phi, Y)\n",
    "        Ein_rbf = classification_error(w, phi, Y)\n",
    "        # test set\n",
    "        X_test, Y_test = make_training_set_problems_13_to_18(N_test)\n",
    "        Y_model_test = clf.predict(X_test)\n",
    "        Eout_svm = np.count_nonzero(Y_test != Y_model_test) / len(Y_test)\n",
    "        phi_test = phi_matrix(X_test, mu, gamma)\n",
    "        Eout_rbf = classification_error(w, phi_test, Y_test)\n",
    "        # compare Eout\n",
    "        if Eout_svm < Eout_rbf:\n",
    "            svm_wins +=1\n",
    "        perc_complete = 100 * i / trials\n",
    "        # this line does not work without the \\r in the beginning\n",
    "        print(f'\\rJob {perc_complete:3.1f}% complete.', end='\\r', flush=True)\n",
    "    percent_wins = 100 * svm_wins / trials\n",
    "    print(f\"Kernel form beats regular form {percent_wins}% of the time.\")\n",
    "    time_end = time.time()\n",
    "    print(f\"Run time = {(time_end - time_start):3.1f} seconds.\")\n",
    "    return"
   ]
  },
  {
   "cell_type": "code",
   "execution_count": 35,
   "metadata": {},
   "outputs": [
    {
     "name": "stdout",
     "output_type": "stream",
     "text": [
      "Kernel form beats regular form 91.0% of the time.\n",
      "Run time = 242.9 seconds.\n"
     ]
    }
   ],
   "source": [
    "problems_14_and_15(9)"
   ]
  },
  {
   "cell_type": "markdown",
   "metadata": {},
   "source": [
    "Answer is [e].\n",
    "\n",
    "---"
   ]
  },
  {
   "cell_type": "markdown",
   "metadata": {},
   "source": [
    "![](final_images/finalp15.png)"
   ]
  },
  {
   "cell_type": "markdown",
   "metadata": {},
   "source": [
    "**Answer:**"
   ]
  },
  {
   "cell_type": "code",
   "execution_count": 36,
   "metadata": {},
   "outputs": [
    {
     "name": "stdout",
     "output_type": "stream",
     "text": [
      "Kernel form beats regular form 85.0% of the time.\n",
      "Run time = 387.1 seconds.\n"
     ]
    }
   ],
   "source": [
    "problems_14_and_15(12)"
   ]
  },
  {
   "cell_type": "markdown",
   "metadata": {},
   "source": [
    "Answer is [d].\n",
    "\n",
    "---"
   ]
  },
  {
   "cell_type": "markdown",
   "metadata": {},
   "source": [
    "![](final_images/finalp16a.png)\n",
    "![](final_images/finalp16b.png)"
   ]
  },
  {
   "cell_type": "markdown",
   "metadata": {},
   "source": [
    "**Answer:**"
   ]
  },
  {
   "cell_type": "markdown",
   "metadata": {},
   "source": [
    "Common code for problems 16 and 17:"
   ]
  },
  {
   "cell_type": "code",
   "execution_count": 37,
   "metadata": {},
   "outputs": [],
   "source": [
    "# problems 16 & 17\n",
    "def problems_16_and_17(K_list, gamma_list):\n",
    "    time_start = time.time()\n",
    "    trials = 100\n",
    "    N_test = 10000\n",
    "    Ein_down_Eout_up = 0\n",
    "    Ein_up_Eout_down = 0\n",
    "    both_up = 0\n",
    "    both_down = 0\n",
    "    both_same = 0\n",
    "    for i in range(0, trials):\n",
    "        Ein_list = []\n",
    "        Eout_list = []\n",
    "        for K in K_list:\n",
    "            for gamma in gamma_list:\n",
    "                X, Y = make_training_set_problems_13_to_18()\n",
    "                # regular rbf\n",
    "                kms = kmeans(K)\n",
    "                kms.fit(X)\n",
    "                mu = kms.cluster_centers_\n",
    "                phi = phi_matrix(X, mu, gamma)\n",
    "                w = solve_rbf(phi, Y)\n",
    "                Ein = classification_error(w, phi, Y)\n",
    "                # test set\n",
    "                X_test, Y_test = make_training_set_problems_13_to_18(N_test)\n",
    "                phi_test = phi_matrix(X_test, mu, gamma)\n",
    "                Eout = classification_error(w, phi_test, Y_test)\n",
    "                # store Ein and Eout\n",
    "                Ein_list.append(Ein)\n",
    "                Eout_list.append(Eout)\n",
    "        # compare Ein and Eout\n",
    "        if (Ein_list[1] < Ein_list[0]) and (Eout_list[1] > Eout_list[0]):\n",
    "            Ein_down_Eout_up += 1\n",
    "        elif (Ein_list[1] > Ein_list[0]) and (Eout_list[1] < Eout_list[0]):\n",
    "            Ein_up_Eout_down += 1\n",
    "        elif (Ein_list[1] > Ein_list[0]) and (Eout_list[1] > Eout_list[0]):\n",
    "            both_up += 1\n",
    "        elif (Ein_list[1] < Ein_list[0]) and (Eout_list[1] < Eout_list[0]):\n",
    "            both_down += 1\n",
    "        else:\n",
    "            both_same += 1\n",
    "        perc_complete = 100 * i / trials\n",
    "        # this line does not work without the \\r in the beginning\n",
    "        print(f'\\rJob {perc_complete:3.1f}% complete.', end='\\r', flush=True)\n",
    "    print(f\"Ein down, Eout up = {Ein_down_Eout_up}\")\n",
    "    print(f\"Ein up, Eout down = {Ein_up_Eout_down}\")\n",
    "    print(f\"Both Ein and Eout up = {both_up}\")\n",
    "    print(f\"Both Ein and Eout down = {both_down}\")\n",
    "    print(f\"Ein and Eout remain same = {both_same}\")\n",
    "    time_end = time.time()\n",
    "    print(f\"Run time = {(time_end - time_start):3.1f} seconds.\")\n",
    "    return"
   ]
  },
  {
   "cell_type": "code",
   "execution_count": 38,
   "metadata": {},
   "outputs": [
    {
     "name": "stdout",
     "output_type": "stream",
     "text": [
      "Ein down, Eout up = 21\n",
      "Ein up, Eout down = 18\n",
      "Both Ein and Eout up = 20\n",
      "Both Ein and Eout down = 28\n",
      "Ein and Eout remain same = 13\n",
      "Run time = 616.5 seconds.\n"
     ]
    }
   ],
   "source": [
    "problems_16_and_17(K_list=[9, 12], gamma_list=[1.5])"
   ]
  },
  {
   "cell_type": "markdown",
   "metadata": {},
   "source": [
    "Answer is [d].\n",
    "\n",
    "---"
   ]
  },
  {
   "cell_type": "markdown",
   "metadata": {},
   "source": [
    "![](final_images/finalp17.png)"
   ]
  },
  {
   "cell_type": "markdown",
   "metadata": {},
   "source": [
    "**Answer:**"
   ]
  },
  {
   "cell_type": "code",
   "execution_count": 39,
   "metadata": {},
   "outputs": [
    {
     "name": "stdout",
     "output_type": "stream",
     "text": [
      "Ein down, Eout up = 15\n",
      "Ein up, Eout down = 16\n",
      "Both Ein and Eout up = 37\n",
      "Both Ein and Eout down = 13\n",
      "Ein and Eout remain same = 19\n",
      "Run time = 612.1 seconds.\n"
     ]
    }
   ],
   "source": [
    "problems_16_and_17(K_list=[9], gamma_list=[1.5, 2.0])"
   ]
  },
  {
   "cell_type": "markdown",
   "metadata": {},
   "source": [
    "Answer is [c].\n",
    "\n",
    "---"
   ]
  },
  {
   "cell_type": "markdown",
   "metadata": {},
   "source": [
    "![](final_images/finalp18.png)"
   ]
  },
  {
   "cell_type": "markdown",
   "metadata": {},
   "source": [
    "**Answer:**"
   ]
  },
  {
   "cell_type": "code",
   "execution_count": 40,
   "metadata": {},
   "outputs": [],
   "source": [
    "# problem 18\n",
    "def problem_18(K=9, gamma=1.5):\n",
    "    time_start = time.time()\n",
    "    trials = 100\n",
    "    Ein_is_zero = 0\n",
    "    for i in range(0, trials):\n",
    "         X, Y = make_training_set_problems_13_to_18()\n",
    "         # regular rbf\n",
    "         kms = kmeans(K)\n",
    "         kms.fit(X)\n",
    "         mu = kms.cluster_centers_\n",
    "         phi = phi_matrix(X, mu, gamma)\n",
    "         w = solve_rbf(phi, Y)\n",
    "         Ein = classification_error(w, phi, Y)\n",
    "         if Ein == 0:\n",
    "             Ein_is_zero += 1\n",
    "         perc_complete = 100 * i / trials\n",
    "         # this line does not work without the \\r in the beginning\n",
    "         print(f'\\rJob {perc_complete:3.1f}% complete.', end='\\r', flush=True)\n",
    "    Ein_is_zero_perc = 100 * Ein_is_zero / trials\n",
    "    print(f\"Ein is zero {Ein_is_zero_perc}% of the time.\")\n",
    "    time_end = time.time()\n",
    "    print(f\"Run time = {(time_end - time_start):3.1f} seconds.\")\n",
    "    return "
   ]
  },
  {
   "cell_type": "code",
   "execution_count": 41,
   "metadata": {},
   "outputs": [
    {
     "name": "stdout",
     "output_type": "stream",
     "text": [
      "Ein is zero 5.0% of the time.\n",
      "Run time = 10.0 seconds.\n"
     ]
    }
   ],
   "source": [
    "problem_18()"
   ]
  },
  {
   "cell_type": "markdown",
   "metadata": {},
   "source": [
    "Answer is [a].\n",
    "\n",
    "---"
   ]
  },
  {
   "cell_type": "markdown",
   "metadata": {},
   "source": [
    "![](final_images/finalp19.png)"
   ]
  },
  {
   "cell_type": "markdown",
   "metadata": {},
   "source": [
    "**Answer:**\n",
    "\n",
    "- $P(h=f)$ is the prior, uniform over $h \\in [0,1]$.\n",
    "- $P(h=f|D)$ is the posterior.\n",
    "- $P(D|h=f)$ is the likelihood.\n",
    "\n",
    "Note that:\n",
    "\n",
    "$$P(h=f|D) = \\frac{P(D|h=f) P(h=f)}{P(D)} ∝ P(D|h=f) P(h=f)$$\n",
    "\n",
    "$P(D|h=f)$ is: given we have the proper hypothesis, what is the probability of our data? \n",
    "\n",
    "Our data set is just +1 for had heart attack and thus its probability is just simply the probability of predicting somebody getting a heart attack. \n",
    "\n",
    "Thus, as $h$ increases over $[0,1]$, the probability of predicting +1 increases over $[0,1]$ in a linear fashion.\n",
    "\n",
    "---"
   ]
  },
  {
   "cell_type": "markdown",
   "metadata": {},
   "source": [
    "![](final_images/finalp20.png)"
   ]
  },
  {
   "cell_type": "markdown",
   "metadata": {},
   "source": [
    "**Answer:**\n",
    "\n",
    "Inequalities to possibly use:\n",
    " \n",
    "Inequality of arithmetic and geometric means (AM-GM inequality):\n",
    "\n",
    "$$\\sqrt{uv} \\leq \\frac{u+v}{2}$$ \n",
    "\n",
    "Cauchy inequality (vectors $u$ and $v$):\n",
    "\n",
    "$$|<u,v>| \\leq ||u|| ||v||$$\n",
    "\n",
    "Triangle inequality:\n",
    "\n",
    "$$||u+v|| \\leq ||u||+||v||$$\n",
    "\n",
    "Reverse triangle inequality:\n",
    "\n",
    "$$| ||u||-||v|| | \\leq ||u-v||$$\n",
    "\n",
    "Let's check case [c]:\n",
    "\n",
    "[c] $E_{out}(g)$ cannot be worse than the average of $E_{out}(g_1)$ and $E_{out}(g_2)$.\n",
    "\n",
    "$$N E_{out}(g_1) = (y-g_1)^2$$\n",
    "\n",
    "$$N E_{out}(g_2) = (y-g_2)^2$$\n",
    "\n",
    "$$\\begin{aligned}\n",
    "N E_{out}(g) & = \\left( y-\\frac{1}{2}(g_1+g_2) \\right)^2 \\\\\n",
    "& = y^2 - y(g_1+g_2) + \\frac{1}{4}(g_1+g_2)^2 \\\\\n",
    "& = y^2 - y g_1 - y g_2 + \\frac{1}{4}g_1^2 + \\frac{1}{4}g_2^2 + \\frac{1}{2}g_1 g_2 \\\\\n",
    "& = \\frac{1}{2}\\left[ 2 y^2 - 2 y g_1 - 2 y g_2 + \\frac{1}{2}g_1^2 + \\frac{1}{2}g_2^2 + g_1 g_2 \\right] \\\\ \n",
    "& = \\frac{1}{2}\\left[ (y^2 - 2 y g_1 + g_1^2) + (y^2 - 2 y g_2 + g_2^2) - \\frac{1}{2}g_1^2 - \\frac{1}{2}g_2^2 + g_1 g_2 \\right] \\\\\n",
    "& = \\frac{1}{2} \\left[ (y-g_1)^2 + (y-g_2)^2 - \\frac{1}{2}(g_1^2 + g_2^2 - 2 g_1 g_2) \\right] \\\\\n",
    "& = \\frac{N}{2}\\left[ E_{out}(g_1) + E_{out}(g_2) - \\frac{1}{2N} (g_1-g_2)^2 \\right]\n",
    "\\end{aligned}$$\n",
    "\n",
    "i.e. we get:\n",
    "\n",
    "$$E_{out}(g) = \\frac{1}{2}\\left[ E_{out}(g_1) + E_{out}(g_2) \\right] - \\frac{1}{4N} (g_1-g_2)^2$$\n",
    "\n",
    "So $E_{out}(g)$ is always less than the average of $E_{out}(g_1)$ and $E_{out}(g_2)$.\n",
    "\n",
    "The statement [c] is true.\n",
    "\n",
    "Answer is [c].\n",
    "\n",
    "\n",
    "---"
   ]
  }
 ],
 "metadata": {
  "kernelspec": {
   "display_name": "Python 3",
   "language": "python",
   "name": "python3"
  },
  "language_info": {
   "codemirror_mode": {
    "name": "ipython",
    "version": 3
   },
   "file_extension": ".py",
   "mimetype": "text/x-python",
   "name": "python",
   "nbconvert_exporter": "python",
   "pygments_lexer": "ipython3",
   "version": "3.8.2"
  }
 },
 "nbformat": 4,
 "nbformat_minor": 4
}
