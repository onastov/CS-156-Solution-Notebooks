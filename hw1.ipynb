{
 "cells": [
  {
   "cell_type": "markdown",
   "metadata": {},
   "source": [
    "# Learning From Data - Homework 1\n",
    "## Ognen Nastov"
   ]
  },
  {
   "cell_type": "markdown",
   "metadata": {},
   "source": [
    "<img src=\"hw1_images/hw1p1.png\">"
   ]
  },
  {
   "cell_type": "markdown",
   "metadata": {},
   "source": [
    "**Answer**: [d].\n",
    "\n",
    "---"
   ]
  },
  {
   "cell_type": "markdown",
   "metadata": {},
   "source": [
    "<img src=\"hw1_images/hw1p2.png\">"
   ]
  },
  {
   "cell_type": "markdown",
   "metadata": {},
   "source": [
    "**Answer**: [a].\n",
    "\n",
    "---"
   ]
  },
  {
   "cell_type": "markdown",
   "metadata": {},
   "source": [
    "<img src=\"hw1_images/hw1p3.png\">"
   ]
  },
  {
   "cell_type": "markdown",
   "metadata": {},
   "source": [
    "**Answer**:\n",
    "\n",
    "Conditional probability:  $$P(A|B) = P(A \\cap B) P(B)$$\n",
    "\n",
    "Multiplication rule:  $$P(A \\cap B) = P(A|B) P(B)$$\n",
    "\n",
    "Note: multiplication rule is a rewrite of the conditional probability formula.\n",
    "\n",
    "Law of total probability:  $$P(B) = P(B|X) P(X) + P(B|Y) P(Y)$$    \n",
    "where $X$ and $Y$ are disjoint, i.e. \n",
    "\n",
    "$$P(X \\cup Y) = P(X) + P(Y)$$\n",
    "    \n",
    "Bayes theorem:  $$P(A|B) P(B) = P(B|A) P(A)$$"
   ]
  },
  {
   "cell_type": "markdown",
   "metadata": {},
   "source": [
    "$A$ = bag with 2 black balls is being used  \n",
    "$B$ = first ball picked is black  \n",
    "$C$ = bag with 1 black and 1 white balls is being used  \n",
    "\n",
    "$A|B$ = bag with 2 black balls is being used given first ball picked is black = second ball is black  \n",
    "$B|A$ = first ball picked is black given bag with 2 black balls is being used  \n",
    "\n",
    "$$P(A) = P(C) = \\frac{1}{2}$$\n",
    "\n",
    "$$P(B|A) = 1$$\n",
    "\n",
    "A and C are disjoint:  $$P(B) = P(B|A) P(A) + P(B|C) P(C)$$\n",
    "\n",
    "$$P(B|C) = \\frac{1}{2}$$\n",
    "\n",
    "$$P(A|B) = \\frac{P(B|A) P(A)}{P(B)} = \\frac{1 \\cdot \\frac{1}{2}}{1 \\cdot \\frac{1}{2} + \\frac{1}{2} \\cdot \\frac{1}{2}} = \\frac{2}{3}$$\n",
    "\n",
    "Answer is [d].\n",
    "\n",
    "---"
   ]
  },
  {
   "cell_type": "markdown",
   "metadata": {},
   "source": [
    "<img src=\"hw1_images/hw1p4.png\">"
   ]
  },
  {
   "cell_type": "markdown",
   "metadata": {},
   "source": [
    "**Answer**: \n",
    "\n",
    "$G$ = green marble drawn  \n",
    "$$P(G) = 1 - μ = 0.45$$\n",
    "\n",
    "Each drawn marble is an independent event, therefore probabilities multiply.\n",
    "\n",
    "$$P(A \\cap B) = P(A) P(B)$$\n",
    "\n",
    "$P_{10}$ = sample is all green i.e. no red in sample\n",
    "\n",
    "$$P_{10} = (1 - μ)^{10} = 0.45^{10} = 3.405 \\times 10^{-4}$$\n",
    "\n",
    "Answer is [b].\n",
    "\n",
    "---"
   ]
  },
  {
   "cell_type": "markdown",
   "metadata": {},
   "source": [
    "<img src=\"hw1_images/hw1p5.png\">"
   ]
  },
  {
   "cell_type": "markdown",
   "metadata": {},
   "source": [
    "**Answer**:\n",
    "\n",
    "$R$ = there is red in all 1000 samples  \n",
    "$X$ = one or more samples are all green i.e one or more samples have no red\n",
    "\n",
    "$$P(R) + P(X) = 1$$\n",
    "\n",
    "$P_{10}$ = probability a sample is all green i.e. no red in sample  \n",
    "$1 - P_{10}$ = probability a sample has red in it\n",
    "\n",
    "$$P(R) = (1 - P_{10})^{1000} = (1 - 3.405\\times 10^{-4})^{1000} = 0.711$$\n",
    "\n",
    "$$P(X) = 1 - P(R) = 1 - 0.711 = 0.289$$\n",
    "\n",
    "Answer is [c].\n",
    "\n",
    "---"
   ]
  },
  {
   "cell_type": "markdown",
   "metadata": {},
   "source": [
    "<img src=\"hw1_images/hw1p6.png\">"
   ]
  },
  {
   "cell_type": "markdown",
   "metadata": {},
   "source": [
    "**Answer**:\n",
    "\n",
    "|$x_n$|f1|f2|$\\cdots$|f8|\n",
    "|-|-|-|-|-|\n",
    "|101|0|0||1|\n",
    "|110|0|0||1|\n",
    "|111|0|1||1|\n",
    "\n",
    "|$x_n$|$g_a$|$g_b$|$g_c$|$g_d$|\n",
    "|-|-|-|-|-|\n",
    "|101|1|0|0|1|\n",
    "|110|1|0|0|1|\n",
    "|111|1|0|1|0|\n",
    "\n",
    "$$s_a = 1 \\cdot 3 + 3 \\cdot 2 + 3 \\cdot 1 + 1 \\cdot 0 = 12$$\n",
    "$$s_b = 1 \\cdot 3 + 3 \\cdot 2 + 3 \\cdot 1 + 1 \\cdot 0 = 12$$\n",
    "$$s_c = 1 \\cdot 3 + 3 \\cdot 2 + 3 \\cdot 1 + 1 \\cdot 0 = 12$$\n",
    "$$s_d = 1 \\cdot 3 + 3 \\cdot 2 + 3 \\cdot 1 + 1 \\cdot 0 = 12$$\n",
    "\n",
    "All return the same score. Answer is [e].\n",
    "\n",
    "The message of this problem is that regardless of whether you are doing something intelligent or otherwise, there is nothing that can be learned outside the training sample in a deterministic sense. To make the message crisp, the problem considers some 'crazy' training schemes in the mix.\n",
    "\n",
    "Outside the training set, no \"learning\" is possible if we take a deterministic view.\n",
    "\n",
    "---"
   ]
  },
  {
   "cell_type": "markdown",
   "metadata": {},
   "source": [
    "<img src=\"hw1_images/hw1p7.png\">"
   ]
  },
  {
   "cell_type": "markdown",
   "metadata": {},
   "source": [
    "**Answer:**\n",
    "\n",
    "Create data set and target function:"
   ]
  },
  {
   "cell_type": "code",
   "execution_count": 1,
   "metadata": {},
   "outputs": [],
   "source": [
    "import numpy as np\n",
    "import matplotlib.pyplot as plt\n",
    "\n",
    "# dimension of input space d = 2\n",
    "# number of data points = N\n",
    "# data is shape (N, d+1) i.e. (N, 3)\n",
    "def make_data_set(N):\n",
    "    data = np.zeros([N,3])\n",
    "    data[:,0] = np.ones([N,])\n",
    "    data[:,1] = np.random.uniform(-1,1,N)\n",
    "    data[:,2] = np.random.uniform(-1,1,N)\n",
    "    return (data)\n",
    "\n",
    "# the line defines the target function\n",
    "# line is shape (2,)\n",
    "def make_line():    \n",
    "    x_1,y_1 = np.random.uniform(-1,1,2)\n",
    "    x_2,y_2 = np.random.uniform(-1,1,2)\n",
    "    slope = (y_1 - y_2) / (x_1 - x_2)\n",
    "    b = y_2 - slope * x_2\n",
    "    return (slope, b)\n",
    "\n",
    "# y is shape (N,)    \n",
    "def classify_input(line, data):\n",
    "    slope, b = line\n",
    "    y = np.sign(data[:,1]*slope + b - data[:,2])\n",
    "    return (y)"
   ]
  },
  {
   "cell_type": "markdown",
   "metadata": {},
   "source": [
    "PLA (Perceptron Learning Algorithm), and classification error estimate:"
   ]
  },
  {
   "cell_type": "code",
   "execution_count": 2,
   "metadata": {},
   "outputs": [],
   "source": [
    "def pla(data, y, maxits):  \n",
    "    i = 0\n",
    "    w = np.zeros(data.shape[1])\n",
    "    while (i < maxits):\n",
    "        y_c = np.sign(np.dot(data, w))\n",
    "        if np.count_nonzero(y_c != y) == 0:\n",
    "            break\n",
    "        else:  # update perceptron with a misclassified point\n",
    "            misclassified_indices = (y_c != y).nonzero()[0]\n",
    "            ix = np.random.choice(misclassified_indices)\n",
    "            w = w + data[ix,:]*y[ix]\n",
    "        i += 1\n",
    "    return (w, i)\n",
    "\n",
    "# N_test should be sufficiently large (e.g. 1e6)\n",
    "def classification_error(w, N_test, line):\n",
    "    data = make_data_set(N_test)\n",
    "    y = classify_input(line, data)\n",
    "    y_c = np.sign(np.dot(data, w)) \n",
    "    error = np.count_nonzero(y_c != y) / N_test\n",
    "    return (error)"
   ]
  },
  {
   "cell_type": "markdown",
   "metadata": {},
   "source": [
    "Plot the data, target function (black), and final hypothesis (green)."
   ]
  },
  {
   "cell_type": "code",
   "execution_count": 3,
   "metadata": {},
   "outputs": [],
   "source": [
    "# plot data, target fn, and final hypothesis\n",
    "def plot_data(data, line, y, w):\n",
    "    fig,ax = plt.subplots()\n",
    "    plt.axis([-1,1,-1,1])\n",
    "    plt.grid()\n",
    "    slope,b = line\n",
    "    for i in range(data.shape[0]):\n",
    "        if y[i] == 1: \n",
    "            plt.plot(data[i,1], data[i,2], 'ro')\n",
    "        else:\n",
    "            plt.plot(data[i,1], data[i,2], 'bo')\n",
    "\n",
    "    plt.plot([-1,1], [-slope+b, slope+b], 'k')\n",
    "    plt.plot([-1,1], [(w[1] - w[0])/w[2], (-w[1] - w[0])/w[2]], 'g')\n",
    "    ax.set_aspect('equal','box')\n",
    "    return"
   ]
  },
  {
   "cell_type": "markdown",
   "metadata": {},
   "source": [
    "Test the ``pla()`` function:"
   ]
  },
  {
   "cell_type": "code",
   "execution_count": 4,
   "metadata": {},
   "outputs": [],
   "source": [
    "data = make_data_set(10)\n",
    "line = make_line()\n",
    "y = classify_input(line,data)\n",
    "w,i = pla(data, y, 1000)"
   ]
  },
  {
   "cell_type": "code",
   "execution_count": 5,
   "metadata": {},
   "outputs": [
    {
     "data": {
      "image/png": "[encoded data removed]",
      "text/plain": [
       "<Figure size 432x288 with 1 Axes>"
      ]
     },
     "metadata": {
      "needs_background": "light"
     },
     "output_type": "display_data"
    }
   ],
   "source": [
    "plot_data(data, line , y, w)"
   ]
  },
  {
   "cell_type": "markdown",
   "metadata": {},
   "source": [
    "Run experiment:"
   ]
  },
  {
   "cell_type": "code",
   "execution_count": 6,
   "metadata": {},
   "outputs": [],
   "source": [
    "def problems_7_to_10(N, trials=1000, maxits=1000, N_test=100000):\n",
    "    iters = np.zeros(trials)\n",
    "    errors = np.zeros(trials)\n",
    "    trial = 1\n",
    "    while (trial < trials):\n",
    "        line = make_line()\n",
    "        data = make_data_set(N)\n",
    "        y = classify_input(line, data)\n",
    "        w, i = pla(data, y, maxits)\n",
    "        error = classification_error(w, N_test, line)\n",
    "        iters[trial] = i\n",
    "        errors[trial] = error\n",
    "        trial += 1\n",
    "    iter_mean = np.mean(iters)\n",
    "    iter_std = np.std(iters)\n",
    "    iter_median = np.median(iters)\n",
    "    error_mean = np.mean(errors)\n",
    "    error_std = np.std(errors)\n",
    "    error_median = np.median(errors)\n",
    "    print(f\"iter: mean={iter_mean:.2f}, std={iter_std:.2f}, \\\n",
    "median={iter_median:.2f}\")\n",
    "    print(f\"error: mean={error_mean:.2f}, std={error_std:.2f}, \\\n",
    "median={error_median:.2f}\")\n",
    "    return"
   ]
  },
  {
   "cell_type": "code",
   "execution_count": 7,
   "metadata": {},
   "outputs": [
    {
     "name": "stdout",
     "output_type": "stream",
     "text": [
      "iter: mean=10.15, std=18.66, median=6.00\n",
      "error: mean=0.11, std=0.07, median=0.09\n"
     ]
    }
   ],
   "source": [
    "problems_7_to_10(10)"
   ]
  },
  {
   "cell_type": "markdown",
   "metadata": {},
   "source": [
    "Answer is [b].\n",
    "\n",
    "---"
   ]
  },
  {
   "cell_type": "markdown",
   "metadata": {},
   "source": [
    "<img src=\"hw1_images/hw1p8a.png\">\n",
    "<img src=\"hw1_images/hw1p8b.png\">"
   ]
  },
  {
   "cell_type": "markdown",
   "metadata": {},
   "source": [
    "**Answer:**\n",
    "\n",
    "Answer is [c].\n",
    "\n",
    "---"
   ]
  },
  {
   "cell_type": "markdown",
   "metadata": {},
   "source": [
    "<img src=\"hw1_images/hw1p9.png\">"
   ]
  },
  {
   "cell_type": "markdown",
   "metadata": {},
   "source": [
    "**Answer:**"
   ]
  },
  {
   "cell_type": "code",
   "execution_count": 8,
   "metadata": {},
   "outputs": [
    {
     "name": "stdout",
     "output_type": "stream",
     "text": [
      "iter: mean=105.24, std=148.71, median=60.00\n",
      "error: mean=0.01, std=0.01, median=0.01\n"
     ]
    }
   ],
   "source": [
    "problems_7_to_10(100)"
   ]
  },
  {
   "cell_type": "markdown",
   "metadata": {},
   "source": [
    "Answer is [b].\n",
    "\n",
    "---"
   ]
  },
  {
   "cell_type": "markdown",
   "metadata": {},
   "source": [
    "<img src=\"hw1_images/hw1p10.png\">"
   ]
  },
  {
   "cell_type": "markdown",
   "metadata": {},
   "source": [
    "**Answer:**\n",
    "\n",
    "Answer is [b].\n",
    "\n",
    "---"
   ]
  }
 ],
 "metadata": {
  "kernelspec": {
   "display_name": "Python 3",
   "language": "python",
   "name": "python3"
  },
  "language_info": {
   "codemirror_mode": {
    "name": "ipython",
    "version": 3
   },
   "file_extension": ".py",
   "mimetype": "text/x-python",
   "name": "python",
   "nbconvert_exporter": "python",
   "pygments_lexer": "ipython3",
   "version": "3.8.2"
  }
 },
 "nbformat": 4,
 "nbformat_minor": 4
}
