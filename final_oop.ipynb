{
 "cells": [
  {
   "cell_type": "markdown",
   "metadata": {},
   "source": [
    "# Learning From Data - Final Exam (OOP version)\n",
    "## Ognen Nastov"
   ]
  },
  {
   "cell_type": "markdown",
   "metadata": {},
   "source": [
    "![](final_images/finalp1.png)"
   ]
  },
  {
   "cell_type": "markdown",
   "metadata": {},
   "source": [
    "**Answer:**\n",
    "\n",
    "- For $Q=1$, $z = (1, x_1, x_2)$\n",
    "\n",
    "- For $Q=2$, $z = (1, x_1, x_2, x_1 x_2, x_1^2, x_2^2)$\n",
    "\n",
    "Etc.\n",
    "\n",
    "Not counting the $x_0=1$, when $Q$ increases by $1$, we have additional terms $x_1^i x_2^j$ with $i+j=Q$. The number of such terms is equal to the number of solutions to the equation.\n",
    "\n",
    "Analogous problem: how many ways can $Q$ pieces of candy be divided among $d$ children. Or how many $Q$ indistinguishable stars can be put into $d$ distinguishable bins.\n",
    "\n",
    "Represent the $Q$ candies as `*`, and represent the dividers specifying the bins as `|`. There are $d$ bins, thus there are $d-1$ dividers.\n",
    "\n",
    "E.g. for $Q=2$ and $d=2$, the set of configurations is: \\{`**|` , `*|*` , `|**`\\} which has 3 elements.\n",
    "\n",
    "The number of total objects (stars and dividers) is $Q+d-1$. Choosing the positions of the dividers leaves exactly $Q$ positions left for the stars. Thus, the number of different configurations is given by the $Q$ combinations of $Q+d-1$ configurations, i.e.\n",
    "\n",
    "$$\\text{# of ways} = \\binom{Q+d-1}{d-1} = \\frac{(Q+d-1)!}{Q! (d-1)!}$$\n",
    "\n",
    "If $d=2$, # ways = $\\binom{Q+d-1}{d-1} = Q+1$\n",
    "\n",
    "The total number of terms for $Q=10$ is therefore the sum $2+3+...+11$, i.e.\n",
    "\n",
    "$$\\text{dimensionality of Z} = \\sum_{i=2}^{11} i  = \\sum_{i=1}^{11} i - 1 = \\frac{11*12}{2} - 1 = 65$$\n",
    "\n",
    "The answer is none of the above, i.e. [e].\n",
    "\n",
    "---\n",
    "\n",
    "Problem 1 alternate answer:\n",
    "\n",
    "Dimensionality of poly transform of order $Q$ is given by $\\tilde{d} = \\frac{Q(Q+3)}{2} = \\frac{10*13}{2} = 65$\n",
    "\n",
    "(See book pp. 104 for reference.)\n",
    "\n",
    "---"
   ]
  },
  {
   "cell_type": "markdown",
   "metadata": {},
   "source": [
    "![](final_images/finalp2.png)"
   ]
  },
  {
   "cell_type": "markdown",
   "metadata": {},
   "source": [
    "**Answer:**\n",
    "\n",
    "[a] A singleton $H$ with one hypothesis $h$, has $\\bar{g} = h$, thus $\\bar{g} \\in H$.\n",
    "\n",
    "[b] For $H$ being the set of all constant real valued hypotheses, the average of any number of $h \\in H$ will result also in a constant real valued hypothesis from the set, thus $\\bar{g} \\in H$.\n",
    "\n",
    "[c] For $H$ being the linear regression model, $h(x) = w^T x$. The average of these linear functions is also a linear function:\n",
    "\n",
    "$$\\bar{g}(x) = \\frac{1}{2}(h_1(x) + h_2(x)) = \\frac{1}{2}(w_1^T x + w_2^T x) = \\frac{1}{2}(w_1^T + w_2^T)x$$\n",
    "\n",
    "[d] For $H$ being the logistic regression model, $h(x) = \\theta(w^T x)$ with $\\theta(s) = \\frac{e^s}{1+e^s}$:\n",
    "\n",
    "$$h(x) = \\frac{e^{w^T x}}{1+e^{w^T x}}$$\n",
    "\n",
    "For the average $\\bar{g}(x) = \\frac{1}{2}(h_1(x) + h_2(x))$ to be representable as a logistic regression model, we need:\n",
    "\n",
    "$$\\bar{g}(x) = \\frac{1}{2}(h_1(x) + h_2(x)) = \\frac{1}{2} \\left( \\frac{e^{w_1^T x}}{1+e^{w_1^T x}} + \\frac{e^{w_2^T x}}{1+e^{w_2^T x}} \\right)$$\n",
    "\n",
    "to be equal to:\n",
    "\n",
    "$$\\frac{e^{w^T x}}{1+e^{w^T x}}$$\n",
    "\n",
    "which will not always be the case, and $\\bar{g} \\notin H$.\n",
    "\n",
    "Thus, answer is [d].\n",
    "\n",
    "---"
   ]
  },
  {
   "cell_type": "markdown",
   "metadata": {},
   "source": [
    "![](final_images/finalp3.png)"
   ]
  },
  {
   "cell_type": "markdown",
   "metadata": {},
   "source": [
    "**Answer:**\n",
    "\n",
    "[a] True.\n",
    "\n",
    "[b] True.\n",
    "\n",
    "[c] True.\n",
    "\n",
    "[d] False.\n",
    "\n",
    "[e] True.\n",
    "\n",
    "The answer is [d].\n",
    "\n",
    "---"
   ]
  },
  {
   "cell_type": "markdown",
   "metadata": {},
   "source": [
    "![](final_images/finalp4.png)"
   ]
  },
  {
   "cell_type": "markdown",
   "metadata": {},
   "source": [
    "**Answer:**\n",
    "\n",
    "[a] False.\n",
    "\n",
    "[b] False.\n",
    "\n",
    "[c] False.\n",
    "\n",
    "[d] True.\n",
    "\n",
    "[e] False.\n",
    "\n",
    "The answer is [d].\n",
    "\n",
    "---"
   ]
  },
  {
   "cell_type": "markdown",
   "metadata": {},
   "source": [
    "![](final_images/finalp5.png)"
   ]
  },
  {
   "cell_type": "markdown",
   "metadata": {},
   "source": [
    "**Answer:**\n",
    "\n",
    "$w_{lin}$ is the solution to the unconstrained minimization problem:\n",
    "\n",
    "$$\\min \\frac{1}{N} \\sum_{n=1}^N (w^T x_n - y_n)^2$$\n",
    "\n",
    "$w_{reg}$ is the solution to the constrained minimization problem:\n",
    "\n",
    "$$\\min \\frac{1}{N} \\sum_{n=1}^N (w^T x_n - y_n)^2$$ \n",
    "\n",
    "subject to $w^T \\Gamma^T \\Gamma w \\leq C$\n",
    "\n",
    "If $w_{lin}^T \\Gamma^T \\Gamma w_{lin} \\leq C$, meaning $w_{lin}$ satisfies the constraint in the constrained problem, then $w_{lin}$ is the solution to the constrained problem.\n",
    "\n",
    "It follows that $w_{lin} = w_{reg}$.\n",
    "\n",
    "Answer is [a].\n",
    "\n",
    "---"
   ]
  },
  {
   "cell_type": "markdown",
   "metadata": {},
   "source": [
    "![](final_images/finalp6.png)"
   ]
  },
  {
   "cell_type": "markdown",
   "metadata": {},
   "source": [
    "[a] written as hard-order constraints.\n",
    "\n",
    "- Not true as the soft order constraint does not limit the orders.\n",
    "\n",
    "[b] translated into augmented error. \n",
    "\n",
    "- This is true as the constrained problem is equivalent to the augmented error unconstrained problem. The soft-order constraint in the constrained problem becomes a penalty term in the augmented error unconstrained problem.\n",
    "\n",
    "[c] determined from the value of the VC dimension.\n",
    "\n",
    "- Not true. \n",
    "\n",
    "[d] used to decrease both $E_{in}$ and $E_{out}$.\n",
    "\n",
    "- Not true. It is used to decrease both $E_{out}$ (avoid overfitting) and the augmented error $E_{aug}$. The $E_{in}$ may increase.\n",
    " \n",
    "[e] None of the above is true.\n",
    "\n",
    "- Not true.\n",
    "\n",
    "Answer is [b].\n",
    "\n",
    "\n",
    "---"
   ]
  },
  {
   "cell_type": "markdown",
   "metadata": {},
   "source": [
    "![](final_images/finalp7a.png)\n",
    "![](final_images/finalp7b.png)"
   ]
  },
  {
   "cell_type": "markdown",
   "metadata": {},
   "source": [
    "**Answer:**"
   ]
  },
  {
   "cell_type": "code",
   "execution_count": 1,
   "metadata": {},
   "outputs": [],
   "source": [
    "import numpy as np\n",
    "import matplotlib.pyplot as plt\n",
    "import seaborn as sns; sns.set()d\n",
    "import time\n",
    "from sklearn import svm\n",
    "import pandas as pd\n",
    "from cvxopt import matrix, solvers"
   ]
  },
  {
   "cell_type": "code",
   "execution_count": 2,
   "metadata": {},
   "outputs": [],
   "source": [
    "# problems 7-10\n",
    "# linear regression for classification with regularization\n",
    "\n",
    "# load training and test sets into pandas dataframes\n",
    "def load_data():\n",
    "    column_names = [\"digit\", \"intensity\", \"symmetry\"]\n",
    "    sep = '\\s+'\n",
    "    data_train = pd.read_csv(\n",
    "            \"http://www.amlbook.com/data/zip/features.train\", \\\n",
    "            sep=sep, names=column_names)\n",
    "    data_test = pd.read_csv(\n",
    "            \"http://www.amlbook.com/data/zip/features.test\", \\\n",
    "            sep=sep, names=column_names)\n",
    "    return data_train, data_test\n",
    "\n",
    "data_train, data_test = load_data()"
   ]
  },
  {
   "cell_type": "code",
   "execution_count": 3,
   "metadata": {},
   "outputs": [],
   "source": [
    "# output labels for classifiers\n",
    "classifiers_one_vs_all = dict({\n",
    "        \"0_vs_all\": 0,\n",
    "        \"1_vs_all\": 1,\n",
    "        \"2_vs_all\": 2,\n",
    "        \"3_vs_all\": 3,\n",
    "        \"4_vs_all\": 4,\n",
    "        \"5_vs_all\": 5,\n",
    "        \"6_vs_all\": 6,\n",
    "        \"7_vs_all\": 7,\n",
    "        \"8_vs_all\": 8,\n",
    "        \"9_vs_all\": 9\n",
    "        })\n",
    "\n",
    "classifier_1_vs_5 = {\"1_vs_5\": [1,5]}"
   ]
  },
  {
   "cell_type": "code",
   "execution_count": 4,
   "metadata": {},
   "outputs": [],
   "source": [
    "# make one-vs-all dataframe\n",
    "def make_one_vs_all_df(df, classifiers):\n",
    "    # add binary labels to dataframe\n",
    "    one_vs_all = pd.DataFrame(df, copy=True)\n",
    "    for class_label, digit in classifiers.items():\n",
    "        # get the series for a digit\n",
    "        labels = one_vs_all.loc[one_vs_all[\"digit\"] == digit, \"digit\"]\n",
    "        # change the digit number into 1.0\n",
    "        labels.loc[:] = 1.0\n",
    "        # add a classifier column to the dataframe\n",
    "        one_vs_all[class_label] = labels\n",
    "    # fill in the NaN locations (corresponding to rest of digits) with -1.0    \n",
    "    one_vs_all.fillna(-1.0, inplace=True)\n",
    "    return one_vs_all\n",
    "\n",
    "data_train_one_vs_all = make_one_vs_all_df(data_train, classifiers_one_vs_all)\n",
    "data_test_one_vs_all = make_one_vs_all_df(data_test, classifiers_one_vs_all)"
   ]
  },
  {
   "cell_type": "code",
   "execution_count": 5,
   "metadata": {},
   "outputs": [],
   "source": [
    "# make one-vs-one dataframe\n",
    "# note: this doesn't work for more than one item in the classifiers dictionary\n",
    "def make_one_vs_one_df(df, classifiers):\n",
    "    # add binary labels to dataframe  \n",
    "    for class_label in classifiers.keys():\n",
    "        # get the two digits\n",
    "        digits = classifiers[class_label]\n",
    "        # filter just the rows for the two digits\n",
    "        df_trimmed = df.loc[df[\"digit\"].isin(digits),:]\n",
    "        one_vs_one = pd.DataFrame(df_trimmed, copy=True)\n",
    "        for digit in digits:\n",
    "            # get the series for just the fist digit\n",
    "            labels = one_vs_one.loc[one_vs_one[\"digit\"] == digit, \"digit\"]\n",
    "            # change the digit number into 1.0\n",
    "            labels.loc[:] = 1.0\n",
    "            # add a classifier column to the dataframe\n",
    "            one_vs_one[class_label] = labels\n",
    "            # ignore the second digit\n",
    "            break\n",
    "    # fill in the NaN locations (corresponding to second digit) with -1.0    \n",
    "    one_vs_one.fillna(-1.0, inplace=True)\n",
    "    return one_vs_one\n",
    "\n",
    "data_train_1_vs_5 = make_one_vs_one_df(data_train, classifier_1_vs_5)\n",
    "data_test_1_vs_5 = make_one_vs_one_df(data_test, classifier_1_vs_5)"
   ]
  },
  {
   "cell_type": "code",
   "execution_count": 6,
   "metadata": {},
   "outputs": [],
   "source": [
    "# make the data set for a specific classifier\n",
    "def make_data_set(df, class_label):\n",
    "    inputs = np.array(df.loc[:, [\"intensity\", \"symmetry\"]])\n",
    "    outputs = np.array(df.loc[:, class_label])\n",
    "    data = np.column_stack((inputs, outputs))\n",
    "    return data"
   ]
  },
  {
   "cell_type": "code",
   "execution_count": 7,
   "metadata": {},
   "outputs": [],
   "source": [
    "# regularized least-squares linear regression for classiﬁcation\n",
    "class LinearRegression:\n",
    "    \n",
    "    def __init__(self, transform=False):\n",
    "        self.transform = transform\n",
    "        return\n",
    "    \n",
    "    def fit(self, inputs, outputs, _lambda=1.0):    \n",
    "        # get inputs and outputs\n",
    "        Z = self.transform_inputs(inputs)\n",
    "        y = outputs\n",
    "        # linear regression solution with regularization\n",
    "        d = np.size(Z, axis=1)\n",
    "        Z_pinv = np.linalg.inv(Z.T@Z + _lambda*np.eye(d))@Z.T\n",
    "        weights = np.dot(Z_pinv, y)\n",
    "        return weights\n",
    "    \n",
    "    def binary_error(self, weights, inputs, outputs):    \n",
    "        Z = self.transform_inputs(inputs)\n",
    "        y = outputs\n",
    "        g = [np.sign(np.dot(weights.T, z)) for z in Z]\n",
    "        return np.count_nonzero(g != y) / len(y)        \n",
    "         \n",
    "    # private\n",
    "    def transform_inputs(self, inputs):\n",
    "        ones = np.ones(len(inputs)).reshape(len(inputs), 1)\n",
    "        x1 = inputs[:, 0].reshape(len(inputs), 1)\n",
    "        x2 = inputs[:, 1].reshape(len(inputs), 1)\n",
    "        if self.transform:\n",
    "            return np.concatenate((ones, x1, x2, x1*x2, x1**2, x2**2), axis=1)\n",
    "        else:\n",
    "            return np.concatenate((ones, x1, x2), axis=1)"
   ]
  },
  {
   "cell_type": "code",
   "execution_count": 8,
   "metadata": {},
   "outputs": [],
   "source": [
    "# compute E_in and E_out\n",
    "def in_out_sample_errors(classifiers, data_train, data_test=pd.DataFrame(), \n",
    "                         _lambda=1.0, transform=False):\n",
    "    results = [] \n",
    "    for class_label in classifiers.keys():\n",
    "            # get training data\n",
    "            data_set_train = make_data_set(data_train, class_label)\n",
    "            inputs_train = data_set_train[:, 0:2]\n",
    "            outputs_train = data_set_train[:, 2]          \n",
    "            # fit the model\n",
    "            lr = LinearRegression(transform)\n",
    "            weights = lr.fit(inputs_train, outputs_train, _lambda)         \n",
    "            # compute in-sample error\n",
    "            E_in = lr.binary_error(weights, inputs_train, outputs_train)       \n",
    "            # get testing data\n",
    "            E_out = None\n",
    "            if not data_test.empty:\n",
    "                data_set_test = make_data_set(data_test, class_label)\n",
    "                inputs_test = data_set_test[:, 0:2]\n",
    "                outputs_test = data_set_test[:, 2]       \n",
    "                # compute out-of-sample error\n",
    "                E_out =  lr.binary_error(weights, inputs_test, outputs_test) \n",
    "            # add to results\n",
    "            result = {\"classifier\": class_label,\n",
    "                      \"transform\": transform,\n",
    "                      \"lambda\": _lambda,\n",
    "                      \"E_in\": E_in,\n",
    "                      \"E_out\": E_out}\n",
    "            results.append(result)\n",
    "    return results"
   ]
  },
  {
   "cell_type": "code",
   "execution_count": 9,
   "metadata": {},
   "outputs": [],
   "source": [
    "results = in_out_sample_errors(classifiers_one_vs_all, data_train_one_vs_all, data_test_one_vs_all, \n",
    "                               _lambda=1.0, transform=False)"
   ]
  },
  {
   "cell_type": "code",
   "execution_count": 10,
   "metadata": {},
   "outputs": [
    {
     "data": {
      "text/html": [
       "<div>\n",
       "<style scoped>\n",
       "    .dataframe tbody tr th:only-of-type {\n",
       "        vertical-align: middle;\n",
       "    }\n",
       "\n",
       "    .dataframe tbody tr th {\n",
       "        vertical-align: top;\n",
       "    }\n",
       "\n",
       "    .dataframe thead th {\n",
       "        text-align: right;\n",
       "    }\n",
       "</style>\n",
       "<table border=\"1\" class=\"dataframe\">\n",
       "  <thead>\n",
       "    <tr style=\"text-align: right;\">\n",
       "      <th></th>\n",
       "      <th>classifier</th>\n",
       "      <th>transform</th>\n",
       "      <th>lambda</th>\n",
       "      <th>E_in</th>\n",
       "      <th>E_out</th>\n",
       "    </tr>\n",
       "  </thead>\n",
       "  <tbody>\n",
       "    <tr>\n",
       "      <td>0</td>\n",
       "      <td>0_vs_all</td>\n",
       "      <td>False</td>\n",
       "      <td>1.0</td>\n",
       "      <td>0.109313</td>\n",
       "      <td>0.115097</td>\n",
       "    </tr>\n",
       "    <tr>\n",
       "      <td>1</td>\n",
       "      <td>1_vs_all</td>\n",
       "      <td>False</td>\n",
       "      <td>1.0</td>\n",
       "      <td>0.015224</td>\n",
       "      <td>0.022422</td>\n",
       "    </tr>\n",
       "    <tr>\n",
       "      <td>2</td>\n",
       "      <td>2_vs_all</td>\n",
       "      <td>False</td>\n",
       "      <td>1.0</td>\n",
       "      <td>0.100261</td>\n",
       "      <td>0.098655</td>\n",
       "    </tr>\n",
       "    <tr>\n",
       "      <td>3</td>\n",
       "      <td>3_vs_all</td>\n",
       "      <td>False</td>\n",
       "      <td>1.0</td>\n",
       "      <td>0.090248</td>\n",
       "      <td>0.082711</td>\n",
       "    </tr>\n",
       "    <tr>\n",
       "      <td>4</td>\n",
       "      <td>4_vs_all</td>\n",
       "      <td>False</td>\n",
       "      <td>1.0</td>\n",
       "      <td>0.089425</td>\n",
       "      <td>0.099651</td>\n",
       "    </tr>\n",
       "    <tr>\n",
       "      <td>5</td>\n",
       "      <td>5_vs_all</td>\n",
       "      <td>False</td>\n",
       "      <td>1.0</td>\n",
       "      <td>0.076258</td>\n",
       "      <td>0.079721</td>\n",
       "    </tr>\n",
       "    <tr>\n",
       "      <td>6</td>\n",
       "      <td>6_vs_all</td>\n",
       "      <td>False</td>\n",
       "      <td>1.0</td>\n",
       "      <td>0.091071</td>\n",
       "      <td>0.084704</td>\n",
       "    </tr>\n",
       "    <tr>\n",
       "      <td>7</td>\n",
       "      <td>7_vs_all</td>\n",
       "      <td>False</td>\n",
       "      <td>1.0</td>\n",
       "      <td>0.088465</td>\n",
       "      <td>0.073244</td>\n",
       "    </tr>\n",
       "    <tr>\n",
       "      <td>8</td>\n",
       "      <td>8_vs_all</td>\n",
       "      <td>False</td>\n",
       "      <td>1.0</td>\n",
       "      <td>0.074338</td>\n",
       "      <td>0.082711</td>\n",
       "    </tr>\n",
       "    <tr>\n",
       "      <td>9</td>\n",
       "      <td>9_vs_all</td>\n",
       "      <td>False</td>\n",
       "      <td>1.0</td>\n",
       "      <td>0.088328</td>\n",
       "      <td>0.088191</td>\n",
       "    </tr>\n",
       "  </tbody>\n",
       "</table>\n",
       "</div>"
      ],
      "text/plain": [
       "  classifier  transform  lambda      E_in     E_out\n",
       "0   0_vs_all      False     1.0  0.109313  0.115097\n",
       "1   1_vs_all      False     1.0  0.015224  0.022422\n",
       "2   2_vs_all      False     1.0  0.100261  0.098655\n",
       "3   3_vs_all      False     1.0  0.090248  0.082711\n",
       "4   4_vs_all      False     1.0  0.089425  0.099651\n",
       "5   5_vs_all      False     1.0  0.076258  0.079721\n",
       "6   6_vs_all      False     1.0  0.091071  0.084704\n",
       "7   7_vs_all      False     1.0  0.088465  0.073244\n",
       "8   8_vs_all      False     1.0  0.074338  0.082711\n",
       "9   9_vs_all      False     1.0  0.088328  0.088191"
      ]
     },
     "execution_count": 10,
     "metadata": {},
     "output_type": "execute_result"
    }
   ],
   "source": [
    "pd.DataFrame(results)"
   ]
  },
  {
   "cell_type": "markdown",
   "metadata": {},
   "source": [
    "Out of the `5_vs_all` through `9_vs_all` classifiers, the lowest `E_in` is found for `8_vs_all`.\n",
    "\n",
    "Answer is [d].\n",
    "\n",
    "---"
   ]
  },
  {
   "cell_type": "markdown",
   "metadata": {},
   "source": [
    "![](final_images/finalp8.png)"
   ]
  },
  {
   "cell_type": "markdown",
   "metadata": {},
   "source": [
    "**Answer:**"
   ]
  },
  {
   "cell_type": "code",
   "execution_count": 11,
   "metadata": {},
   "outputs": [],
   "source": [
    "results2 = in_out_sample_errors(classifiers_one_vs_all, data_train_one_vs_all, data_test_one_vs_all,\n",
    "                                _lambda=1.0, transform=True)"
   ]
  },
  {
   "cell_type": "code",
   "execution_count": 12,
   "metadata": {},
   "outputs": [
    {
     "data": {
      "text/html": [
       "<div>\n",
       "<style scoped>\n",
       "    .dataframe tbody tr th:only-of-type {\n",
       "        vertical-align: middle;\n",
       "    }\n",
       "\n",
       "    .dataframe tbody tr th {\n",
       "        vertical-align: top;\n",
       "    }\n",
       "\n",
       "    .dataframe thead th {\n",
       "        text-align: right;\n",
       "    }\n",
       "</style>\n",
       "<table border=\"1\" class=\"dataframe\">\n",
       "  <thead>\n",
       "    <tr style=\"text-align: right;\">\n",
       "      <th></th>\n",
       "      <th>classifier</th>\n",
       "      <th>transform</th>\n",
       "      <th>lambda</th>\n",
       "      <th>E_in</th>\n",
       "      <th>E_out</th>\n",
       "    </tr>\n",
       "  </thead>\n",
       "  <tbody>\n",
       "    <tr>\n",
       "      <td>0</td>\n",
       "      <td>0_vs_all</td>\n",
       "      <td>True</td>\n",
       "      <td>1.0</td>\n",
       "      <td>0.102318</td>\n",
       "      <td>0.106627</td>\n",
       "    </tr>\n",
       "    <tr>\n",
       "      <td>1</td>\n",
       "      <td>1_vs_all</td>\n",
       "      <td>True</td>\n",
       "      <td>1.0</td>\n",
       "      <td>0.012344</td>\n",
       "      <td>0.021923</td>\n",
       "    </tr>\n",
       "    <tr>\n",
       "      <td>2</td>\n",
       "      <td>2_vs_all</td>\n",
       "      <td>True</td>\n",
       "      <td>1.0</td>\n",
       "      <td>0.100261</td>\n",
       "      <td>0.098655</td>\n",
       "    </tr>\n",
       "    <tr>\n",
       "      <td>3</td>\n",
       "      <td>3_vs_all</td>\n",
       "      <td>True</td>\n",
       "      <td>1.0</td>\n",
       "      <td>0.090248</td>\n",
       "      <td>0.082711</td>\n",
       "    </tr>\n",
       "    <tr>\n",
       "      <td>4</td>\n",
       "      <td>4_vs_all</td>\n",
       "      <td>True</td>\n",
       "      <td>1.0</td>\n",
       "      <td>0.089425</td>\n",
       "      <td>0.099651</td>\n",
       "    </tr>\n",
       "    <tr>\n",
       "      <td>5</td>\n",
       "      <td>5_vs_all</td>\n",
       "      <td>True</td>\n",
       "      <td>1.0</td>\n",
       "      <td>0.076258</td>\n",
       "      <td>0.079223</td>\n",
       "    </tr>\n",
       "    <tr>\n",
       "      <td>6</td>\n",
       "      <td>6_vs_all</td>\n",
       "      <td>True</td>\n",
       "      <td>1.0</td>\n",
       "      <td>0.091071</td>\n",
       "      <td>0.084704</td>\n",
       "    </tr>\n",
       "    <tr>\n",
       "      <td>7</td>\n",
       "      <td>7_vs_all</td>\n",
       "      <td>True</td>\n",
       "      <td>1.0</td>\n",
       "      <td>0.088465</td>\n",
       "      <td>0.073244</td>\n",
       "    </tr>\n",
       "    <tr>\n",
       "      <td>8</td>\n",
       "      <td>8_vs_all</td>\n",
       "      <td>True</td>\n",
       "      <td>1.0</td>\n",
       "      <td>0.074338</td>\n",
       "      <td>0.082711</td>\n",
       "    </tr>\n",
       "    <tr>\n",
       "      <td>9</td>\n",
       "      <td>9_vs_all</td>\n",
       "      <td>True</td>\n",
       "      <td>1.0</td>\n",
       "      <td>0.088328</td>\n",
       "      <td>0.088191</td>\n",
       "    </tr>\n",
       "  </tbody>\n",
       "</table>\n",
       "</div>"
      ],
      "text/plain": [
       "  classifier  transform  lambda      E_in     E_out\n",
       "0   0_vs_all       True     1.0  0.102318  0.106627\n",
       "1   1_vs_all       True     1.0  0.012344  0.021923\n",
       "2   2_vs_all       True     1.0  0.100261  0.098655\n",
       "3   3_vs_all       True     1.0  0.090248  0.082711\n",
       "4   4_vs_all       True     1.0  0.089425  0.099651\n",
       "5   5_vs_all       True     1.0  0.076258  0.079223\n",
       "6   6_vs_all       True     1.0  0.091071  0.084704\n",
       "7   7_vs_all       True     1.0  0.088465  0.073244\n",
       "8   8_vs_all       True     1.0  0.074338  0.082711\n",
       "9   9_vs_all       True     1.0  0.088328  0.088191"
      ]
     },
     "execution_count": 12,
     "metadata": {},
     "output_type": "execute_result"
    }
   ],
   "source": [
    "pd.DataFrame(results2)"
   ]
  },
  {
   "cell_type": "markdown",
   "metadata": {},
   "source": [
    "Out of the `0_vs_all` through `4_vs_all` classifiers, the lowest `E_out` is found for `1_vs_all`.\n",
    "\n",
    "Answer is [b].\n",
    "\n",
    "---"
   ]
  },
  {
   "cell_type": "markdown",
   "metadata": {},
   "source": [
    "![](final_images/finalp9a.png)\n",
    "![](final_images/finalp9b.png)"
   ]
  },
  {
   "cell_type": "markdown",
   "metadata": {},
   "source": [
    "**Answer:**\n",
    "\n",
    "[a] Overfitting always occurs when we use the transform. \n",
    "\n",
    "- Not true.\n",
    "\n",
    "[b] The transform always improves the out-of-sample performance by at least 5% ($E_{out}$ with transform $ \\leq 0.95E_{out}$ without transform).\n",
    "\n",
    "- Let's check:"
   ]
  },
  {
   "cell_type": "code",
   "execution_count": 13,
   "metadata": {},
   "outputs": [
    {
     "data": {
      "text/plain": [
       "0    7.359307\n",
       "1    2.222222\n",
       "2    0.000000\n",
       "3    0.000000\n",
       "4    0.000000\n",
       "5    0.625000\n",
       "6    0.000000\n",
       "7    0.000000\n",
       "8    0.000000\n",
       "9    0.000000\n",
       "Name: E_out, dtype: float64"
      ]
     },
     "execution_count": 13,
     "metadata": {},
     "output_type": "execute_result"
    }
   ],
   "source": [
    "100*(pd.DataFrame(results)['E_out'] - pd.DataFrame(results2)['E_out'])/pd.DataFrame(results)['E_out']"
   ]
  },
  {
   "cell_type": "markdown",
   "metadata": {},
   "source": [
    "- Not true: there is improvement in `E_out` only for `0_vs_all`, `1_vs_all`, and `5_vs_all`.\n",
    "\n",
    "[c] The transform does not make any difference in the out-of-sample performance. \n",
    "\n",
    "- Not true: There is improvement in `E_out` for `0_vs_all`, `1_vs_all`, and `5_vs_all`. \n",
    "\n",
    "[d] The transform always worsens the out-of-sample performance by at least 5%. \n",
    "\n",
    "- Not true.\n",
    "\n",
    "[e] The transform improves the out-of-sample performance of ‘5 versus all,’ but by less than 5%. \n",
    "\n",
    "- True, as the `5_vs_all` `E_out` performance is improved by 0.625%.\n",
    "\n",
    "Answer is [e].\n",
    "\n",
    "---"
   ]
  },
  {
   "cell_type": "markdown",
   "metadata": {},
   "source": [
    "![](final_images/finalp10.png)"
   ]
  },
  {
   "cell_type": "markdown",
   "metadata": {},
   "source": [
    "**Answer:**"
   ]
  },
  {
   "cell_type": "markdown",
   "metadata": {},
   "source": [
    "For $\\lambda = 1$:"
   ]
  },
  {
   "cell_type": "code",
   "execution_count": 14,
   "metadata": {},
   "outputs": [
    {
     "name": "stdout",
     "output_type": "stream",
     "text": [
      "  classifier  transform  lambda      E_in     E_out\n",
      "0     1_vs_5       True     1.0  0.005125  0.025943\n"
     ]
    }
   ],
   "source": [
    "result3 = in_out_sample_errors(classifier_1_vs_5, data_train_1_vs_5, data_test_1_vs_5, _lambda=1.0, transform=True)\n",
    "print(pd.DataFrame(result3))"
   ]
  },
  {
   "cell_type": "markdown",
   "metadata": {},
   "source": [
    "For $\\lambda = 0.01$:"
   ]
  },
  {
   "cell_type": "code",
   "execution_count": 15,
   "metadata": {},
   "outputs": [
    {
     "name": "stdout",
     "output_type": "stream",
     "text": [
      "  classifier  transform  lambda      E_in     E_out\n",
      "0     1_vs_5       True    0.01  0.004484  0.028302\n"
     ]
    }
   ],
   "source": [
    "result4 = in_out_sample_errors(classifier_1_vs_5, data_train_1_vs_5, data_test_1_vs_5, _lambda=0.01, transform=True)\n",
    "print(pd.DataFrame(result4))"
   ]
  },
  {
   "cell_type": "markdown",
   "metadata": {},
   "source": [
    "[a] Overfitting occurs (from $\\lambda=1$ to $\\lambda=0.01$). \n",
    "\n",
    "- This is true as `E_out` increases.\n",
    "\n",
    "[b] The two classifiers have the same $E_{in}$.\n",
    "\n",
    "- Not true.\n",
    "\n",
    "[c] The two classifiers have the same $E_{out}$.\n",
    "\n",
    "- Not true.\n",
    "\n",
    "[d] When $\\lambda$ goes up, both $E_{in}$ and $E_{out}$ go up.\n",
    "\n",
    "- Not true. When `lambda` ⬆️, `E_in` ⬆️, and `E_out` ⬇️.\n",
    "\n",
    "[e] When $\\lambda$ goes up, both $E_{in}$ and $E_{out}$ go down.\n",
    "\n",
    "- Not true. When `lambda` ⬆️, `E_in` ⬆️, and `E_out` ⬇️.\n",
    "\n",
    "Answer is [a].\n",
    "\n",
    "---"
   ]
  },
  {
   "cell_type": "markdown",
   "metadata": {},
   "source": [
    "![](final_images/finalp11.png)"
   ]
  },
  {
   "cell_type": "markdown",
   "metadata": {},
   "source": [
    "**Answer:**"
   ]
  },
  {
   "cell_type": "code",
   "execution_count": 16,
   "metadata": {},
   "outputs": [],
   "source": [
    "# Support Vector Machines\n",
    "    \n",
    "# data set for problems 11-12\n",
    "def get_training_set():\n",
    "    return np.array([1., 0., -1.,\n",
    "                     0., 1., -1.,\n",
    "                     0., -1., -1.,\n",
    "                     -1., 0., 1.,\n",
    "                     0., 2., 1.,\n",
    "                     0., -2., 1.,\n",
    "                     -2., 0., 1.]).reshape(7, 3)\n",
    "    \n",
    "train_data = get_training_set()\n",
    "train_inputs = train_data[:, 0:2]\n",
    "train_outputs = train_data[:, 2]"
   ]
  },
  {
   "cell_type": "code",
   "execution_count": 17,
   "metadata": {},
   "outputs": [],
   "source": [
    "def transform_inputs(inputs):\n",
    "    x1 = inputs[:, 0].reshape(len(inputs), 1)\n",
    "    x2 = inputs[:, 1].reshape(len(inputs), 1)\n",
    "    return np.concatenate((x2**2 - 2*x1 - 1, x1**2 - 2*x2 + 1), axis=1)\n",
    "    \n",
    "train_inputs_transformed = transform_inputs(train_inputs)"
   ]
  },
  {
   "cell_type": "code",
   "execution_count": 18,
   "metadata": {},
   "outputs": [],
   "source": [
    "# problem 11\n",
    "# labels to the plots use tex rendering\n",
    "def plot_data(features, label, features_names=['$x_{1}$', '$x_{2}$'],\n",
    "              plot_hyperplanes=False):\n",
    "    plt.scatter(features[:, 0], features[:, 1], c=label, cmap='rainbow');\n",
    "    plt.xlabel(features_names[0]);\n",
    "    plt.ylabel(features_names[1]);\n",
    "    if plot_hyperplanes:\n",
    "        eps = 1e-12 # to prevent divide by zero\n",
    "        xfit = np.linspace(-3.5, 3.5)\n",
    "        for w1, w2, b in [(-1., 1., -0.5), (1., -1., -0.5), (1., 0., -0.5), \n",
    "                          (0., 1., -0.5)]:\n",
    "            slope = -w1 / (w2+eps)\n",
    "            intercept = -b / (w2+eps)\n",
    "            yfit =  slope * xfit + intercept\n",
    "            plt.plot(xfit, yfit, label=f\"w1 = {w1}, w2 = {w2}, b = {b}\")\n",
    "            plt.legend(loc='upper left')\n",
    "        plt.xlim(-3.5, 3.5);\n",
    "        plt.ylim(-3.5, 5.5);"
   ]
  },
  {
   "cell_type": "markdown",
   "metadata": {},
   "source": [
    "The hyperplane separates the data only if for $n = 1,\\cdots,7$:\n",
    "\n",
    "$$y_n(w^T z + b) > 0$$ ."
   ]
  },
  {
   "cell_type": "code",
   "execution_count": 19,
   "metadata": {},
   "outputs": [
    {
     "data": {
      "image/png": "[encoded data removed]",
      "text/plain": [
       "<Figure size 432x288 with 1 Axes>"
      ]
     },
     "metadata": {
      "needs_background": "light"
     },
     "output_type": "display_data"
    }
   ],
   "source": [
    "plot_data(train_inputs, train_outputs)"
   ]
  },
  {
   "cell_type": "markdown",
   "metadata": {},
   "source": [
    "It can be seen the original training data in $X$ space is not linearly separable."
   ]
  },
  {
   "cell_type": "code",
   "execution_count": 20,
   "metadata": {},
   "outputs": [
    {
     "data": {
      "image/png": "[encoded data removed]",
      "text/plain": [
       "<Figure size 432x288 with 1 Axes>"
      ]
     },
     "metadata": {
      "needs_background": "light"
     },
     "output_type": "display_data"
    }
   ],
   "source": [
    "plot_data(train_inputs_transformed, train_outputs, features_names=['$z_{1}$', '$z_{2}$'])"
   ]
  },
  {
   "cell_type": "markdown",
   "metadata": {},
   "source": [
    "The transformed training data in $Z$ space is now linearly separable.\n",
    "\n",
    "Plot the 4 hyperplanes for [a] through [d]:"
   ]
  },
  {
   "cell_type": "code",
   "execution_count": 21,
   "metadata": {},
   "outputs": [
    {
     "data": {
      "image/png": "[encoded data removed]",
      "text/plain": [
       "<Figure size 432x288 with 1 Axes>"
      ]
     },
     "metadata": {
      "needs_background": "light"
     },
     "output_type": "display_data"
    }
   ],
   "source": [
    "plot_data(train_inputs_transformed, train_outputs, features_names=['$z_{1}$', '$z_{2}$'], plot_hyperplanes=True)"
   ]
  },
  {
   "cell_type": "markdown",
   "metadata": {},
   "source": [
    "From the plot the only hyperplane that separates the data is [c].\n",
    "\n",
    "- It is orthogonal to the weight vector $w = [1.0, 0.0]$. \n",
    "\n",
    "- It separates the data with the maximum margin (as it bisects the closest points of the two classes), and that margin is 1.\n",
    "\n",
    "=> Answer is [c].\n",
    "\n",
    "---"
   ]
  },
  {
   "cell_type": "markdown",
   "metadata": {},
   "source": [
    "![](final_images/finalp12.png)"
   ]
  },
  {
   "cell_type": "markdown",
   "metadata": {},
   "source": [
    "**Answer:**\n",
    "\n",
    "Implement hard margin SVM with the polynomial kernel using the `sklearn (libsvm)` package:"
   ]
  },
  {
   "cell_type": "code",
   "execution_count": 22,
   "metadata": {},
   "outputs": [],
   "source": [
    "# problem 12\n",
    "# hard margin SVM (set C = 1e10) with poly kernel, use sklearn package\n",
    "# no transform        \n",
    "def svm_hard_poly(Q):\n",
    "    clf = svm.SVC(C=1e10, kernel='poly', degree=Q, gamma=1.0, coef0=1.0)\n",
    "    return clf\n",
    "\n",
    "def problem_12():\n",
    "    clf = svm_hard_poly(2)\n",
    "    clf.fit(train_inputs, train_outputs)\n",
    "    num_support_vectors = np.size(clf.support_)\n",
    "    support_vectors = clf.support_vectors_\n",
    "    # dual_coef_ is the vector of products y_i*alpha_i\n",
    "    # alphas are positive, thus:\n",
    "    sv_outputs = np.sign(clf.dual_coef_)\n",
    "    print(f'b = {clf.intercept_}')\n",
    "    print(f\"alphas = \\n{sv_outputs*clf.dual_coef_}\")\n",
    "    print(f\"support vectors = \\n{support_vectors}\")\n",
    "    print(f\"# support vectors = {num_support_vectors}\")\n",
    "    return num_support_vectors"
   ]
  },
  {
   "cell_type": "code",
   "execution_count": 23,
   "metadata": {},
   "outputs": [
    {
     "name": "stdout",
     "output_type": "stream",
     "text": [
      "b = [-1.66633088]\n",
      "alphas = \n",
      "[[0.59647182 0.81065085 0.8887034  0.20566488 0.31275439]]\n",
      "support vectors = \n",
      "[[ 0.  1.]\n",
      " [ 0. -1.]\n",
      " [-1.  0.]\n",
      " [ 0.  2.]\n",
      " [ 0. -2.]]\n",
      "# support vectors = 5\n"
     ]
    },
    {
     "data": {
      "text/plain": [
       "5"
      ]
     },
     "execution_count": 23,
     "metadata": {},
     "output_type": "execute_result"
    }
   ],
   "source": [
    "problem_12()"
   ]
  },
  {
   "cell_type": "markdown",
   "metadata": {},
   "source": [
    "Answer is [c].\n",
    "\n",
    "---"
   ]
  },
  {
   "cell_type": "markdown",
   "metadata": {},
   "source": [
    "Alternate solution to problem 12: implement hard margin SVM with polynomial or RBF kernel, using the `cvxopt` package.\n",
    "\n",
    "Also used in problems 13, 14, and 15."
   ]
  },
  {
   "cell_type": "code",
   "execution_count": 24,
   "metadata": {},
   "outputs": [],
   "source": [
    "# problems 13, 14, 15 (RBF kernel)\n",
    "# also used for an alternate solution to problem 12 (poly kernel)\n",
    "# uses cvxopt to solve the qp problem\n",
    "class SVM:\n",
    "\n",
    "    def __init__(self, kernel='poly', Q=2, gamma=1.0, tol_sv=1e-5):\n",
    "        if kernel not in ['poly','rbf']:\n",
    "            raise ValueError('Kernel must be \"poly\" or \"rbf\".')  \n",
    "        self.kernel = kernel\n",
    "        self.Q = Q\n",
    "        self.gamma = gamma\n",
    "        self.tol_sv = tol_sv # tightening increases # of support vectors\n",
    "        \n",
    "    def fit(self, inputs, outputs):\n",
    "        xn = inputs\n",
    "        yn = outputs\n",
    "        N = len(xn)\n",
    "\n",
    "        # construct quadratic coefficients matrix\n",
    "        mat = []\n",
    "        for row_idx in range(0, N):\n",
    "            for col_idx in range(0, N):\n",
    "                if self.kernel == 'poly':\n",
    "                    kernel = self.kernel_poly(xn[row_idx], xn[col_idx])\n",
    "                elif self.kernel == 'rbf':\n",
    "                    kernel = self.kernel_rbf(xn[row_idx], xn[col_idx])\n",
    "                val = yn[row_idx] * yn[col_idx] * kernel\n",
    "                mat.append(val)\n",
    "        mat = np.array(mat).reshape((N, N))\n",
    "        \n",
    "        # form matrices for quadratic programming solver\n",
    "        P = matrix(mat, tc='d')\n",
    "        q = matrix(-np.ones(N), tc='d')\n",
    "        b = matrix(0.0, tc='d')\n",
    "        A = matrix(yn, tc='d')\n",
    "        A = A.trans()\n",
    "        G = matrix(-np.identity(N), tc='d')\n",
    "        h = matrix(np.zeros(N), tc='d')\n",
    "                \n",
    "        # call qp solver to compute weights\n",
    "        solvers.options['show_progress'] = False # supress solver output  \n",
    "        sol = solvers.qp(P, q, G, h, A, b)\n",
    "        alpha = np.array(list(sol['x']))\n",
    "        \n",
    "        sv = []\n",
    "        sv_alphas = []\n",
    "        sv_outputs = []\n",
    "        for n in range(0, N):\n",
    "            if alpha[n] > self.tol_sv: # => xn[n] is support vector\n",
    "                sv.append(xn[n])\n",
    "                sv_alphas.append(alpha[n])\n",
    "                sv_outputs.append(yn[n])\n",
    "                    \n",
    "        # compute number of support vectors \n",
    "        num_sv = len(sv)\n",
    "        if (num_sv == 0):\n",
    "            raise Exception('There are no support vectors.')\n",
    "        \n",
    "        # compute b by averaging b's obtained from support vectors\n",
    "        bs = []\n",
    "        for m in range(0, num_sv):\n",
    "            b = sv_outputs[m]\n",
    "            for n in range(0, num_sv):\n",
    "                if self.kernel == 'poly':\n",
    "                    kernel = self.kernel_poly(sv[n], sv[m])\n",
    "                elif self.kernel == 'rbf':\n",
    "                    kernel = self.kernel_rbf(sv[n], sv[m])\n",
    "                b -= sv_alphas[n] * sv_outputs[n] * kernel\n",
    "            bs.append(b)\n",
    "        bs_avg = np.mean(bs)\n",
    "\n",
    "        return np.array(sv_alphas), np.array(sv), np.array(sv_outputs), bs_avg\n",
    "    \n",
    "    def binary_error(self, sv_alphas, sv, sv_outputs, b, inputs, outputs):\n",
    "        x = inputs\n",
    "        y = outputs\n",
    "        num_sv = len(sv)\n",
    "        \n",
    "        gs = []\n",
    "        for xm in x:\n",
    "            signal = 0.0\n",
    "            for n in range(0, num_sv):\n",
    "                if self.kernel == 'poly':\n",
    "                    kernel = self.kernel_poly(sv[n], xm)\n",
    "                elif self.kernel == 'rbf':\n",
    "                    kernel = self.kernel_rbf(sv[n], xm)\n",
    "                signal += sv_alphas[n] * sv_outputs[n] * kernel\n",
    "            signal += b\n",
    "            gs.append(signal)\n",
    "                \n",
    "        g = np.array(np.sign(gs))\n",
    "        return 100. * np.count_nonzero(y != g) / len(y)   \n",
    "    \n",
    "    # private\n",
    "    def kernel_poly(self, xn, xm):\n",
    "        return (1.0 + np.dot(xn.T, xm))**self.Q\n",
    "    \n",
    "    # private\n",
    "    def kernel_rbf(self, xn, xm):\n",
    "        return np.exp(-self.gamma * (np.linalg.norm(xn - xm)**2))"
   ]
  },
  {
   "cell_type": "code",
   "execution_count": 25,
   "metadata": {},
   "outputs": [],
   "source": [
    "# problem 12 alternate solution    \n",
    "def problem_12_alt(tol_sv=1e-5):\n",
    "    svm = SVM(kernel='poly', tol_sv=tol_sv)\n",
    "    alphas, support_vectors, outputs, b = \\\n",
    "        svm.fit(train_inputs, train_outputs)\n",
    "    num_support_vectors = len(support_vectors)\n",
    "    print(f'b = {b}')\n",
    "    print(f\"alphas = \\n{alphas}\")\n",
    "    print(f\"support vectors = \\n{support_vectors}\")\n",
    "    print(f\"# support vectors = {num_support_vectors}\")\n",
    "    return num_support_vectors"
   ]
  },
  {
   "cell_type": "code",
   "execution_count": 26,
   "metadata": {},
   "outputs": [
    {
     "name": "stdout",
     "output_type": "stream",
     "text": [
      "b = -1.6666666856035512\n",
      "alphas = \n",
      "[0.7037037  0.7037037  0.88888889 0.25925926 0.25925926]\n",
      "support vectors = \n",
      "[[ 0.  1.]\n",
      " [ 0. -1.]\n",
      " [-1.  0.]\n",
      " [ 0.  2.]\n",
      " [ 0. -2.]]\n",
      "# support vectors = 5\n"
     ]
    },
    {
     "data": {
      "text/plain": [
       "5"
      ]
     },
     "execution_count": 26,
     "metadata": {},
     "output_type": "execute_result"
    }
   ],
   "source": [
    "problem_12_alt(tol_sv=1e-5)"
   ]
  },
  {
   "cell_type": "markdown",
   "metadata": {},
   "source": [
    "Answer is [c].\n",
    "\n",
    "Note that tightening `tol_sv` from `1e-5` to `1e-12` increases the # of support vectors and gives the wrong answer:"
   ]
  },
  {
   "cell_type": "code",
   "execution_count": 27,
   "metadata": {},
   "outputs": [
    {
     "name": "stdout",
     "output_type": "stream",
     "text": [
      "b = -2.0793650937934736\n",
      "alphas = \n",
      "[4.32455509e-09 7.03703704e-01 7.03703704e-01 8.88888891e-01\n",
      " 2.59259260e-01 2.59259260e-01 5.27081499e-10]\n",
      "support vectors = \n",
      "[[ 1.  0.]\n",
      " [ 0.  1.]\n",
      " [ 0. -1.]\n",
      " [-1.  0.]\n",
      " [ 0.  2.]\n",
      " [ 0. -2.]\n",
      " [-2.  0.]]\n",
      "# support vectors = 7\n"
     ]
    },
    {
     "data": {
      "text/plain": [
       "7"
      ]
     },
     "execution_count": 27,
     "metadata": {},
     "output_type": "execute_result"
    }
   ],
   "source": [
    "problem_12_alt(tol_sv=1e-12)"
   ]
  },
  {
   "cell_type": "markdown",
   "metadata": {},
   "source": [
    "---"
   ]
  },
  {
   "cell_type": "markdown",
   "metadata": {},
   "source": [
    "![](final_images/finalp13a.png)\n",
    "![](final_images/finalp13b.png)"
   ]
  },
  {
   "cell_type": "markdown",
   "metadata": {},
   "source": [
    "**Answer:**"
   ]
  },
  {
   "cell_type": "code",
   "execution_count": 28,
   "metadata": {},
   "outputs": [],
   "source": [
    "# problems 13-18 common code\n",
    "def generate_training_inputs(N=100):\n",
    "    return np.array([np.random.uniform(-1.0, 1.0, 2) for n in range(0, N)])        \n",
    "\n",
    "def compute_targets(inputs):\n",
    "    x1 = inputs[:, 0]\n",
    "    x2 = inputs[:, 1]\n",
    "    return np.sign(x1 - x2 + 0.25 * np.sin(np.pi * x1))"
   ]
  },
  {
   "cell_type": "code",
   "execution_count": 29,
   "metadata": {},
   "outputs": [],
   "source": [
    "# problem 13\n",
    "# SVM hard margin with RBF kernel trials\n",
    "def run_svm_trials(N=100, n_trials=100, gamma=1.5, use_sklearn=False):\n",
    "    ein = 0.\n",
    "    non_sep_count = 0\n",
    "    \n",
    "    for n_trial in range(0, n_trials):\n",
    "        train_inputs = generate_training_inputs(N)\n",
    "        train_outputs = compute_targets(train_inputs)\n",
    "        \n",
    "        if use_sklearn == False: # use cvxopt\n",
    "            svm_cvxopt = SVM(kernel='rbf', gamma=gamma)\n",
    "            alphas, sv, sv_outputs, b = svm_cvxopt.fit(train_inputs, \\\n",
    "                                                       train_outputs)\n",
    "            ein = svm_cvxopt.binary_error(alphas, sv, sv_outputs, b, \\\n",
    "                                          train_inputs, train_outputs)\n",
    "            \n",
    "        elif use_sklearn == True: # use sklearn (libsvm)\n",
    "            clf = svm.SVC(C=1e10, kernel='rbf', gamma=1.0, coef0=1.0)\n",
    "            clf.fit(train_inputs, train_outputs)\n",
    "            model_outputs = clf.predict(train_inputs)\n",
    "            ein = np.count_nonzero(train_outputs != model_outputs) / N\n",
    "     \n",
    "        if ein > 0.0:\n",
    "            non_sep_count += 1\n",
    "    \n",
    "        perc_complete = 100*n_trial/n_trials\n",
    "        # this line does not work without the \\r in the beginning\n",
    "        print(f'\\rJob {perc_complete:3.1f}% complete.', end='\\r', flush=True)\n",
    "        \n",
    "    return non_sep_count / n_trials"
   ]
  },
  {
   "cell_type": "code",
   "execution_count": 30,
   "metadata": {},
   "outputs": [],
   "source": [
    "def problem_13(use_sklearn=False):\n",
    "    time_start = time.time()\n",
    "    n_trials=100\n",
    "    non_sep_percent = run_svm_trials(100, n_trials, use_sklearn=use_sklearn)\n",
    "    print(f\"The data set is not separable by the RBF kernel \\\n",
    "{round(non_sep_percent, 2)}% of the time in {n_trials} runs.\")\n",
    "    time_end = time.time()\n",
    "    print(f\"Run time = {(time_end - time_start):3.1f} seconds.\")\n",
    "    return"
   ]
  },
  {
   "cell_type": "markdown",
   "metadata": {},
   "source": [
    "Using `cvxopt`:"
   ]
  },
  {
   "cell_type": "code",
   "execution_count": 31,
   "metadata": {},
   "outputs": [
    {
     "name": "stdout",
     "output_type": "stream",
     "text": [
      "The data set is not separable by the RBF kernel 0.0% of the time in 100 runs.\n",
      "Run time = 28.6 seconds.\n"
     ]
    }
   ],
   "source": [
    "problem_13(use_sklearn=False)"
   ]
  },
  {
   "cell_type": "markdown",
   "metadata": {},
   "source": [
    "Using `sklearn (libsvm)`:"
   ]
  },
  {
   "cell_type": "code",
   "execution_count": 32,
   "metadata": {},
   "outputs": [
    {
     "name": "stdout",
     "output_type": "stream",
     "text": [
      "The data set is not separable by the RBF kernel 0.0% of the time in 100 runs.\n",
      "Run time = 0.5 seconds.\n"
     ]
    }
   ],
   "source": [
    "problem_13(use_sklearn=True)"
   ]
  },
  {
   "cell_type": "markdown",
   "metadata": {},
   "source": [
    "Note: `sklearn` is **much faster** than `cvxopt`!\n",
    "\n",
    "Answer is [a].\n",
    "\n",
    "---"
   ]
  },
  {
   "cell_type": "markdown",
   "metadata": {},
   "source": [
    "![](final_images/finalp14.png)"
   ]
  },
  {
   "cell_type": "markdown",
   "metadata": {},
   "source": [
    "**Answer:**\n",
    "\n",
    "Implement the Lloyd's algorithm:"
   ]
  },
  {
   "cell_type": "code",
   "execution_count": 33,
   "metadata": {},
   "outputs": [],
   "source": [
    "# problem 14\n",
    "# Lloyd's algorithm: cluster inputs into K clusters\n",
    "class KMeans:\n",
    "    \n",
    "    @staticmethod\n",
    "    def fit(inputs, K=3, n_runs = 1, max_iter=300, tol=0.0001, verbose=False):\n",
    "        # returns the tuple (Centroids of clusters (μ1, ..., μk) , \n",
    "        #                    cluster labels of inputs)\n",
    "        run_cluster_labels = []\n",
    "        run_centroids = []\n",
    "        \n",
    "        for run in range(0, n_runs):\n",
    "            \n",
    "            # initialize K centroids at random \n",
    "            # (note we could also initialize clusters instead)\n",
    "            centroids = generate_training_inputs(K)\n",
    "            prev_cluster_labels = []\n",
    "            \n",
    "            for iteration in range(0, max_iter):\n",
    "                if verbose:\n",
    "                    print('\\nIteration = ', iteration+1)\n",
    "                \n",
    "                # assign inputs to cluster with closest centroid\n",
    "                cluster_labels = []\n",
    "                for inputt in inputs:\n",
    "                    distances = []\n",
    "                    for centroid in centroids:\n",
    "                        distance = np.linalg.norm(inputt - centroid)\n",
    "                        distances.append(distance)\n",
    "                    cluster_num = np.argmin(distances)\n",
    "                    cluster_labels.append(cluster_num)\n",
    "                    if verbose:\n",
    "                        print(f\"{inputt} assigned to cluster {cluster_num}\")\n",
    "                if verbose:\n",
    "                    print('cluster labels = ', cluster_labels)\n",
    "\n",
    "                # if a cluster is empty discard the run\n",
    "                if set(cluster_labels) != set(range(0, K)):\n",
    "                    if verbose:\n",
    "                        print('\\nEmpty cluster. Discard this run.')\n",
    "                    return (np.array([]), np.array([]))\n",
    "\n",
    "                prev_centroids = centroids\n",
    "\n",
    "                # compute cluster centroids\n",
    "                centroids = []\n",
    "                for cluster_label in range(0, K):\n",
    "                    input_idxs = [i for i, label in enumerate(cluster_labels)\n",
    "                        if label == cluster_label]\n",
    "                    mean_cluster = np.mean(inputs[input_idxs], axis=0)\n",
    "                    if verbose:\n",
    "                        print(f'indices = {input_idxs}, \\\n",
    "mean cluster = {mean_cluster}')\n",
    "                    centroids.append(mean_cluster)              \n",
    "                centroids = np.array(centroids)\n",
    "                \n",
    "                # check for convergence\n",
    "                if verbose:\n",
    "                    print('prev_centroids = \\n', prev_centroids)\n",
    "                    print('centroids = \\n', centroids)\n",
    "                if iteration > 0: \n",
    "                    if np.linalg.norm(prev_centroids - centroids) < tol and \\\n",
    "                        prev_cluster_labels == cluster_labels:\n",
    "                        if verbose:\n",
    "                            print('\\nConverged')\n",
    "                        break\n",
    "\n",
    "                prev_cluster_labels = cluster_labels\n",
    "                \n",
    "            run_centroids.append(centroids)\n",
    "            run_cluster_labels.append(cluster_labels)\n",
    "            \n",
    "        high_count_index = KMeans.arg_max_run_clusters(run_cluster_labels, \\\n",
    "                                                       K, n_runs)\n",
    "        \n",
    "        return run_centroids[high_count_index], \\\n",
    "            np.array(run_centroids[high_count_index])\n",
    "    \n",
    "    # private\n",
    "    @staticmethod\n",
    "    def arg_max_run_clusters(run_cluster_labels, K, n_runs):\n",
    "        counts = {}\n",
    "        run_clusters = []\n",
    "        for run in range(0, len(run_cluster_labels)):\n",
    "            run_cluster = []\n",
    "            for k in range(0, K):\n",
    "                indices = [i for i, x in enumerate(run_cluster_labels[run]) \\\n",
    "                           if x == k]\n",
    "                run_cluster.append(indices)\n",
    "            run_cluster.sort()\n",
    "\n",
    "            if run_cluster not in run_clusters:\n",
    "                run_clusters.append(run_cluster)\n",
    "                counts[run] = 1\n",
    "            else:\n",
    "                run_clusters.append([])\n",
    "                index = run_clusters.index(run_cluster)\n",
    "                counts[index] += 1\n",
    "                \n",
    "        high_count_index = max(counts, key=counts.get)\n",
    "        return high_count_index"
   ]
  },
  {
   "cell_type": "markdown",
   "metadata": {},
   "source": [
    "Test the Lloyd's algorithm on the small (N=7) data set from problems 11-12:"
   ]
  },
  {
   "cell_type": "code",
   "execution_count": 34,
   "metadata": {},
   "outputs": [],
   "source": [
    "# test KMeans on the small (N=7) data set from problems 11-12\n",
    "def test_KMeans(K=3):\n",
    "    train_data = get_training_set()\n",
    "    train_inputs = train_data[:, 0:2]\n",
    "    mu, labels = KMeans.fit(train_inputs, K=K, verbose=True)\n",
    "    return"
   ]
  },
  {
   "cell_type": "code",
   "execution_count": 35,
   "metadata": {},
   "outputs": [
    {
     "name": "stdout",
     "output_type": "stream",
     "text": [
      "\n",
      "Iteration =  1\n",
      "[1. 0.] assigned to cluster 1\n",
      "[0. 1.] assigned to cluster 1\n",
      "[ 0. -1.] assigned to cluster 1\n",
      "[-1.  0.] assigned to cluster 2\n",
      "[0. 2.] assigned to cluster 1\n",
      "[ 0. -2.] assigned to cluster 0\n",
      "[-2.  0.] assigned to cluster 2\n",
      "cluster labels =  [1, 1, 1, 2, 1, 0, 2]\n",
      "indices = [5], mean cluster = [ 0. -2.]\n",
      "indices = [0, 1, 2, 4], mean cluster = [0.25 0.5 ]\n",
      "indices = [3, 6], mean cluster = [-1.5  0. ]\n",
      "prev_centroids = \n",
      " [[-0.70167205 -0.35740014]\n",
      " [-0.21202989 -0.21797474]\n",
      " [-0.84683452 -0.32076596]]\n",
      "centroids = \n",
      " [[ 0.   -2.  ]\n",
      " [ 0.25  0.5 ]\n",
      " [-1.5   0.  ]]\n",
      "\n",
      "Iteration =  2\n",
      "[1. 0.] assigned to cluster 1\n",
      "[0. 1.] assigned to cluster 1\n",
      "[ 0. -1.] assigned to cluster 0\n",
      "[-1.  0.] assigned to cluster 2\n",
      "[0. 2.] assigned to cluster 1\n",
      "[ 0. -2.] assigned to cluster 0\n",
      "[-2.  0.] assigned to cluster 2\n",
      "cluster labels =  [1, 1, 0, 2, 1, 0, 2]\n",
      "indices = [2, 5], mean cluster = [ 0.  -1.5]\n",
      "indices = [0, 1, 4], mean cluster = [0.33333333 1.        ]\n",
      "indices = [3, 6], mean cluster = [-1.5  0. ]\n",
      "prev_centroids = \n",
      " [[ 0.   -2.  ]\n",
      " [ 0.25  0.5 ]\n",
      " [-1.5   0.  ]]\n",
      "centroids = \n",
      " [[ 0.         -1.5       ]\n",
      " [ 0.33333333  1.        ]\n",
      " [-1.5         0.        ]]\n",
      "\n",
      "Iteration =  3\n",
      "[1. 0.] assigned to cluster 1\n",
      "[0. 1.] assigned to cluster 1\n",
      "[ 0. -1.] assigned to cluster 0\n",
      "[-1.  0.] assigned to cluster 2\n",
      "[0. 2.] assigned to cluster 1\n",
      "[ 0. -2.] assigned to cluster 0\n",
      "[-2.  0.] assigned to cluster 2\n",
      "cluster labels =  [1, 1, 0, 2, 1, 0, 2]\n",
      "indices = [2, 5], mean cluster = [ 0.  -1.5]\n",
      "indices = [0, 1, 4], mean cluster = [0.33333333 1.        ]\n",
      "indices = [3, 6], mean cluster = [-1.5  0. ]\n",
      "prev_centroids = \n",
      " [[ 0.         -1.5       ]\n",
      " [ 0.33333333  1.        ]\n",
      " [-1.5         0.        ]]\n",
      "centroids = \n",
      " [[ 0.         -1.5       ]\n",
      " [ 0.33333333  1.        ]\n",
      " [-1.5         0.        ]]\n",
      "\n",
      "Converged\n"
     ]
    }
   ],
   "source": [
    "test_KMeans(K=3)"
   ]
  },
  {
   "cell_type": "markdown",
   "metadata": {},
   "source": [
    "Implement RBF model. It uses Lloyd's algorithm and computes the solution using the pseudo-inverse:"
   ]
  },
  {
   "cell_type": "code",
   "execution_count": 36,
   "metadata": {},
   "outputs": [],
   "source": [
    "# regular RBF model classification, uses Lloyd's (KMeans) and pseudo-inverse\n",
    "class RBF:\n",
    "    \n",
    "    def __init__(self, gamma=1.0, K=3):\n",
    "        self.gamma = gamma\n",
    "        self.K = K\n",
    "    \n",
    "    def fit(self, inputs, outputs):\n",
    "       # returns the weights and the cluster centroids\n",
    "        x = inputs\n",
    "        y = outputs\n",
    "        N = len(x)\n",
    "        \n",
    "        # cluster the inputs to obtain centroids mu\n",
    "        mu, labels = KMeans.fit(inputs, self.K)\n",
    "        if np.size(mu) == 0:\n",
    "            return (np.array([]), np.array([]))\n",
    "        \n",
    "        # construct phi matrix\n",
    "        phi = []\n",
    "        for row_idx in range(0, N):\n",
    "            for col_idx in range(0, self.K):\n",
    "                kernel = self.kernel_rbf(x[row_idx], mu[col_idx])\n",
    "                phi.append(kernel)\n",
    "        phi = np.array(phi).reshape((N, self.K))\n",
    "        \n",
    "        # pseudo-inverse solution \n",
    "        weights = np.linalg.inv(phi.T@phi) @ (phi.T@y)\n",
    "        return weights, mu\n",
    "    \n",
    "    def binary_error(self, weights, centroids, inputs, outputs):\n",
    "        x = inputs\n",
    "        y = outputs\n",
    "        N = len(x)\n",
    "        mu = centroids\n",
    "        \n",
    "        # construct phi matrix\n",
    "        phi = []\n",
    "        for row_idx in range(0, N):\n",
    "            for col_idx in range(0, self.K):\n",
    "                kernel = self.kernel_rbf(x[row_idx], mu[col_idx])\n",
    "                phi.append(kernel)\n",
    "        phi = np.array(phi).reshape((N, self.K))\n",
    "        \n",
    "        # construct predictions and error percentage\n",
    "        signal = np.matmul(phi, weights)\n",
    "        g = np.sign(signal)\n",
    "        return 100. * np.count_nonzero(y != g) / len(y)   \n",
    "        \n",
    "    # private\n",
    "    def kernel_rbf(self, xn, muk):\n",
    "        return np.exp(-self.gamma * (np.linalg.norm(xn - muk)**2))"
   ]
  },
  {
   "cell_type": "code",
   "execution_count": 37,
   "metadata": {},
   "outputs": [],
   "source": [
    "def run_regular_kernel_trials(N=100, N_test=10000, n_trials=100, \n",
    "                              K=9, gamma=1.5, use_sklearn=False):\n",
    "    non_sep_count = 0\n",
    "    empty_cluster_count = 0\n",
    "    wins_svm = 0\n",
    "    \n",
    "    for n_trial in range(0, n_trials):\n",
    "        # generate training data\n",
    "        train_inputs = generate_training_inputs(N)\n",
    "        train_outputs = compute_targets(train_inputs)\n",
    "        \n",
    "        # run SVM\n",
    "        if use_sklearn == False: # use cvxopt\n",
    "            svm_cvxopt = SVM(kernel='rbf', gamma=gamma)\n",
    "            alphas, sv, sv_outputs, b = \\\n",
    "                svm_cvxopt.fit(train_inputs, train_outputs)\n",
    "            ein = svm_cvxopt.binary_error(alphas, sv, sv_outputs, b, \\\n",
    "                                          train_inputs, train_outputs)\n",
    "            \n",
    "        elif use_sklearn == True: # use sklearn (libsvm)\n",
    "            clf = svm.SVC(C=1e10, kernel='rbf', gamma=1.0, coef0=1.0)\n",
    "            clf.fit(train_inputs, train_outputs)\n",
    "            model_outputs = clf.predict(train_inputs)\n",
    "            ein = np.count_nonzero(train_outputs != model_outputs) / N\n",
    "            \n",
    "        # check if non-separable\n",
    "        if ein > 0.0:\n",
    "            non_sep_count += 1\n",
    "            continue\n",
    "        \n",
    "        # run regular RBF\n",
    "        rbf = RBF(gamma, K)\n",
    "        weights, centroids = rbf.fit(train_inputs, train_outputs)\n",
    "        \n",
    "        # check if empty clusters\n",
    "        if np.size(weights) == 0:\n",
    "            empty_cluster_count += 1\n",
    "            continue\n",
    "        \n",
    "        # generate out of sample data\n",
    "        # out of sample size should be at least 100*N for reliable estimate\n",
    "        test_inputs = generate_training_inputs(N_test)\n",
    "        test_outputs = compute_targets(test_inputs)\n",
    "        \n",
    "        # compute and compare out of sample errors\n",
    "        if use_sklearn == False:\n",
    "            eout_svm = svm_cvxopt.binary_error(alphas, sv, sv_outputs, b, \\\n",
    "                                               test_inputs, test_outputs)\n",
    "        elif use_sklearn == True:\n",
    "            model_test_outputs = clf.predict(test_inputs)\n",
    "            eout_svm = np.count_nonzero(test_outputs != model_test_outputs) / N\n",
    "            \n",
    "        eout_rbf = rbf.binary_error(weights, centroids, test_inputs, \\\n",
    "                                    test_outputs) \n",
    "        \n",
    "        if eout_svm < eout_rbf:\n",
    "            wins_svm +=1\n",
    "            \n",
    "        perc_complete = 100*n_trial/n_trials\n",
    "        # this line does not work without the \\r in the beginning\n",
    "        print(f'\\rJob {perc_complete:3.1f}% complete.', end='\\r', flush=True)\n",
    "            \n",
    "    win_percent = \\\n",
    "        100. * wins_svm / (n_trials - non_sep_count - empty_cluster_count)\n",
    "    return (win_percent, non_sep_count, empty_cluster_count)"
   ]
  },
  {
   "cell_type": "markdown",
   "metadata": {},
   "source": [
    "Function `problem_14()` uses `run_regular_kernel_trials()`."
   ]
  },
  {
   "cell_type": "code",
   "execution_count": 38,
   "metadata": {},
   "outputs": [],
   "source": [
    "def problem_14(N_test, use_sklearn=False):\n",
    "    time_start = time.time()\n",
    "    n_trials = 100\n",
    "    K = 9\n",
    "    gamma = 1.5\n",
    "    N = 100\n",
    "    win_percent, non_sep_count, empty_cluster_count = \\\n",
    "        run_regular_kernel_trials(N, N_test, n_trials, K, gamma, use_sklearn)\n",
    "    runs = n_trials - non_sep_count - empty_cluster_count\n",
    "    print(f\"For K = {K} and γ = {gamma} the kernel form beats the regular \\\n",
    "form {round(win_percent, 2)}% of the time in {runs} runs ({non_sep_count} \\\n",
    "runs not separable, {empty_cluster_count} runs with empty clusters).\")\n",
    "    time_end = time.time()\n",
    "    print(f\"Run time = {(time_end - time_start):3.1f} seconds.\")\n",
    "    return"
   ]
  },
  {
   "cell_type": "markdown",
   "metadata": {},
   "source": [
    "- Using `cvxopt`, out of sample size `N_test = 1000`:"
   ]
  },
  {
   "cell_type": "code",
   "execution_count": 39,
   "metadata": {},
   "outputs": [
    {
     "name": "stdout",
     "output_type": "stream",
     "text": [
      "For K = 9 and γ = 1.5 the kernel form beats the regular form 80.9% of the time in 89 runs (0 runs not separable, 11 runs with empty clusters).\n",
      "Run time = 74.0 seconds.\n"
     ]
    }
   ],
   "source": [
    "problem_14(N_test=1000, use_sklearn=False)"
   ]
  },
  {
   "cell_type": "markdown",
   "metadata": {},
   "source": [
    "- Using `cvxopt`, out of sample size `N_test = 10000`:"
   ]
  },
  {
   "cell_type": "code",
   "execution_count": 40,
   "metadata": {},
   "outputs": [
    {
     "name": "stdout",
     "output_type": "stream",
     "text": [
      "For K = 9 and γ = 1.5 the kernel form beats the regular form 80.65% of the time in 93 runs (0 runs not separable, 7 runs with empty clusters).\n",
      "Run time = 391.9 seconds.\n"
     ]
    }
   ],
   "source": [
    "problem_14(N_test=10000, use_sklearn=False)"
   ]
  },
  {
   "cell_type": "markdown",
   "metadata": {},
   "source": [
    "- Using `sklearn (libsvm)`, out of sample size `N_test = 1000`:"
   ]
  },
  {
   "cell_type": "code",
   "execution_count": 41,
   "metadata": {},
   "outputs": [
    {
     "name": "stdout",
     "output_type": "stream",
     "text": [
      "For K = 9 and γ = 1.5 the kernel form beats the regular form 100.0% of the time in 87 runs (0 runs not separable, 13 runs with empty clusters).\n",
      "Run time = 33.3 seconds.\n"
     ]
    }
   ],
   "source": [
    "problem_14(N_test=1000, use_sklearn=True)"
   ]
  },
  {
   "cell_type": "markdown",
   "metadata": {},
   "source": [
    "- Using `sklearn (libsvm)`, out of sample size `N_test = 10000`:"
   ]
  },
  {
   "cell_type": "code",
   "execution_count": 42,
   "metadata": {},
   "outputs": [
    {
     "name": "stdout",
     "output_type": "stream",
     "text": [
      "For K = 9 and γ = 1.5 the kernel form beats the regular form 90.91% of the time in 88 runs (0 runs not separable, 12 runs with empty clusters).\n",
      "Run time = 183.8 seconds.\n"
     ]
    }
   ],
   "source": [
    "problem_14(N_test=10000, use_sklearn=True)"
   ]
  },
  {
   "cell_type": "markdown",
   "metadata": {},
   "source": [
    "Note: `sklearn` is **much faster** than `cvxopt`!\n",
    "\n",
    "Answer is [e].\n",
    "\n",
    "---"
   ]
  },
  {
   "cell_type": "markdown",
   "metadata": {},
   "source": [
    "Repeat the runs in **Google Colab** with `N_test = 10000` and `use_sklearn = True`.\n",
    "\n",
    "- Using runtime hardware accelerator = `None`:\n",
    "\n",
    "`For K = 9 and γ = 1.5 the kernel form beats the regular form 82.98% of the time in 94 runs (0 runs not separable, 6 runs with empty clusters).\n",
    "Run time = 82.4 seconds.`\n",
    "\n",
    "=> **2.6x faster**\n",
    "\n",
    "- Using runtime hardware accelerator = `GPU`:\n",
    "\n",
    "`For K = 9 and γ = 1.5 the kernel form beats the regular form 82.22% of the time in 90 runs (0 runs not separable, 10 runs with empty clusters).\n",
    "Run time = 67.5 seconds.`\n",
    "\n",
    "=> **3x faster**\n",
    "\n",
    "- Using runtime hardware accelerator = `TPU`:\n",
    "\n",
    "`For K = 9 and γ = 1.5 the kernel form beats the regular form 87.91% of the time in 91 runs (0 runs not separable, 9 runs with empty clusters).\n",
    "Run time = 78.7 seconds.`\n",
    "\n",
    "=> **2.5x faster**\n",
    "\n",
    "---"
   ]
  },
  {
   "cell_type": "markdown",
   "metadata": {},
   "source": [
    "![](final_images/finalp15.png)"
   ]
  },
  {
   "cell_type": "markdown",
   "metadata": {},
   "source": [
    "**Answer:**"
   ]
  },
  {
   "cell_type": "markdown",
   "metadata": {},
   "source": [
    "Function `problem_15()` uses `run_regular_kernel_trials()`."
   ]
  },
  {
   "cell_type": "code",
   "execution_count": 43,
   "metadata": {},
   "outputs": [],
   "source": [
    "# problem 15\n",
    "# same as problem_14(), just with different K\n",
    "def problem_15(N_test, use_sklearn=False):\n",
    "    time_start = time.time()\n",
    "    n_trials = 100\n",
    "    K = 12\n",
    "    gamma = 1.5\n",
    "    N = 100\n",
    "    win_percent, non_sep_count, empty_cluster_count = \\\n",
    "        run_regular_kernel_trials(N, N_test, n_trials, K, gamma, use_sklearn)\n",
    "    runs = n_trials - non_sep_count - empty_cluster_count\n",
    "    print(f\"For K = {K} and γ = {gamma} the kernel form beats the regular \\\n",
    "form {round(win_percent, 2)}% of the time in {runs} runs ({non_sep_count} \\\n",
    "runs not separable, {empty_cluster_count} runs with empty clusters).\")\n",
    "    time_end = time.time()\n",
    "    print(f\"Run time = {(time_end - time_start):3.1f} seconds.\")\n",
    "    return"
   ]
  },
  {
   "cell_type": "markdown",
   "metadata": {},
   "source": [
    "- Using `cvxopt`, out of sample size `N_test = 1000`:"
   ]
  },
  {
   "cell_type": "code",
   "execution_count": 44,
   "metadata": {},
   "outputs": [
    {
     "name": "stdout",
     "output_type": "stream",
     "text": [
      "For K = 12 and γ = 1.5 the kernel form beats the regular form 67.86% of the time in 84 runs (0 runs not separable, 16 runs with empty clusters).\n",
      "Run time = 113.5 seconds.\n"
     ]
    }
   ],
   "source": [
    "problem_15(N_test=1000, use_sklearn=False)"
   ]
  },
  {
   "cell_type": "markdown",
   "metadata": {},
   "source": [
    "- Using `cvxopt`, out of sample size `N_test = 10000`:"
   ]
  },
  {
   "cell_type": "code",
   "execution_count": 45,
   "metadata": {},
   "outputs": [
    {
     "name": "stdout",
     "output_type": "stream",
     "text": [
      "For K = 12 and γ = 1.5 the kernel form beats the regular form 66.22% of the time in 74 runs (0 runs not separable, 26 runs with empty clusters).\n",
      "Run time = 408.3 seconds.\n"
     ]
    }
   ],
   "source": [
    "problem_15(N_test=10000, use_sklearn=False)"
   ]
  },
  {
   "cell_type": "markdown",
   "metadata": {},
   "source": [
    "- Using `sklearn (libsvm)`, out of sample size `N_test = 1000`:"
   ]
  },
  {
   "cell_type": "code",
   "execution_count": 46,
   "metadata": {},
   "outputs": [
    {
     "name": "stdout",
     "output_type": "stream",
     "text": [
      "For K = 12 and γ = 1.5 the kernel form beats the regular form 100.0% of the time in 82 runs (0 runs not separable, 18 runs with empty clusters).\n",
      "Run time = 40.6 seconds.\n"
     ]
    }
   ],
   "source": [
    "problem_15(N_test=1000, use_sklearn=True)"
   ]
  },
  {
   "cell_type": "markdown",
   "metadata": {},
   "source": [
    "- Using `sklearn (libsvm)`, out of sample size `N_test = 10000`:"
   ]
  },
  {
   "cell_type": "code",
   "execution_count": 47,
   "metadata": {},
   "outputs": [
    {
     "name": "stdout",
     "output_type": "stream",
     "text": [
      "For K = 12 and γ = 1.5 the kernel form beats the regular form 88.73% of the time in 71 runs (0 runs not separable, 29 runs with empty clusters).\n",
      "Run time = 198.1 seconds.\n"
     ]
    }
   ],
   "source": [
    "problem_15(N_test=10000, use_sklearn=True)"
   ]
  },
  {
   "cell_type": "markdown",
   "metadata": {},
   "source": [
    "Answer is [d].\n",
    "\n",
    "---"
   ]
  },
  {
   "cell_type": "markdown",
   "metadata": {},
   "source": [
    "![](final_images/finalp16a.png)\n",
    "![](final_images/finalp16b.png)"
   ]
  },
  {
   "cell_type": "markdown",
   "metadata": {},
   "source": [
    "**Answer:**"
   ]
  },
  {
   "cell_type": "code",
   "execution_count": 48,
   "metadata": {},
   "outputs": [],
   "source": [
    "# problems 16 and 17\n",
    "def run_reg_rbf_param_trials(N=100, n_trials=100, Ks=[9], gammas=[1.5]):\n",
    "    empty_cluster_count = 0\n",
    "    ein_down_eout_up = 0\n",
    "    ein_up_eout_down = 0\n",
    "    both_up = 0\n",
    "    both_down = 0\n",
    "    both_same = 0\n",
    "    \n",
    "    for n_trial in range(0, n_trials):\n",
    "        eins = []\n",
    "        eouts = []\n",
    "        for K in Ks:\n",
    "            for gamma in gammas:\n",
    "                \n",
    "                # generate training data\n",
    "                train_inputs = generate_training_inputs(N)\n",
    "                train_outputs = compute_targets(train_inputs)\n",
    "\n",
    "                # run regular RBF\n",
    "                rbf = RBF(gamma, K)\n",
    "                weights, centroids = rbf.fit(train_inputs, train_outputs)\n",
    "\n",
    "                # check if empty clusters\n",
    "                if np.size(weights) == 0:\n",
    "                    empty_cluster_count += 1\n",
    "                    continue\n",
    "\n",
    "                # generate out of sample data\n",
    "                test_inputs = generate_training_inputs(N*10)\n",
    "                test_outputs = compute_targets(test_inputs)\n",
    "\n",
    "                # compute and compare values of in and out of sample errors\n",
    "                ein = rbf.binary_error(weights, centroids, \\\n",
    "                                       train_inputs, train_outputs) \n",
    "                eout = rbf.binary_error(weights, centroids, \\\n",
    "                                        test_inputs, test_outputs) \n",
    "                \n",
    "                eins.append(ein)\n",
    "                eouts.append(eout)\n",
    "        \n",
    "        # skip comparisons if empty cluster\n",
    "        if len(eins) < 2 or len(eouts) < 2:\n",
    "            continue\n",
    "        \n",
    "        # perform comparisons for Ein and Eout\n",
    "        # note: there are actually 9 possibilities\n",
    "        if (eins[1] > eins[0]) and (eouts[1] > eouts[0]):\n",
    "            both_up += 1\n",
    "        elif (eins[1] < eins[0]) and (eouts[1] < eouts[0]):\n",
    "            both_down += 1\n",
    "        elif (eins[1] > eins[0]) and (eouts[1] < eouts[0]):\n",
    "            ein_up_eout_down += 1\n",
    "        elif (eins[1] < eins[0]) and (eouts[1] > eouts[0]):\n",
    "            ein_down_eout_up += 1\n",
    "        else:\n",
    "            both_same += 1\n",
    "        \n",
    "        perc_complete = 100*n_trial/n_trials\n",
    "        # this line does not work without the \\r in the beginning\n",
    "        print(f'\\rJob {perc_complete:3.1f}% complete.', end='\\r', flush=True)\n",
    "        \n",
    "    counts = {'Ein goes down, but Eout goes up': ein_down_eout_up,\n",
    "              'Ein goes up, but Eout goes down ': ein_up_eout_down,\n",
    "              'Both Ein and Eout go up': both_up,\n",
    "              'Both Ein and Eout go down': both_down,\n",
    "              'Ein and Eout remain the same': both_same\n",
    "             }\n",
    "    \n",
    "    return counts"
   ]
  },
  {
   "cell_type": "markdown",
   "metadata": {},
   "source": [
    "Function `problem_16()` uses `run_reg_rbf_param_trials()`."
   ]
  },
  {
   "cell_type": "code",
   "execution_count": 49,
   "metadata": {},
   "outputs": [],
   "source": [
    "# measure the effect of K going from 9 to 12\n",
    "def problem_16():\n",
    "    time_start = time.time()\n",
    "    n_trials = 100\n",
    "    Ks=[9, 12]\n",
    "    gammas=[1.5]\n",
    "    counts = run_reg_rbf_param_trials(100, n_trials, Ks, gammas)\n",
    "    print(f'counts = {counts}')\n",
    "    max_counts = max(counts, key=counts.get)\n",
    "    print(f\"For regular RBF with γ = {gammas[0]}. If we go from K = {Ks[0]} \\\n",
    "clusters to K = {Ks[1]} clusters then '{max_counts}' happens the most \\\n",
    "({counts[max_counts]} times) (excluding runs with empty clusters).\")\n",
    "    time_end = time.time()\n",
    "    print(f\"Run time = {(time_end - time_start):3.1f} seconds.\")\n",
    "    return"
   ]
  },
  {
   "cell_type": "code",
   "execution_count": 50,
   "metadata": {},
   "outputs": [
    {
     "name": "stdout",
     "output_type": "stream",
     "text": [
      "counts = {'Ein goes down, but Eout goes up': 6, 'Ein goes up, but Eout goes down ': 16, 'Both Ein and Eout go up': 8, 'Both Ein and Eout go down': 21, 'Ein and Eout remain the same': 19}\n",
      "For regular RBF with γ = 1.5. If we go from K = 9 clusters to K = 12 clusters then 'Both Ein and Eout go down' happens the most (21 times) (excluding runs with empty clusters).\n",
      "Run time = 73.2 seconds.\n"
     ]
    }
   ],
   "source": [
    "problem_16()"
   ]
  },
  {
   "cell_type": "markdown",
   "metadata": {},
   "source": [
    "Answer is [d].\n",
    "\n",
    "---"
   ]
  },
  {
   "cell_type": "markdown",
   "metadata": {},
   "source": [
    "![](final_images/finalp17.png)"
   ]
  },
  {
   "cell_type": "markdown",
   "metadata": {},
   "source": [
    "**Answer:**\n",
    "\n",
    "Function `problem_17()` uses `run_reg_rbf_param_trials()`."
   ]
  },
  {
   "cell_type": "code",
   "execution_count": 64,
   "metadata": {},
   "outputs": [],
   "source": [
    "# measure the effect of gamma going from 1.5 to 2\n",
    "def problem_17():\n",
    "    time_start = time.time()\n",
    "    n_trials = 500\n",
    "    Ks=[9]\n",
    "    gammas=[1.5, 2.0]\n",
    "    counts = run_reg_rbf_param_trials(100, n_trials, Ks, gammas)\n",
    "    print(f'counts = {counts}')\n",
    "    max_counts = max(counts, key=counts.get)\n",
    "    print(f\"For regular RBF with K = {Ks[0]} clusters. If we go from γ = \\\n",
    "{gammas[0]} to γ = {gammas[1]} then '{max_counts}' happens the most \\\n",
    "({counts[max_counts]} times) (excluding runs with empty clusters).\")\n",
    "    time_end = time.time()\n",
    "    print(f\"Run time = {(time_end - time_start):3.1f} seconds.\")\n",
    "    return"
   ]
  },
  {
   "cell_type": "code",
   "execution_count": 65,
   "metadata": {},
   "outputs": [
    {
     "name": "stdout",
     "output_type": "stream",
     "text": [
      "counts = {'Ein goes down, but Eout goes up': 69, 'Ein goes up, but Eout goes down ': 63, 'Both Ein and Eout go up': 136, 'Both Ein and Eout go down': 71, 'Ein and Eout remain the same': 84}\n",
      "For regular RBF with K = 9 clusters. If we go from γ = 1.5 to γ = 2.0 then 'Both Ein and Eout go up' happens the most (136 times) (excluding runs with empty clusters).\n",
      "Run time = 454.4 seconds.\n"
     ]
    }
   ],
   "source": [
    "problem_17()"
   ]
  },
  {
   "cell_type": "markdown",
   "metadata": {},
   "source": [
    "Answer is [c].\n",
    "\n",
    "---"
   ]
  },
  {
   "cell_type": "markdown",
   "metadata": {},
   "source": [
    "![](final_images/finalp18.png)"
   ]
  },
  {
   "cell_type": "markdown",
   "metadata": {},
   "source": [
    "**Answer:**"
   ]
  },
  {
   "cell_type": "code",
   "execution_count": 53,
   "metadata": {},
   "outputs": [],
   "source": [
    "# problem 18\n",
    "def run_reg_rbf_trials(N=100, n_trials=100, K=9, gamma=1.5):\n",
    "    \n",
    "    empty_cluster_count = 0\n",
    "    ein_zero_count = 0\n",
    "    \n",
    "    for n_trial in range(0, n_trials):\n",
    "        # generate training data\n",
    "        train_inputs = generate_training_inputs(N)\n",
    "        train_outputs = compute_targets(train_inputs)\n",
    "        \n",
    "        # run regular RBF\n",
    "        rbf = RBF(gamma, K)\n",
    "        weights, centroids = rbf.fit(train_inputs, train_outputs)\n",
    "        \n",
    "        perc_complete = 100*n_trial/n_trials\n",
    "        # this line does not work without the \\r in the beginning\n",
    "        print(f'\\rJob {perc_complete:3.1f}% complete.', end='\\r', flush=True)\n",
    "        \n",
    "        # check if empty clusters\n",
    "        if np.size(weights) == 0:\n",
    "            empty_cluster_count += 1\n",
    "            continue\n",
    "        \n",
    "        # compute in sample error\n",
    "        ein = rbf.binary_error(weights, centroids, train_inputs, train_outputs) \n",
    "        \n",
    "        if ein == 0.0:\n",
    "            ein_zero_count +=1\n",
    "        \n",
    "    ein_zero_percent = 100. * ein_zero_count / (n_trials - empty_cluster_count)\n",
    "    return (ein_zero_percent, empty_cluster_count) "
   ]
  },
  {
   "cell_type": "markdown",
   "metadata": {},
   "source": [
    "Function `problem_18()` uses `run_reg_rbf_trials()`."
   ]
  },
  {
   "cell_type": "code",
   "execution_count": 54,
   "metadata": {},
   "outputs": [],
   "source": [
    "def problem_18(K=9):\n",
    "    time_start = time.time()\n",
    "    n_trials = 100\n",
    "    gamma = 1.5\n",
    "    ein_zero_percent, empty_cluster_count = \\\n",
    "        run_reg_rbf_trials(100, n_trials, K, gamma)\n",
    "    print(f\"The regular RBF achieves Ein = 0 with K = {K} and γ = {gamma}, \\\n",
    "{round(ein_zero_percent, 2)}% of the time (excluding {empty_cluster_count} \\\n",
    "runs with empty clusters).\")\n",
    "    time_end = time.time()\n",
    "    print(f\"Run time = {(time_end - time_start):3.1f} seconds.\")\n",
    "    return"
   ]
  },
  {
   "cell_type": "code",
   "execution_count": 55,
   "metadata": {},
   "outputs": [
    {
     "name": "stdout",
     "output_type": "stream",
     "text": [
      "The regular RBF achieves Ein = 0 with K = 9 and γ = 1.5, 6.38% of the time (excluding 6 runs with empty clusters).\n",
      "Run time = 18.7 seconds.\n"
     ]
    }
   ],
   "source": [
    "problem_18()"
   ]
  },
  {
   "cell_type": "markdown",
   "metadata": {},
   "source": [
    "Answer is [a].\n",
    "\n",
    "---"
   ]
  },
  {
   "cell_type": "markdown",
   "metadata": {},
   "source": [
    "Problem 18 note: \n",
    "\n",
    "Increasing `K` will:\n",
    "\n",
    "- increase the percentage of time getting `Ein=0`;\n",
    "- increase the number of runs with empty clusters."
   ]
  },
  {
   "cell_type": "code",
   "execution_count": 56,
   "metadata": {},
   "outputs": [
    {
     "name": "stdout",
     "output_type": "stream",
     "text": [
      "The regular RBF achieves Ein = 0 with K = 12 and γ = 1.5, 11.49% of the time (excluding 13 runs with empty clusters).\n",
      "Run time = 22.1 seconds.\n"
     ]
    }
   ],
   "source": [
    "problem_18(K=12)"
   ]
  },
  {
   "cell_type": "code",
   "execution_count": 57,
   "metadata": {},
   "outputs": [
    {
     "name": "stdout",
     "output_type": "stream",
     "text": [
      "The regular RBF achieves Ein = 0 with K = 20 and γ = 1.5, 48.65% of the time (excluding 63 runs with empty clusters).\n",
      "Run time = 16.6 seconds.\n"
     ]
    }
   ],
   "source": [
    "problem_18(K=20)"
   ]
  },
  {
   "cell_type": "code",
   "execution_count": 58,
   "metadata": {},
   "outputs": [
    {
     "name": "stdout",
     "output_type": "stream",
     "text": [
      "The regular RBF achieves Ein = 0 with K = 30 and γ = 1.5, 0.0% of the time (excluding 97 runs with empty clusters).\n",
      "Run time = 7.5 seconds.\n"
     ]
    }
   ],
   "source": [
    "problem_18(K=30)"
   ]
  },
  {
   "cell_type": "markdown",
   "metadata": {},
   "source": [
    "___"
   ]
  },
  {
   "cell_type": "markdown",
   "metadata": {},
   "source": [
    "![](final_images/finalp19.png)"
   ]
  },
  {
   "cell_type": "markdown",
   "metadata": {},
   "source": [
    "**Answer:**\n",
    "\n",
    "- $P(h=f)$ is the prior, uniform over $h \\in [0,1]$.\n",
    "- $P(h=f|D)$ is the posterior.\n",
    "- $P(D|h=f)$ is the likelihood.\n",
    "\n",
    "Note that:\n",
    "\n",
    "$$P(h=f|D) = \\frac{P(D|h=f) P(h=f)}{P(D)} ∝ P(D|h=f) P(h=f)$$\n",
    "\n",
    "$P(D|h=f)$ is: given we have the proper hypothesis, what is the probability of our data? \n",
    "\n",
    "Our data set is just +1 for had heart attack and thus its probability is just simply the probability of predicting somebody getting a heart attack. \n",
    "\n",
    "Thus, as $h$ increases over $[0,1]$, the probability of predicting +1 increases over $[0,1]$ in a linear fashion.\n",
    "\n",
    "---"
   ]
  },
  {
   "cell_type": "markdown",
   "metadata": {},
   "source": [
    "![](final_images/finalp20.png)"
   ]
  },
  {
   "cell_type": "markdown",
   "metadata": {},
   "source": [
    "**Answer:**\n",
    "\n",
    "Inequalities to possibly use:\n",
    " \n",
    "Inequality of arithmetic and geometric means (AM-GM inequality):\n",
    "\n",
    "$$\\sqrt{uv} \\leq \\frac{u+v}{2}$$ \n",
    "\n",
    "Cauchy inequality (vectors $u$ and $v$):\n",
    "\n",
    "$$|<u,v>| \\leq ||u|| ||v||$$\n",
    "\n",
    "Triangle inequality:\n",
    "\n",
    "$$||u+v|| \\leq ||u||+||v||$$\n",
    "\n",
    "Reverse triangle inequality:\n",
    "\n",
    "$$| ||u||-||v|| | \\leq ||u-v||$$\n",
    "\n",
    "Let's check case [c]:\n",
    "\n",
    "[c] $E_{out}(g)$ cannot be worse than the average of $E_{out}(g_1)$ and $E_{out}(g_2)$.\n",
    "\n",
    "$$N E_{out}(g_1) = (y-g_1)^2$$\n",
    "\n",
    "$$N E_{out}(g_2) = (y-g_2)^2$$\n",
    "\n",
    "$$\\begin{aligned}\n",
    "N E_{out}(g) & = \\left( y-\\frac{1}{2}(g_1+g_2) \\right)^2 \\\\\n",
    "& = y^2 - y(g_1+g_2) + \\frac{1}{4}(g_1+g_2)^2 \\\\\n",
    "& = y^2 - y g_1 - y g_2 + \\frac{1}{4}g_1^2 + \\frac{1}{4}g_2^2 + \\frac{1}{2}g_1 g_2 \\\\\n",
    "& = \\frac{1}{2}\\left[ 2 y^2 - 2 y g_1 - 2 y g_2 + \\frac{1}{2}g_1^2 + \\frac{1}{2}g_2^2 + g_1 g_2 \\right] \\\\ \n",
    "& = \\frac{1}{2}\\left[ (y^2 - 2 y g_1 + g_1^2) + (y^2 - 2 y g_2 + g_2^2) - \\frac{1}{2}g_1^2 - \\frac{1}{2}g_2^2 + g_1 g_2 \\right] \\\\\n",
    "& = \\frac{1}{2} \\left[ (y-g_1)^2 + (y-g_2)^2 - \\frac{1}{2}(g_1^2 + g_2^2 - 2 g_1 g_2) \\right] \\\\\n",
    "& = \\frac{N}{2}\\left[ E_{out}(g_1) + E_{out}(g_2) - \\frac{1}{2N} (g_1-g_2)^2 \\right]\n",
    "\\end{aligned}$$\n",
    "\n",
    "i.e. we get:\n",
    "\n",
    "$$E_{out}(g) = \\frac{1}{2}\\left[ E_{out}(g_1) + E_{out}(g_2) \\right] - \\frac{1}{4N} (g_1-g_2)^2$$\n",
    "\n",
    "So $E_{out}(g)$ is always less than the average of $E_{out}(g_1)$ and $E_{out}(g_2)$.\n",
    "\n",
    "The statement [c] is true.\n",
    "\n",
    "Answer is [c].\n",
    "\n",
    "\n",
    "---"
   ]
  },
  {
   "cell_type": "code",
   "execution_count": null,
   "metadata": {},
   "outputs": [],
   "source": []
  }
 ],
 "metadata": {
  "kernelspec": {
   "display_name": "Python 3",
   "language": "python",
   "name": "python3"
  },
  "language_info": {
   "codemirror_mode": {
    "name": "ipython",
    "version": 3
   },
   "file_extension": ".py",
   "mimetype": "text/x-python",
   "name": "python",
   "nbconvert_exporter": "python",
   "pygments_lexer": "ipython3",
   "version": "3.8.2"
  }
 },
 "nbformat": 4,
 "nbformat_minor": 4
}
