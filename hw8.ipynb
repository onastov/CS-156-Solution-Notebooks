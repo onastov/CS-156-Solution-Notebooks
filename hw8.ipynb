{
 "cells": [
  {
   "cell_type": "markdown",
   "metadata": {},
   "source": [
    "# Learning From Data - Homework 8\n",
    "## Ognen Nastov"
   ]
  },
  {
   "cell_type": "markdown",
   "metadata": {},
   "source": [
    "![](hw8_images/hw8p1.png)"
   ]
  },
  {
   "cell_type": "markdown",
   "metadata": {},
   "source": [
    "**Answer:**\n",
    "\n",
    "Primal form: \n",
    "\n",
    "minimize: \n",
    "\n",
    "$$\\frac{1}{2}w^Tw$$\n",
    "\n",
    "subject to:\n",
    "\n",
    "$$y_n(w^T x_n + b) ≥ 1$$\n",
    "\n",
    "$w$ is $d$-dimensional and $b$ is a scalar.\n",
    "\n",
    "$b$ affects the value of $w$ and the objective function through the constraint.\n",
    "\n",
    "It is a quadratic programming problem with $d+1$ variables.\n",
    "\n",
    "Answer is [d].\n",
    "\n",
    "---"
   ]
  },
  {
   "cell_type": "markdown",
   "metadata": {},
   "source": [
    "![](hw8_images/hw8p2a.png)\n",
    "![](hw8_images/hw8p2b.png)"
   ]
  },
  {
   "cell_type": "markdown",
   "metadata": {},
   "source": [
    "**Answer:**\n",
    "\n",
    "Consider digits 0, 2, 4, 6, and 8 vs. all."
   ]
  },
  {
   "cell_type": "code",
   "execution_count": 1,
   "metadata": {},
   "outputs": [],
   "source": [
    "import numpy as np\n",
    "import time\n",
    "from sklearn import svm"
   ]
  },
  {
   "cell_type": "code",
   "execution_count": 2,
   "metadata": {},
   "outputs": [],
   "source": [
    "# SVM with soft margin\n",
    "# problems 2-6 - polynomial kernels\n",
    "\n",
    "# read handwritten digits input and test sets\n",
    "# format of each row is: digit intensity symmetry \n",
    "# d = 2\n",
    "# return X,Y where X = [[x1, ...]] and Y = [y1, ...]\n",
    "def read_training_set():\n",
    "    S = np.loadtxt(\"http://www.amlbook.com/data/zip/features.train\")\n",
    "    return S[:,1:3], S[:,0]\n",
    "\n",
    "def read_test_set():\n",
    "    S = np.loadtxt(\"http://www.amlbook.com/data/zip/features.test\")\n",
    "    return S[:,1:3], S[:,0]"
   ]
  },
  {
   "cell_type": "code",
   "execution_count": 3,
   "metadata": {},
   "outputs": [],
   "source": [
    "# make Y for one-vs-all classification\n",
    "# Y is +1 for selected digit, and -1 for the rest of the digits\n",
    "def make_Y_ova(digit, Y):\n",
    "    Y_ova = (Y == digit)*(+1.0) + (Y != digit)*(-1.0)\n",
    "    return Y_ova\n",
    "\n",
    "# SVM with soft margin\n",
    "# polynomial kernel\n",
    "# use sklearn package\n",
    "def svm_soft_poly(Q, C):\n",
    "    clf = svm.SVC(C=C, kernel='poly', degree=Q, gamma=1.0, coef0=1.0)\n",
    "    return clf\n",
    "\n",
    "# one-vs-all\n",
    "def problems_2_to_4(X, Y, digit):\n",
    "    N = np.size(Y)\n",
    "    clf = svm_soft_poly(2.0, 0.01)\n",
    "    Y_ova = make_Y_ova(digit, Y)\n",
    "    clf.fit(X, Y_ova)\n",
    "    Y_model = clf.predict(X)\n",
    "    E_in = np.count_nonzero(Y_ova != Y_model) / N\n",
    "    num_support_vectors = np.size(clf.support_)\n",
    "    print(f\"E_in = {E_in}, # support vectors = {num_support_vectors}\")\n",
    "    return E_in, num_support_vectors"
   ]
  },
  {
   "cell_type": "code",
   "execution_count": 4,
   "metadata": {},
   "outputs": [],
   "source": [
    "X,Y = read_training_set()"
   ]
  },
  {
   "cell_type": "code",
   "execution_count": 5,
   "metadata": {},
   "outputs": [
    {
     "name": "stdout",
     "output_type": "stream",
     "text": [
      "E_in = 0.10588396653408312, # support vectors = 2179\n"
     ]
    },
    {
     "data": {
      "text/plain": [
       "(0.10588396653408312, 2179)"
      ]
     },
     "execution_count": 5,
     "metadata": {},
     "output_type": "execute_result"
    }
   ],
   "source": [
    "problems_2_to_4(X,Y,0)"
   ]
  },
  {
   "cell_type": "code",
   "execution_count": 6,
   "metadata": {},
   "outputs": [
    {
     "name": "stdout",
     "output_type": "stream",
     "text": [
      "E_in = 0.10026059525442327, # support vectors = 1970\n"
     ]
    },
    {
     "data": {
      "text/plain": [
       "(0.10026059525442327, 1970)"
      ]
     },
     "execution_count": 6,
     "metadata": {},
     "output_type": "execute_result"
    }
   ],
   "source": [
    "problems_2_to_4(X,Y,2)"
   ]
  },
  {
   "cell_type": "code",
   "execution_count": 7,
   "metadata": {},
   "outputs": [
    {
     "name": "stdout",
     "output_type": "stream",
     "text": [
      "E_in = 0.08942531888629818, # support vectors = 1856\n"
     ]
    },
    {
     "data": {
      "text/plain": [
       "(0.08942531888629818, 1856)"
      ]
     },
     "execution_count": 7,
     "metadata": {},
     "output_type": "execute_result"
    }
   ],
   "source": [
    "problems_2_to_4(X,Y,4)"
   ]
  },
  {
   "cell_type": "code",
   "execution_count": 8,
   "metadata": {},
   "outputs": [
    {
     "name": "stdout",
     "output_type": "stream",
     "text": [
      "E_in = 0.09107118365107666, # support vectors = 1893\n"
     ]
    },
    {
     "data": {
      "text/plain": [
       "(0.09107118365107666, 1893)"
      ]
     },
     "execution_count": 8,
     "metadata": {},
     "output_type": "execute_result"
    }
   ],
   "source": [
    "problems_2_to_4(X,Y,6)"
   ]
  },
  {
   "cell_type": "code",
   "execution_count": 9,
   "metadata": {},
   "outputs": [
    {
     "name": "stdout",
     "output_type": "stream",
     "text": [
      "E_in = 0.07433822520916199, # support vectors = 1776\n"
     ]
    },
    {
     "data": {
      "text/plain": [
       "(0.07433822520916199, 1776)"
      ]
     },
     "execution_count": 9,
     "metadata": {},
     "output_type": "execute_result"
    }
   ],
   "source": [
    "problems_2_to_4(X,Y,8)"
   ]
  },
  {
   "cell_type": "markdown",
   "metadata": {},
   "source": [
    "Highest `E_in` for digit 0. Answer is [a].\n",
    "\n",
    "---"
   ]
  },
  {
   "cell_type": "markdown",
   "metadata": {},
   "source": [
    "![](hw8_images/hw8p3a.png)\n",
    "![](hw8_images/hw8p3b.png)"
   ]
  },
  {
   "cell_type": "markdown",
   "metadata": {},
   "source": [
    "**Answer:**\n",
    "\n",
    "Consider digits 1, 3, 5, 7, and 9 vs. all."
   ]
  },
  {
   "cell_type": "code",
   "execution_count": 10,
   "metadata": {},
   "outputs": [
    {
     "name": "stdout",
     "output_type": "stream",
     "text": [
      "E_in = 0.014401316691811822, # support vectors = 386\n"
     ]
    },
    {
     "data": {
      "text/plain": [
       "(0.014401316691811822, 386)"
      ]
     },
     "execution_count": 10,
     "metadata": {},
     "output_type": "execute_result"
    }
   ],
   "source": [
    "problems_2_to_4(X,Y,1)"
   ]
  },
  {
   "cell_type": "code",
   "execution_count": 11,
   "metadata": {},
   "outputs": [
    {
     "name": "stdout",
     "output_type": "stream",
     "text": [
      "E_in = 0.09024825126868742, # support vectors = 1950\n"
     ]
    },
    {
     "data": {
      "text/plain": [
       "(0.09024825126868742, 1950)"
      ]
     },
     "execution_count": 11,
     "metadata": {},
     "output_type": "execute_result"
    }
   ],
   "source": [
    "problems_2_to_4(X,Y,3)"
   ]
  },
  {
   "cell_type": "code",
   "execution_count": 12,
   "metadata": {},
   "outputs": [
    {
     "name": "stdout",
     "output_type": "stream",
     "text": [
      "E_in = 0.07625840076807022, # support vectors = 1585\n"
     ]
    },
    {
     "data": {
      "text/plain": [
       "(0.07625840076807022, 1585)"
      ]
     },
     "execution_count": 12,
     "metadata": {},
     "output_type": "execute_result"
    }
   ],
   "source": [
    "problems_2_to_4(X,Y,5)"
   ]
  },
  {
   "cell_type": "code",
   "execution_count": 13,
   "metadata": {},
   "outputs": [
    {
     "name": "stdout",
     "output_type": "stream",
     "text": [
      "E_in = 0.08846523110684405, # support vectors = 1704\n"
     ]
    },
    {
     "data": {
      "text/plain": [
       "(0.08846523110684405, 1704)"
      ]
     },
     "execution_count": 13,
     "metadata": {},
     "output_type": "execute_result"
    }
   ],
   "source": [
    "problems_2_to_4(X,Y,7)"
   ]
  },
  {
   "cell_type": "code",
   "execution_count": 14,
   "metadata": {},
   "outputs": [
    {
     "name": "stdout",
     "output_type": "stream",
     "text": [
      "E_in = 0.08832807570977919, # support vectors = 1978\n"
     ]
    },
    {
     "data": {
      "text/plain": [
       "(0.08832807570977919, 1978)"
      ]
     },
     "execution_count": 14,
     "metadata": {},
     "output_type": "execute_result"
    }
   ],
   "source": [
    "problems_2_to_4(X,Y,9)"
   ]
  },
  {
   "cell_type": "markdown",
   "metadata": {},
   "source": [
    "Lowest `E_in` for digit 1. Answer is [a].\n",
    "\n",
    "---"
   ]
  },
  {
   "cell_type": "markdown",
   "metadata": {},
   "source": [
    "![](hw8_images/hw8p4.png)"
   ]
  },
  {
   "cell_type": "markdown",
   "metadata": {},
   "source": [
    "**Answer:**\n",
    "\n",
    "- digit 0 classifier has 2179 support vectors.\n",
    "- digit 1 classifier has 386 support vectors.\n",
    "\n",
    "Difference is 1793. Answer is [c].\n",
    "\n",
    "---"
   ]
  },
  {
   "cell_type": "markdown",
   "metadata": {},
   "source": [
    "![](hw8_images/hw8p5.png)"
   ]
  },
  {
   "cell_type": "markdown",
   "metadata": {},
   "source": [
    "**Answer:**"
   ]
  },
  {
   "cell_type": "code",
   "execution_count": 15,
   "metadata": {},
   "outputs": [],
   "source": [
    "def make_X_Y_ovo(digit_1, digit_2, X, Y):\n",
    "    Y_ovo = (Y == digit_1)*(+1.0) + (Y == digit_2)*(-1.0) + \\\n",
    "    np.all(np.array([(Y != digit_1) , (Y != digit_2)]))*(0.0)\n",
    "    indices_to_be_deleted = np.nonzero(Y_ovo == 0.0)\n",
    "    Y_ovo_trunc = np.delete(Y_ovo, indices_to_be_deleted)\n",
    "    X_ovo_trunc = np.delete(X, indices_to_be_deleted, axis=0)\n",
    "    return X_ovo_trunc, Y_ovo_trunc"
   ]
  },
  {
   "cell_type": "code",
   "execution_count": 16,
   "metadata": {},
   "outputs": [],
   "source": [
    "#one-vs-one\n",
    "def problems_5_and_6(X, Y, X_test, Y_test, digit_1, digit_2, Q, C):\n",
    "     X_ovo_trunc, Y_ovo_trunc = make_X_Y_ovo(digit_1, digit_2, X, Y)\n",
    "     X_test_ovo_trunc, Y_test_ovo_trunc = \\\n",
    "         make_X_Y_ovo(digit_1, digit_2, X_test, Y_test)\n",
    "     N_trunc = np.size(Y_ovo_trunc)\n",
    "     N_test_trunc = np.size(Y_test_ovo_trunc)\n",
    "     clf = svm_soft_poly(Q, C)\n",
    "     clf.fit(X_ovo_trunc, Y_ovo_trunc)\n",
    "     Y_model_trunc = clf.predict(X_ovo_trunc)\n",
    "     E_in = np.count_nonzero(Y_ovo_trunc != Y_model_trunc) / N_trunc\n",
    "     Y_test_model_trunc = clf.predict(X_test_ovo_trunc)\n",
    "     E_out = np.count_nonzero(Y_test_ovo_trunc != \\\n",
    "                              Y_test_model_trunc) / N_test_trunc\n",
    "     num_support_vectors = np.size(clf.support_)\n",
    "     print(f\"E_in = {E_in}, E_out = {E_out}, \\\n",
    "# support vectors = {num_support_vectors}\")\n",
    "     return E_in, E_out, num_support_vectors"
   ]
  },
  {
   "cell_type": "code",
   "execution_count": 17,
   "metadata": {},
   "outputs": [],
   "source": [
    "X_test,Y_test = read_test_set()"
   ]
  },
  {
   "cell_type": "code",
   "execution_count": 18,
   "metadata": {},
   "outputs": [
    {
     "name": "stdout",
     "output_type": "stream",
     "text": [
      "E_in = 0.004484304932735426, E_out = 0.01650943396226415, # support vectors = 76\n"
     ]
    },
    {
     "data": {
      "text/plain": [
       "(0.004484304932735426, 0.01650943396226415, 76)"
      ]
     },
     "execution_count": 18,
     "metadata": {},
     "output_type": "execute_result"
    }
   ],
   "source": [
    "problems_5_and_6(X, Y, X_test, Y_test, 1, 5, 2, 0.001)"
   ]
  },
  {
   "cell_type": "code",
   "execution_count": 19,
   "metadata": {},
   "outputs": [
    {
     "name": "stdout",
     "output_type": "stream",
     "text": [
      "E_in = 0.004484304932735426, E_out = 0.018867924528301886, # support vectors = 34\n"
     ]
    },
    {
     "data": {
      "text/plain": [
       "(0.004484304932735426, 0.018867924528301886, 34)"
      ]
     },
     "execution_count": 19,
     "metadata": {},
     "output_type": "execute_result"
    }
   ],
   "source": [
    "problems_5_and_6(X, Y, X_test, Y_test, 1, 5, 2, 0.01)"
   ]
  },
  {
   "cell_type": "code",
   "execution_count": 20,
   "metadata": {},
   "outputs": [
    {
     "name": "stdout",
     "output_type": "stream",
     "text": [
      "E_in = 0.004484304932735426, E_out = 0.018867924528301886, # support vectors = 24\n"
     ]
    },
    {
     "data": {
      "text/plain": [
       "(0.004484304932735426, 0.018867924528301886, 24)"
      ]
     },
     "execution_count": 20,
     "metadata": {},
     "output_type": "execute_result"
    }
   ],
   "source": [
    "problems_5_and_6(X, Y, X_test, Y_test, 1, 5, 2, 0.1)"
   ]
  },
  {
   "cell_type": "code",
   "execution_count": 21,
   "metadata": {},
   "outputs": [
    {
     "name": "stdout",
     "output_type": "stream",
     "text": [
      "E_in = 0.0032030749519538757, E_out = 0.018867924528301886, # support vectors = 24\n"
     ]
    },
    {
     "data": {
      "text/plain": [
       "(0.0032030749519538757, 0.018867924528301886, 24)"
      ]
     },
     "execution_count": 21,
     "metadata": {},
     "output_type": "execute_result"
    }
   ],
   "source": [
    "problems_5_and_6(X, Y, X_test, Y_test, 1, 5, 2, 1.0)"
   ]
  },
  {
   "cell_type": "markdown",
   "metadata": {},
   "source": [
    "- The number of support vectors goes down for `C = 0.001`, `0.01`, and `0.1`.\n",
    "- The number of support vectors is the same for `C = 0.1` and `1.0`.\n",
    "\n",
    "Thus the number of support vectors does not go down strictly so.\n",
    "\n",
    "The number of support vectors does not go up when `C` goes up.\n",
    "\n",
    "`E_out` goes down when `C` goes up from `0.001` to `0.01`, but then it stays the same for `0.1` and `1.0`.\n",
    "\n",
    "The lowest `E_in` is attained for `C = 1.0`, i.e. for the maximum `C`.\n",
    "\n",
    "Thus, the answer is [d].\n",
    "\n",
    "---"
   ]
  },
  {
   "cell_type": "markdown",
   "metadata": {},
   "source": [
    "![](hw8_images/hw8p6.png)"
   ]
  },
  {
   "cell_type": "markdown",
   "metadata": {},
   "source": [
    "**Answer:**"
   ]
  },
  {
   "cell_type": "code",
   "execution_count": 22,
   "metadata": {},
   "outputs": [
    {
     "name": "stdout",
     "output_type": "stream",
     "text": [
      "E_in = 0.008968609865470852, E_out = 0.01650943396226415, # support vectors = 236\n"
     ]
    },
    {
     "data": {
      "text/plain": [
       "(0.008968609865470852, 0.01650943396226415, 236)"
      ]
     },
     "execution_count": 22,
     "metadata": {},
     "output_type": "execute_result"
    }
   ],
   "source": [
    "problems_5_and_6(X, Y, X_test, Y_test, 1, 5, Q=2, C=0.0001)"
   ]
  },
  {
   "cell_type": "code",
   "execution_count": 23,
   "metadata": {},
   "outputs": [
    {
     "name": "stdout",
     "output_type": "stream",
     "text": [
      "E_in = 0.004484304932735426, E_out = 0.018867924528301886, # support vectors = 26\n"
     ]
    },
    {
     "data": {
      "text/plain": [
       "(0.004484304932735426, 0.018867924528301886, 26)"
      ]
     },
     "execution_count": 23,
     "metadata": {},
     "output_type": "execute_result"
    }
   ],
   "source": [
    "problems_5_and_6(X, Y, X_test, Y_test, 1, 5, Q=5, C=0.0001)"
   ]
  },
  {
   "cell_type": "markdown",
   "metadata": {},
   "source": [
    "=> When `C = 0.0001`, `E_in` is NOT higher at `Q = 5`."
   ]
  },
  {
   "cell_type": "code",
   "execution_count": 24,
   "metadata": {},
   "outputs": [
    {
     "name": "stdout",
     "output_type": "stream",
     "text": [
      "E_in = 0.004484304932735426, E_out = 0.01650943396226415, # support vectors = 76\n"
     ]
    },
    {
     "data": {
      "text/plain": [
       "(0.004484304932735426, 0.01650943396226415, 76)"
      ]
     },
     "execution_count": 24,
     "metadata": {},
     "output_type": "execute_result"
    }
   ],
   "source": [
    "problems_5_and_6(X, Y, X_test, Y_test, 1, 5, Q=2, C=0.001)"
   ]
  },
  {
   "cell_type": "code",
   "execution_count": 25,
   "metadata": {},
   "outputs": [
    {
     "name": "stdout",
     "output_type": "stream",
     "text": [
      "E_in = 0.004484304932735426, E_out = 0.02122641509433962, # support vectors = 25\n"
     ]
    },
    {
     "data": {
      "text/plain": [
       "(0.004484304932735426, 0.02122641509433962, 25)"
      ]
     },
     "execution_count": 25,
     "metadata": {},
     "output_type": "execute_result"
    }
   ],
   "source": [
    "problems_5_and_6(X, Y, X_test, Y_test, 1, 5, Q=5, C=0.001)"
   ]
  },
  {
   "cell_type": "markdown",
   "metadata": {},
   "source": [
    "=> When `C = 0.001`, the number of support vectors is lower at `Q = 5`."
   ]
  },
  {
   "cell_type": "code",
   "execution_count": 26,
   "metadata": {},
   "outputs": [
    {
     "name": "stdout",
     "output_type": "stream",
     "text": [
      "E_in = 0.004484304932735426, E_out = 0.018867924528301886, # support vectors = 34\n"
     ]
    },
    {
     "data": {
      "text/plain": [
       "(0.004484304932735426, 0.018867924528301886, 34)"
      ]
     },
     "execution_count": 26,
     "metadata": {},
     "output_type": "execute_result"
    }
   ],
   "source": [
    "problems_5_and_6(X, Y, X_test, Y_test, 1, 5, Q=2, C=0.01)"
   ]
  },
  {
   "cell_type": "code",
   "execution_count": 27,
   "metadata": {},
   "outputs": [
    {
     "name": "stdout",
     "output_type": "stream",
     "text": [
      "E_in = 0.003843689942344651, E_out = 0.02122641509433962, # support vectors = 23\n"
     ]
    },
    {
     "data": {
      "text/plain": [
       "(0.003843689942344651, 0.02122641509433962, 23)"
      ]
     },
     "execution_count": 27,
     "metadata": {},
     "output_type": "execute_result"
    }
   ],
   "source": [
    "problems_5_and_6(X, Y, X_test, Y_test, 1, 5, Q=5, C=0.01)"
   ]
  },
  {
   "cell_type": "markdown",
   "metadata": {},
   "source": [
    "=> When `C = 0.01`, `E_in` is NOT higher at `Q = 5`."
   ]
  },
  {
   "cell_type": "code",
   "execution_count": 28,
   "metadata": {},
   "outputs": [
    {
     "name": "stdout",
     "output_type": "stream",
     "text": [
      "E_in = 0.0032030749519538757, E_out = 0.018867924528301886, # support vectors = 24\n"
     ]
    },
    {
     "data": {
      "text/plain": [
       "(0.0032030749519538757, 0.018867924528301886, 24)"
      ]
     },
     "execution_count": 28,
     "metadata": {},
     "output_type": "execute_result"
    }
   ],
   "source": [
    "problems_5_and_6(X, Y, X_test, Y_test, 1, 5, Q=2, C=1.0)"
   ]
  },
  {
   "cell_type": "code",
   "execution_count": 29,
   "metadata": {},
   "outputs": [
    {
     "name": "stdout",
     "output_type": "stream",
     "text": [
      "E_in = 0.0032030749519538757, E_out = 0.02122641509433962, # support vectors = 21\n"
     ]
    },
    {
     "data": {
      "text/plain": [
       "(0.0032030749519538757, 0.02122641509433962, 21)"
      ]
     },
     "execution_count": 29,
     "metadata": {},
     "output_type": "execute_result"
    }
   ],
   "source": [
    "problems_5_and_6(X, Y, X_test, Y_test, 1, 5, Q=5, C=1.0)"
   ]
  },
  {
   "cell_type": "markdown",
   "metadata": {},
   "source": [
    "=> When `C = 1`, `E_out` is NOT lower at `Q = 5`.\n",
    "\n",
    "Thus, the answer is [b].\n",
    "\n",
    "---"
   ]
  },
  {
   "cell_type": "markdown",
   "metadata": {},
   "source": [
    "![](hw8_images/hw8p7a.png)\n",
    "![](hw8_images/hw8p7b.png)"
   ]
  },
  {
   "cell_type": "markdown",
   "metadata": {},
   "source": [
    "**Answer:**"
   ]
  },
  {
   "cell_type": "code",
   "execution_count": 30,
   "metadata": {},
   "outputs": [],
   "source": [
    "# Cross Validation\n",
    "# problems 7-8\n",
    "\n",
    "# discard digits not needed, and split X and Y\n",
    "def split_X_Y(S, num_folds, digit_1, digit_2):\n",
    "    X = S[:,1:3]\n",
    "    Y = S[:,0]\n",
    "    X_ovo_trunc, Y_ovo_trunc = make_X_Y_ovo(digit_1, digit_2, X, Y)\n",
    "    X_split = np.array_split(X_ovo_trunc, num_folds)\n",
    "    Y_split = np.array_split(Y_ovo_trunc, num_folds)\n",
    "    return (X_split, Y_split)"
   ]
  },
  {
   "cell_type": "code",
   "execution_count": 31,
   "metadata": {},
   "outputs": [],
   "source": [
    "# training set = concatenate num_folds-1 subsets \n",
    "# validation set = remaining (i_val-th) fold\n",
    "def make_train_val_sets(X_split, Y_split, i_val):\n",
    "    num_cols_X_split = 2\n",
    "    X_val = X_split[i_val]\n",
    "    Y_val = Y_split[i_val]\n",
    "    num_folds = np.size(X_split)\n",
    "    i = 0\n",
    "    X_train = np.empty((0, num_cols_X_split))\n",
    "    Y_train = np.empty(0)\n",
    "    while True:\n",
    "        if i != i_val:\n",
    "            X_train = np.concatenate((X_train, X_split[i]))\n",
    "            Y_train = np.concatenate((Y_train, Y_split[i]))\n",
    "        i += 1\n",
    "        if i == num_folds:\n",
    "            break\n",
    "    return (X_train, Y_train, X_val, Y_val)"
   ]
  },
  {
   "cell_type": "code",
   "execution_count": 32,
   "metadata": {},
   "outputs": [],
   "source": [
    "# one-vs-one using cross-validation\n",
    "def ovo_cv(S, num_folds, digit_1, digit_2, Q, C): \n",
    "    X_split, Y_split = split_X_Y(S, num_folds, digit_1, digit_2)\n",
    "    i = 0\n",
    "    E_cv_array = np.empty(num_folds)\n",
    "    clf = svm_soft_poly(Q, C)\n",
    "    while True:\n",
    "        X_train, Y_train, X_val, Y_val = \\\n",
    "            make_train_val_sets(X_split, Y_split, i)\n",
    "        clf.fit(X_train, Y_train)\n",
    "        Y_val_model = clf.predict(X_val)\n",
    "        N = np.size(Y_val)\n",
    "        E_cv_array[i] = np.count_nonzero(Y_val != Y_val_model) / N\n",
    "        i += 1\n",
    "        if (i == num_folds):\n",
    "            break\n",
    "    return np.mean(E_cv_array)"
   ]
  },
  {
   "cell_type": "code",
   "execution_count": 33,
   "metadata": {},
   "outputs": [],
   "source": [
    "# order C_array from smallest C to largest\n",
    "# np.argmin() will return the index of the first occurence of the min value\n",
    "# thus it will correspond to the smallest C in case of a tie\n",
    "def problems_7_and_8(num_folds, digit_1, digit_2, Q, C_array, num_runs):\n",
    "    time_start = time.time()\n",
    "    S = np.loadtxt(\"http://www.amlbook.com/data/zip/features.train\")\n",
    "    N_C = np.size(C_array)\n",
    "    E_cv = np.empty(N_C)\n",
    "    E_cv_all = np.empty((num_runs, N_C))\n",
    "    i_C_best_array = np.empty(num_runs)\n",
    "    i = 0 # tracks runs\n",
    "    while True:\n",
    "        np.random.shuffle(S)\n",
    "        i_C = 0\n",
    "        for C in C_array:\n",
    "            E_cv[i_C] = ovo_cv(S, num_folds, digit_1, digit_2, Q, C)\n",
    "            i_C += 1\n",
    "        E_cv_all[i, :] = E_cv\n",
    "        # index of smallest E_cv\n",
    "        i_C_best = np.argmin(E_cv)\n",
    "        # collect indices in an array, they point to the selected C\n",
    "        i_C_best_array[i] = i_C_best\n",
    "        i += 1\n",
    "        if i == num_runs:\n",
    "            break\n",
    "    # count number of occurences of each index of C_array\n",
    "    num_occur_array = np.empty(N_C)\n",
    "    for i in range(0, N_C):\n",
    "        num_occur_array[i] = np.count_nonzero(i_C_best_array == i)\n",
    "    index_max = np.argmax(num_occur_array)\n",
    "    print(f\"Most often selected ({num_occur_array[index_max]} times) \\\n",
    "is C = {C_array[index_max]}\")\n",
    "    # average E_cv for the selected C\n",
    "    E_cv_sel_avg = np.mean(E_cv_all[:, index_max])\n",
    "    print(f\"Average winning selection E_cv = {E_cv_sel_avg}\")\n",
    "    time_end = time.time()\n",
    "    print(f\"Run time = {(time_end - time_start):3.1f} seconds.\")\n",
    "    return num_occur_array"
   ]
  },
  {
   "cell_type": "code",
   "execution_count": 34,
   "metadata": {},
   "outputs": [],
   "source": [
    "C_array = np.array([0.0001, 0.001, 0.01, 0.1, 1.0])"
   ]
  },
  {
   "cell_type": "code",
   "execution_count": 35,
   "metadata": {},
   "outputs": [
    {
     "name": "stdout",
     "output_type": "stream",
     "text": [
      "Most often selected (39.0 times) is C = 0.001\n",
      "Average winning selection E_cv = 0.004849706026457618\n",
      "Run time = 22.1 seconds.\n"
     ]
    },
    {
     "data": {
      "text/plain": [
       "array([ 0., 39., 35., 14., 12.])"
      ]
     },
     "execution_count": 35,
     "metadata": {},
     "output_type": "execute_result"
    }
   ],
   "source": [
    "problems_7_and_8(10, 1, 5, 2, C_array, 100)"
   ]
  },
  {
   "cell_type": "markdown",
   "metadata": {},
   "source": [
    "In each run, use the smallest `E_cv` to select the `C`.\n",
    "\n",
    "After `100` runs, count how many times each `C` was selected.\n",
    "\n",
    "Most often selected was `C = 0.001`.\n",
    "\n",
    "The answer is [b].\n",
    "\n",
    "---"
   ]
  },
  {
   "cell_type": "markdown",
   "metadata": {},
   "source": [
    "![](hw8_images/hw8p8.png)"
   ]
  },
  {
   "cell_type": "markdown",
   "metadata": {},
   "source": [
    "**Answer:**\n",
    "\n",
    "We got average `E_cv = 0.0048` for the winning selection in problem 7.\n",
    "\n",
    "The answer is [c].\n",
    "\n",
    "---"
   ]
  },
  {
   "cell_type": "markdown",
   "metadata": {},
   "source": [
    "![](hw8_images/hw8p9.png)"
   ]
  },
  {
   "cell_type": "markdown",
   "metadata": {},
   "source": [
    "**Answer:**"
   ]
  },
  {
   "cell_type": "code",
   "execution_count": 36,
   "metadata": {},
   "outputs": [],
   "source": [
    "# RBF Kernel\n",
    "# problems 9 and 10\n",
    "    \n",
    "# SVM with soft margin\n",
    "# RBF kernel\n",
    "# use sklearn package\n",
    "def svm_soft_rbf(C):\n",
    "    clf = svm.SVC(C=C, kernel='rbf', gamma=1.0)\n",
    "    return clf"
   ]
  },
  {
   "cell_type": "code",
   "execution_count": 37,
   "metadata": {},
   "outputs": [],
   "source": [
    "# one-vs-one\n",
    "# fn almost identical to problems_5_and_6(), except for RBF kernel used here   \n",
    "def problems_9_and_10(X, Y, X_test, Y_test, digit_1, digit_2, C):\n",
    "     X_ovo_trunc, Y_ovo_trunc = make_X_Y_ovo(digit_1, digit_2, X, Y)\n",
    "     X_test_ovo_trunc, Y_test_ovo_trunc = \\\n",
    "         make_X_Y_ovo(digit_1, digit_2, X_test, Y_test)\n",
    "     N_trunc = np.size(Y_ovo_trunc)\n",
    "     N_test_trunc = np.size(Y_test_ovo_trunc)\n",
    "     clf = svm_soft_rbf(C)\n",
    "     clf.fit(X_ovo_trunc, Y_ovo_trunc)\n",
    "     Y_model_trunc = clf.predict(X_ovo_trunc)\n",
    "     E_in = np.count_nonzero(Y_ovo_trunc != Y_model_trunc) / N_trunc\n",
    "     Y_test_model_trunc = clf.predict(X_test_ovo_trunc)\n",
    "     E_out = np.count_nonzero(Y_test_ovo_trunc != \\\n",
    "                              Y_test_model_trunc) / N_test_trunc\n",
    "     num_support_vectors = np.size(clf.support_)\n",
    "     print(f\"E_in = {E_in}, E_out = {E_out}, \\\n",
    "# support vectors = {num_support_vectors}\")\n",
    "     return E_in, E_out, num_support_vectors"
   ]
  },
  {
   "cell_type": "code",
   "execution_count": 38,
   "metadata": {},
   "outputs": [
    {
     "name": "stdout",
     "output_type": "stream",
     "text": [
      "E_in = 0.003843689942344651, E_out = 0.02358490566037736, # support vectors = 406\n"
     ]
    },
    {
     "data": {
      "text/plain": [
       "(0.003843689942344651, 0.02358490566037736, 406)"
      ]
     },
     "execution_count": 38,
     "metadata": {},
     "output_type": "execute_result"
    }
   ],
   "source": [
    "problems_9_and_10(X, Y, X_test, Y_test, 1, 5, C=0.01)"
   ]
  },
  {
   "cell_type": "code",
   "execution_count": 39,
   "metadata": {},
   "outputs": [
    {
     "name": "stdout",
     "output_type": "stream",
     "text": [
      "E_in = 0.004484304932735426, E_out = 0.02122641509433962, # support vectors = 31\n"
     ]
    },
    {
     "data": {
      "text/plain": [
       "(0.004484304932735426, 0.02122641509433962, 31)"
      ]
     },
     "execution_count": 39,
     "metadata": {},
     "output_type": "execute_result"
    }
   ],
   "source": [
    "problems_9_and_10(X, Y, X_test, Y_test, 1, 5, C=1.0)"
   ]
  },
  {
   "cell_type": "code",
   "execution_count": 40,
   "metadata": {},
   "outputs": [
    {
     "name": "stdout",
     "output_type": "stream",
     "text": [
      "E_in = 0.0032030749519538757, E_out = 0.018867924528301886, # support vectors = 22\n"
     ]
    },
    {
     "data": {
      "text/plain": [
       "(0.0032030749519538757, 0.018867924528301886, 22)"
      ]
     },
     "execution_count": 40,
     "metadata": {},
     "output_type": "execute_result"
    }
   ],
   "source": [
    "problems_9_and_10(X, Y, X_test, Y_test, 1, 5, C=100.0)"
   ]
  },
  {
   "cell_type": "code",
   "execution_count": 41,
   "metadata": {},
   "outputs": [
    {
     "name": "stdout",
     "output_type": "stream",
     "text": [
      "E_in = 0.0025624599615631004, E_out = 0.02358490566037736, # support vectors = 19\n"
     ]
    },
    {
     "data": {
      "text/plain": [
       "(0.0025624599615631004, 0.02358490566037736, 19)"
      ]
     },
     "execution_count": 41,
     "metadata": {},
     "output_type": "execute_result"
    }
   ],
   "source": [
    "problems_9_and_10(X, Y, X_test, Y_test, 1, 5, C=1e4)"
   ]
  },
  {
   "cell_type": "code",
   "execution_count": 42,
   "metadata": {},
   "outputs": [
    {
     "name": "stdout",
     "output_type": "stream",
     "text": [
      "E_in = 0.0006406149903907751, E_out = 0.02358490566037736, # support vectors = 17\n"
     ]
    },
    {
     "data": {
      "text/plain": [
       "(0.0006406149903907751, 0.02358490566037736, 17)"
      ]
     },
     "execution_count": 42,
     "metadata": {},
     "output_type": "execute_result"
    }
   ],
   "source": [
    "problems_9_and_10(X, Y, X_test, Y_test, 1, 5, C=1e6)"
   ]
  },
  {
   "cell_type": "markdown",
   "metadata": {},
   "source": [
    "Lowest `E_in` achieved for `C = 1e6`.\n",
    "\n",
    "Answer is [e].\n",
    "\n",
    "---"
   ]
  },
  {
   "cell_type": "markdown",
   "metadata": {},
   "source": [
    "![](hw8_images/hw8p10.png)"
   ]
  },
  {
   "cell_type": "markdown",
   "metadata": {},
   "source": [
    "**Answer:**\n",
    "\n",
    "Looking at the runs from problem 9, lowest `E_out` achieved for `C = 100`.\n",
    "\n",
    "Answer is [c].\n",
    "\n",
    "---"
   ]
  }
 ],
 "metadata": {
  "kernelspec": {
   "display_name": "Python 3",
   "language": "python",
   "name": "python3"
  },
  "language_info": {
   "codemirror_mode": {
    "name": "ipython",
    "version": 3
   },
   "file_extension": ".py",
   "mimetype": "text/x-python",
   "name": "python",
   "nbconvert_exporter": "python",
   "pygments_lexer": "ipython3",
   "version": "3.7.5"
  }
 },
 "nbformat": 4,
 "nbformat_minor": 4
}
