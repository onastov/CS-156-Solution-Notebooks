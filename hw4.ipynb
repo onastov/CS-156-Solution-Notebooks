{
 "cells": [
  {
   "cell_type": "markdown",
   "metadata": {},
   "source": [
    "# Learning From Data - Homework 4\n",
    "## Ognen Nastov"
   ]
  },
  {
   "cell_type": "markdown",
   "metadata": {},
   "source": [
    "<img src=\"hw4_images/hw4p1.png\">"
   ]
  },
  {
   "cell_type": "markdown",
   "metadata": {},
   "source": [
    "**Answer:**\n",
    "\n",
    "$$\\delta = 0.05$$\n",
    "$$\\epsilon = 0.05$$\n",
    "\n",
    "$$N ≥ \\frac{8}{\\epsilon^2} \\ln\\left(\\frac{4 m_H(2 N)}{\\delta}\\right)$$\n",
    "$$N ≥ \\frac{8}{\\epsilon^2} \\ln\\left(\\frac{4 (2 N)^{d_{vc}}}{\\delta}\\right)$$\n",
    "\n",
    "Iterate:  \n",
    "- Try $N = 400,000$. $N ≥ \\frac{8}{0.05^2} \\ln\\left(\\frac{4 \\times (2 \\times 400,000)^{10}}{0.05}\\right) ≈ 448,978$.\n",
    "- Try $N = 448,978$. $RHS ≈ 452,675$.\n",
    "- Try $N = 452,675$. $RHS ≈ 452,937$.\n",
    "- Try $N = 452,937$. $RHS ≈ 452,955$.\n",
    "\n",
    "Closest $N = 460,000$, so answer is [d].\n",
    "\n",
    "---"
   ]
  },
  {
   "cell_type": "markdown",
   "metadata": {},
   "source": [
    "<img src=\"hw4_images/hw4p2.png\">"
   ]
  },
  {
   "cell_type": "markdown",
   "metadata": {},
   "source": [
    "**Answer:**\n",
    "\n",
    "Bounds [c] and [d]: solve for $\\epsilon$ using quadratic equation solution formula.\n",
    "\n",
    "$$m_H(n) = \\begin{cases} 2^n & \\text{for } n < d_{vc}\\\\\n",
    "n^{d_{vc}} & \\text{for } n ≥ d_{vc}\n",
    "\\end{cases}$$"
   ]
  },
  {
   "cell_type": "markdown",
   "metadata": {},
   "source": [
    "Smallest bound for $N=10,000$?"
   ]
  },
  {
   "cell_type": "code",
   "execution_count": 1,
   "metadata": {},
   "outputs": [],
   "source": [
    "import numpy as np\n",
    "import matplotlib.pyplot as plt\n",
    "\n",
    "# problems 2 and 3\n",
    "# m_H(n) = 2^n for n < d_vc\n",
    "# m_H(n) = (n)^d_vc for n ≥ d_vc\n",
    "\n",
    "def orig_vc_bound(N, delta, d_vc):\n",
    "    if 2*N < d_vc:\n",
    "        term = 2*N*np.log(2)\n",
    "    else:\n",
    "        term = d_vc*np.log(2*N)   \n",
    "    value = np.sqrt((8/N)*(term + np.log(4/delta)))\n",
    "    return value\n",
    "\n",
    "def rademacher_penalty_bound(N, delta, d_vc):\n",
    "    if N < d_vc:\n",
    "        term = N*np.log(2)\n",
    "    else:\n",
    "        term = d_vc*np.log(N)\n",
    "    value = np.sqrt((2/N)*(np.log(2*N) + term)) + \\\n",
    "            np.sqrt((2/N)*np.log(1/delta)) + \\\n",
    "            1/N\n",
    "    return value\n",
    "\n",
    "def parrondo_van_den_broek_bound(N, delta, d_vc):\n",
    "    if 2*N < d_vc:\n",
    "        term = 2*N*np.log(2)\n",
    "    else:\n",
    "        term = d_vc*np.log(2*N)\n",
    "    value = (1/N) + np.sqrt((1/(N*N)) + \\\n",
    "             (1/N)*(np.log(6/delta) + term))\n",
    "    return value\n",
    "\n",
    "def devroye_bound(N, delta, d_vc):\n",
    "    if N*N < d_vc:\n",
    "        term = N*N*np.log(2)\n",
    "    else:\n",
    "        term = 2*d_vc*np.log(N)\n",
    "    value = 1/(N-2) + np.sqrt(1/np.power(N-2,2) + \\\n",
    "            (1/(2*(N-2)))*(np.log(4/delta) + term))\n",
    "    return value"
   ]
  },
  {
   "cell_type": "code",
   "execution_count": 2,
   "metadata": {},
   "outputs": [
    {
     "data": {
      "text/plain": [
       "0.632174915200836"
      ]
     },
     "execution_count": 2,
     "metadata": {},
     "output_type": "execute_result"
    }
   ],
   "source": [
    "orig_vc_bound(10000, 0.05, 50)"
   ]
  },
  {
   "cell_type": "code",
   "execution_count": 3,
   "metadata": {},
   "outputs": [
    {
     "data": {
      "text/plain": [
       "0.3313087859616395"
      ]
     },
     "execution_count": 3,
     "metadata": {},
     "output_type": "execute_result"
    }
   ],
   "source": [
    "rademacher_penalty_bound(10000, 0.05, 50)"
   ]
  },
  {
   "cell_type": "code",
   "execution_count": 4,
   "metadata": {},
   "outputs": [
    {
     "data": {
      "text/plain": [
       "0.2236982936807856"
      ]
     },
     "execution_count": 4,
     "metadata": {},
     "output_type": "execute_result"
    }
   ],
   "source": [
    "parrondo_van_den_broek_bound(10000, 0.05, 50)"
   ]
  },
  {
   "cell_type": "code",
   "execution_count": 5,
   "metadata": {},
   "outputs": [
    {
     "data": {
      "text/plain": [
       "0.2152280498082467"
      ]
     },
     "execution_count": 5,
     "metadata": {},
     "output_type": "execute_result"
    }
   ],
   "source": [
    "devroye_bound(10000, 0.05, 50)"
   ]
  },
  {
   "cell_type": "markdown",
   "metadata": {},
   "source": [
    "Smallest bound for $N = 10,000$ is Devroye bound, [d].\n",
    "\n",
    "---"
   ]
  },
  {
   "cell_type": "markdown",
   "metadata": {},
   "source": [
    "<img src=\"hw4_images/hw4p3.png\">"
   ]
  },
  {
   "cell_type": "markdown",
   "metadata": {},
   "source": [
    "**Answer:**"
   ]
  },
  {
   "cell_type": "code",
   "execution_count": 6,
   "metadata": {},
   "outputs": [
    {
     "data": {
      "text/plain": [
       "4.254597220000659"
      ]
     },
     "execution_count": 6,
     "metadata": {},
     "output_type": "execute_result"
    }
   ],
   "source": [
    "orig_vc_bound(5, 0.05, 50)"
   ]
  },
  {
   "cell_type": "code",
   "execution_count": 7,
   "metadata": {},
   "outputs": [
    {
     "data": {
      "text/plain": [
       "2.813654929686762"
      ]
     },
     "execution_count": 7,
     "metadata": {},
     "output_type": "execute_result"
    }
   ],
   "source": [
    "rademacher_penalty_bound(5, 0.05, 50)"
   ]
  },
  {
   "cell_type": "code",
   "execution_count": 8,
   "metadata": {},
   "outputs": [
    {
     "data": {
      "text/plain": [
       "1.74395359699581"
      ]
     },
     "execution_count": 8,
     "metadata": {},
     "output_type": "execute_result"
    }
   ],
   "source": [
    "parrondo_van_den_broek_bound(5, 0.05, 50)"
   ]
  },
  {
   "cell_type": "code",
   "execution_count": 9,
   "metadata": {},
   "outputs": [
    {
     "data": {
      "text/plain": [
       "2.264540762867992"
      ]
     },
     "execution_count": 9,
     "metadata": {},
     "output_type": "execute_result"
    }
   ],
   "source": [
    "devroye_bound(5, 0.05, 50)"
   ]
  },
  {
   "cell_type": "markdown",
   "metadata": {},
   "source": [
    "Smallest bound is Parrondo and Van den Broek bound, [c]."
   ]
  },
  {
   "cell_type": "code",
   "execution_count": 10,
   "metadata": {},
   "outputs": [],
   "source": [
    "# plot the 4 bounds as function of N\n",
    "\n",
    "def plot_bounds(N_min, N_max, num_pts):\n",
    "    delta = 0.05\n",
    "    d_vc = 50\n",
    "    N = np.linspace(N_min, N_max, num_pts)\n",
    "    ix = 0\n",
    "    o = np.zeros(num_pts)\n",
    "    r = np.zeros(num_pts)\n",
    "    p = np.zeros(num_pts)\n",
    "    d = np.zeros(num_pts)\n",
    "    for n in N:\n",
    "        o[ix] = orig_vc_bound(n, delta, d_vc)\n",
    "        r[ix] = rademacher_penalty_bound(n, delta, d_vc)\n",
    "        p[ix] = parrondo_van_den_broek_bound(n, delta, d_vc)\n",
    "        d[ix] = devroye_bound(n, delta, d_vc)\n",
    "        ix += 1\n",
    "    plt.figure(figsize=(8,8), dpi=80)\n",
    "    #plt.axis([N_min, N_max, -1,1])\n",
    "    plt.grid()\n",
    "    plt.plot(N, o, 'b', label=\"orig\")\n",
    "    plt.plot(N, r, 'r', label=\"rademacher\")\n",
    "    plt.plot(N, p, 'g', label=\"parrondo\")\n",
    "    plt.plot(N, d, 'm', label=\"devroye\")\n",
    "    plt.legend(loc='upper right', frameon=True)\n",
    "    return"
   ]
  },
  {
   "cell_type": "code",
   "execution_count": 11,
   "metadata": {},
   "outputs": [
    {
     "data": {
      "image/png": "[encoded data removed]",
      "text/plain": [
       "<Figure size 640x640 with 1 Axes>"
      ]
     },
     "metadata": {
      "needs_background": "light"
     },
     "output_type": "display_data"
    }
   ],
   "source": [
    "plot_bounds(100, 10000, 100)"
   ]
  },
  {
   "cell_type": "markdown",
   "metadata": {},
   "source": [
    "---"
   ]
  },
  {
   "cell_type": "markdown",
   "metadata": {},
   "source": [
    "<img src=\"hw4_images/hw4p4.png\">"
   ]
  },
  {
   "cell_type": "markdown",
   "metadata": {},
   "source": [
    "**Answer**\n",
    "\n",
    "Minimize mean squared error:\n",
    "\n",
    "$$E_{in}(a) = (a x_1-y_1)^2 + (a x_2-y_2)^2$$\n",
    "\n",
    "$$\\frac{d E_{in}}{d a} = 0$$\n",
    "\n",
    "$$a = \\frac{x_1 y_1 + x_2 y_2}{x_1^2 + x_2^2}$$"
   ]
  },
  {
   "cell_type": "code",
   "execution_count": 12,
   "metadata": {},
   "outputs": [],
   "source": [
    "# training set has 2 examples [x1, x2]\n",
    "# number of training sets = N\n",
    "# X is (N, 2)\n",
    "def make_data_set(N):\n",
    "    X = np.zeros([N,2])\n",
    "    X[:,0] = np.random.uniform(-1,1,N)\n",
    "    X[:,1] = np.random.uniform(-1,1,N)\n",
    "    return X\n",
    "\n",
    "def get_g_bar(N):\n",
    "    X = make_data_set(N)\n",
    "    Y = np.sin(np.pi*X)\n",
    "    A = np.sum(X*Y,axis=1) / np.sum(X*X,axis=1)\n",
    "    a = np.mean(A)\n",
    "    print(f'a = {a}')\n",
    "    return"
   ]
  },
  {
   "cell_type": "code",
   "execution_count": 13,
   "metadata": {},
   "outputs": [
    {
     "name": "stdout",
     "output_type": "stream",
     "text": [
      "a = 1.4274592546292004\n"
     ]
    }
   ],
   "source": [
    "get_g_bar(100000)"
   ]
  },
  {
   "cell_type": "markdown",
   "metadata": {},
   "source": [
    "Answer is none of the above, [e].\n",
    "\n",
    "---"
   ]
  },
  {
   "cell_type": "markdown",
   "metadata": {},
   "source": [
    "<img src=\"hw4_images/hw4p5.png\">"
   ]
  },
  {
   "cell_type": "markdown",
   "metadata": {},
   "source": [
    "**Answer:**"
   ]
  },
  {
   "cell_type": "code",
   "execution_count": 14,
   "metadata": {},
   "outputs": [],
   "source": [
    "def get_bias_and_variance(N):\n",
    "    # get g_bar for h(x) = a*x\n",
    "    X = make_data_set(N)\n",
    "    Y = np.sin(np.pi*X)\n",
    "    A = np.sum(X*Y,axis=1) / np.sum(X*X,axis=1)\n",
    "    a = np.mean(A)\n",
    "    # calculate bias and var\n",
    "    X = np.random.uniform(-1,1,N)\n",
    "    Y = np.sin(np.pi*X)\n",
    "    bias = np.mean(np.square(a*X-Y))\n",
    "    var = np.mean(np.square(A*X-a*X))\n",
    "    print(f\"bias = {bias}\")\n",
    "    print(f\"var = {var}\")\n",
    "    return"
   ]
  },
  {
   "cell_type": "code",
   "execution_count": 15,
   "metadata": {},
   "outputs": [
    {
     "name": "stdout",
     "output_type": "stream",
     "text": [
      "bias = 0.2723229486717742\n",
      "var = 0.2343619567031222\n"
     ]
    }
   ],
   "source": [
    "get_bias_and_variance(100000)"
   ]
  },
  {
   "cell_type": "markdown",
   "metadata": {},
   "source": [
    "Answer is 0.3, [b].\n",
    "\n",
    "---"
   ]
  },
  {
   "cell_type": "markdown",
   "metadata": {},
   "source": [
    "<img src=\"hw4_images/hw4p6.png\">"
   ]
  },
  {
   "cell_type": "markdown",
   "metadata": {},
   "source": [
    "**Answer:**\n",
    "\n",
    "Answer is 0.2, [a].\n",
    "\n",
    "---"
   ]
  },
  {
   "cell_type": "markdown",
   "metadata": {},
   "source": [
    "<img src=\"hw4_images/hw4p7a.png\">\n",
    "<img src=\"hw4_images/hw4p7b.png\">"
   ]
  },
  {
   "cell_type": "markdown",
   "metadata": {},
   "source": [
    "**Answer:**\n",
    "\n",
    "a) Model $h(x) = b$:\n",
    "\n",
    "$$E_{in}(b) = (b-y_1)^2 + (b-y_2)^2$$\n",
    "\n",
    "$$\\frac{d E_{in}}{d b} = 0$$\n",
    "\n",
    "$$b = \\frac{y_1 + y_2}{2}$$\n",
    "\n",
    "b) Model $h(x) = a x$:\n",
    "\n",
    "$$E_{in}(a) = (a x_1 - y_1)^2 + (a x_2 - y_2)^2$$\n",
    "\n",
    "$$\\frac{d E_{in}}{d a} = 0$$\n",
    "\n",
    "$$a = \\frac{x_1 y_1 + x_2 y_2}{x_1^2+x_2^2}$$\n",
    "\n",
    "c) Model $h(x) = a x + b$:\n",
    "\n",
    "$$E_{in}(a,b) = (a x_1 + b - y_1)^2 + (a x_2 + b - y_2)^2$$\n",
    "\n",
    "$$\\begin{aligned}\n",
    "& \\frac{\\partial E_{in}}{\\partial a} = 0 \\\\ \\\\\n",
    "& \\frac{d E_{in}}{d b} = 0\n",
    "\\end{aligned}$$\n",
    "\n",
    "System of 2 linear equations with 2 unknowns:\n",
    "\n",
    "$$\\begin{aligned}\n",
    "& a (x_1^2 + x_2^2) + b (x_1 + x_2) = x_1 y_1 + x_2 y_2 \\\\\n",
    "& a (x_1 + x_2) + 2 b = y_1 + y_2\n",
    "\\end{aligned}$$\n",
    "\n",
    "solution:\n",
    "\n",
    "$$\\begin{aligned}\n",
    "a & = \\frac{y_1 - y_2}{x_1 - x_2} \\\\ \\\\\n",
    "b & = \\frac{x_1 y_2 - x_2 y_1}{x_1 - x_2}\n",
    "\\end{aligned}$$\n",
    "\n",
    "d) Model $h(x) = a x^2$:\n",
    "\n",
    "$$E_{in}(a) = (a x_1^2 - y_1)^2 + (a x_2^2 - y_2)^2$$\n",
    "\n",
    "$$\\frac{d E_{in}}{d a} = 0$$\n",
    "\n",
    "$$a = \\frac{x_1^2 y_1 + x_2^2 y_2}{x_1^4 + x_2^4}$$\n",
    "\n",
    "e) Model $h(x) = a x^2+b$:\n",
    "\n",
    "$$E_{in}(a,b) = (a x_1^2 + b - y_1)^2 + (a x_2^2 + b - y_2)^2$$\n",
    "\n",
    "$$\\begin{aligned}\n",
    "& \\frac{\\partial E_{in}}{\\partial a} = 0 \\\\ \\\\\n",
    "& \\frac{\\partial E_{in}}{\\partial b} = 0\n",
    "\\end{aligned}$$\n",
    "\n",
    "System of 2 linear equations with 2 unknowns:\n",
    "\n",
    "$$\\begin{aligned}\n",
    "& a (x_1^4 + x_2^4) + b (x_1^2 + x_2^2) = x_1^2 y1 + x_2^2 y_2  \\\\\n",
    "& a (x_1^2 + x_2^2) + 2 b = y_1 + y_2\n",
    "\\end{aligned}$$\n",
    "\n",
    "solution:\n",
    "\n",
    "$$\\begin{aligned} \n",
    "a & = \\frac{y_1 - y_2}{x_1^2 - x_2^2} \\\\ \\\\\n",
    "b & = \\frac{x_1^2 y_2 - x_2^2 y_1}{x_1^2 - x_2^2}\n",
    "\\end{aligned}$$\n",
    "\n",
    "Get bias and var for each of the five hypotheses $h(x)$ in python:"
   ]
  },
  {
   "cell_type": "code",
   "execution_count": 16,
   "metadata": {},
   "outputs": [],
   "source": [
    "def problem_7(N):\n",
    "    # training set\n",
    "    X_t = make_data_set(N)\n",
    "    Y_t = np.sin(np.pi*X_t)\n",
    "    # out of sample set to evaluate bias and variance\n",
    "    X = np.random.uniform(-1,1,N)\n",
    "    Y = np.sin(np.pi*X)\n",
    "    # case a: h(x) = b\n",
    "    B = 0.5*np.sum(Y_t,axis=1)\n",
    "    b = np.mean(B)\n",
    "    bias_a = np.mean(np.square(b-Y))\n",
    "    var_a = np.mean(np.square(B-b))\n",
    "    # case b: h(x) = a*x\n",
    "    A = np.sum(X_t*Y_t,axis=1) / np.sum(X_t*X_t,axis=1)\n",
    "    a = np.mean(A)\n",
    "    bias_b = np.mean(np.square(a*X-Y))\n",
    "    var_b = np.mean(np.square(A*X-a*X))\n",
    "    # case c: h(x) = a*x + b\n",
    "    A = (Y_t[:,0]-Y_t[:,1])/(X_t[:,0]-X_t[:,1])\n",
    "    a = np.mean(A)\n",
    "    B = (X_t[:,0]*Y_t[:,1]-X_t[:,1]*Y_t[:,0])/(X_t[:,0]-X_t[:,1])\n",
    "    b = np.mean(B)\n",
    "    bias_c = np.mean(np.square(a*X+b-Y))\n",
    "    var_c = np.mean(np.square(A*X+B-(a*X+b)))\n",
    "    # case d: h(x) = a*x^2\n",
    "    A = np.sum(np.square(X_t)*Y_t,axis=1) / np.sum(np.power(X_t,4),axis=1)\n",
    "    a = np.mean(A)\n",
    "    bias_d = np.mean(np.square(a*X*X-Y))\n",
    "    var_d = np.mean(np.square(A*X*X-a*X*X))\n",
    "    # case e: h(x) = a*x^2 + b\n",
    "    A = (Y_t[:,0]-Y_t[:,1])/(np.square(X_t[:,0])-np.square(X_t[:,1]))\n",
    "    a = np.mean(A)\n",
    "    B = (np.square(X_t[:,0])*Y_t[:,1]-np.square(X_t[:,1])*Y_t[:,0])/ \\\n",
    "        (np.square(X_t[:,0])-np.square(X_t[:,1]))\n",
    "    b = np.mean(B)\n",
    "    bias_e = np.mean(np.square(a*X*X+b-Y))\n",
    "    var_e = np.mean(np.square(A*X*X+B-(a*X*X+b)))\n",
    "    # print results\n",
    "    print(f\"case a: bias = {bias_a}, var = {var_a}, Eout = {bias_a + var_a}\")\n",
    "    print(f\"case b: bias = {bias_b}, var = {var_b}, Eout = {bias_b + var_b}\")\n",
    "    print(f\"case c: bias = {bias_c}, var = {var_c}, Eout = {bias_c + var_c}\")\n",
    "    print(f\"case d: bias = {bias_d}, var = {var_d}, Eout = {bias_d + var_d}\")\n",
    "    print(f\"case e: bias = {bias_e}, var = {var_e}, Eout = {bias_e + var_e}\")\n",
    "    return"
   ]
  },
  {
   "cell_type": "code",
   "execution_count": 17,
   "metadata": {},
   "outputs": [
    {
     "name": "stdout",
     "output_type": "stream",
     "text": [
      "case a: bias = 0.5005560466362249, var = 0.24963456543485205, Eout = 0.750190612071077\n",
      "case b: bias = 0.2699116075213415, var = 0.23519772976097297, Eout = 0.5051093372823146\n",
      "case c: bias = 0.20644625354085147, var = 1.6343831017538637, Eout = 1.8408293552947153\n",
      "case d: bias = 0.5005606245246499, var = 12.945363235708037, Eout = 13.445923860232686\n",
      "case e: bias = 0.7290859775386233, var = 44979.75734800498, Eout = 44980.48643398252\n"
     ]
    }
   ],
   "source": [
    "problem_7(100000)"
   ]
  },
  {
   "cell_type": "markdown",
   "metadata": {},
   "source": [
    "Note: Repeated runs show differences in var for case [d], and both bias and var for case [e].\n",
    "This is normal as we are fitting parabolas. $\\bar g(x)$ will be all over the place.\n",
    "\n",
    "Smallest expected value of $E_{out}$ is case [b]. Answer is [b].\n",
    "\n",
    "---"
   ]
  },
  {
   "cell_type": "markdown",
   "metadata": {},
   "source": [
    "<img src=\"hw4_images/hw4p8.png\">"
   ]
  },
  {
   "cell_type": "markdown",
   "metadata": {},
   "source": [
    "**Answer:**\n",
    "\n",
    "The VC dimension $d_{vc}$ is the largest value of $N$ for which $m_H(N) = 2^N$.\n",
    "\n",
    "- For $N < q$, we have $\\binom{N}{q}=0$ thus $m_H(N) = 2^N$.\n",
    "\n",
    "- For $N ≥ q$, we have $\\binom{N}{q} ≠ 0$ thus $m_H(N) ≠ 2^N$.\n",
    "\n",
    "- For $N = q-1$, we have $m_H(N+1) = m_H(q) = 2 m_H(q-1) = 2^q$\n",
    "\n",
    "- For $N = q$, we have $m_H(N+1) = m_H(q+1) = 2 m_H(q) - \\binom{q}{q} = 2^q - 1$\n",
    "\n",
    "Thus VC dimension is $q$, and answer is [c].\n",
    "\n",
    "___"
   ]
  },
  {
   "cell_type": "markdown",
   "metadata": {},
   "source": [
    "<img src=\"hw4_images/hw4p9.png\">"
   ]
  },
  {
   "cell_type": "markdown",
   "metadata": {},
   "source": [
    "**Answer:**\n",
    "\n",
    "Hypothesis set contains $M$ hypotheses. If its VC dimension is $d$, then you need at least $2^d$ hypotheses to shatter $d$ points.\n",
    "\n",
    "$$M ≥ 2^d$$\n",
    "\n",
    "where from:\n",
    "\n",
    "$$d ≤ \\log_2(M)$$\n",
    "\n",
    "Lower bound is the worst case, when hypothesis set contains 0 or 1 hypothesis. Then $d = 0$. This eliminates [d] and [e] as their lower bound is not 0, so they are incorrect.\n",
    "\n",
    "Suppose you can shatter $d+1$ points in the intersection. The hypotheses in the intersection belong to the every individual $H_k$. This means every individual hypothesis set $H_k$ can shatter $d+1$ points, and the $H_k$ with the minimum VC dimension $\\min(d_k)$ can also shatter $d+1$ points. This is impossible - a contradiction. Thus upper bound is $\\min(d_k)$.\n",
    "\n",
    "Answer is [b].\n",
    "\n",
    "---"
   ]
  },
  {
   "cell_type": "markdown",
   "metadata": {},
   "source": [
    "<img src=\"hw4_images/hw4p10a.png\">\n",
    "<img src=\"hw4_images/hw4p10b.png\">"
   ]
  },
  {
   "cell_type": "markdown",
   "metadata": {},
   "source": [
    "**Answer:**\n",
    "\n",
    "Lower bound is the maximum VC dimension from the individual $H_k$ sets, i.e. $\\max(d_k)$, because the hypotheses that shatter the $\\max(d_k)$ points will also be in the union. This eliminates [a], [b], and [c].\n",
    "\n",
    "For the upper bound, set $K=2$ for simplicity.  \n",
    "Given a hypothesis set $H$ with VC dimension $d$, we have:\n",
    "\n",
    "$$m_H(N) ≤ B(N,d+1) = \\sum_{i=0}^d\\binom{N}{i}$$\n",
    "\n",
    "Let $H_1$ and $H_2$ be two hypothesis sets with VC dimensions $d_1$ and $d_2$. Construct two disjoint $H_1'$ and $H_2'$ as follows:\n",
    "\n",
    "$$H_1' = H_1$$\n",
    "\n",
    "$$H_2' = H_2 - \\cap(H_1,H_2)$$\n",
    "\n",
    "The VC dimension of $H_1'$ is $d_1$.\n",
    "\n",
    "The VC dimension of $H_2'$ is $d_2' ≤ d_2$\n",
    "\n",
    "Let $H$ be the union of $H_1$ and $H_2$:\n",
    "\n",
    "$$H = \\cup(H_1,H_2) = \\cup(H_1',H_2')$$\n",
    "\n",
    "Let $N = d_1+d_2+1$. First compute a higher bound for $h_H(N)$:\n",
    "\n",
    "$$\\begin{aligned}\n",
    "m_H(N) ≤ m_{H_1'}(N) + m_{H_2'}(N) & ≤ \\sum_{i=0}^{d_1}\\binom{N}{i} + \\sum_{i=0}^{d_2'}\\binom{N}{i} \\\\\n",
    "& ≤ \\sum_{i=0}^{d_1}\\binom{N}{i} + \\sum_{i=0}^{d_2}\\binom{N}{i}\n",
    "\\end{aligned}$$\n",
    "\n",
    "which we can simplify using a new index $i_{new} = N-i$ in the second term:\n",
    "\n",
    "$$\\begin{aligned}\n",
    "\\sum_{i=0}^{d_1}\\binom{N}{i} + \\sum_{i=0}^{d_2}\\binom{N}{i} & = \\sum_{i=0}^{d_1}\\binom{N}{i} + \\sum_{i=N-d_2}^N \\binom{N}{i} \\\\\n",
    "& = \\sum_{i=0}^{d_1}\\binom{N}{i} + \\sum_{i=d_1+1}^N \\binom{N}{i} \\\\\n",
    "& = 2^N\n",
    "\\end{aligned}$$\n",
    "\n",
    "For $m_H(N) = 2^N$ to be true, i.e. for $H$ to shatter $N$, all inequalities must be equalities. In other words:\n",
    "\n",
    "1. Growth functions of $H_1$ and $H_2$ must be exactly $B(N,d_1+1)$ and $B(N,d_2+1)$.  \n",
    "2. Removing the intersection of $H_1$ and $H_2$ does not decrease the VC dimension of $H_2$. This holds if the intersection is empty, i.e. $H_1$ and $H_2$ are disjoint.\n",
    "\n",
    "This means that the VC dimension of $H$ is at least $d_1+d_2+1$, which eliminates [d].\n",
    "\n",
    "Answer is [e].\n",
    "\n",
    "---"
   ]
  }
 ],
 "metadata": {
  "kernelspec": {
   "display_name": "Python 3",
   "language": "python",
   "name": "python3"
  },
  "language_info": {
   "codemirror_mode": {
    "name": "ipython",
    "version": 3
   },
   "file_extension": ".py",
   "mimetype": "text/x-python",
   "name": "python",
   "nbconvert_exporter": "python",
   "pygments_lexer": "ipython3",
   "version": "3.7.5"
  }
 },
 "nbformat": 4,
 "nbformat_minor": 4
}
