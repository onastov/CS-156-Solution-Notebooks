{
 "cells": [
  {
   "cell_type": "markdown",
   "metadata": {},
   "source": [
    "# Learning From Data - Homework 2\n",
    "## Ognen Nastov"
   ]
  },
  {
   "cell_type": "markdown",
   "metadata": {},
   "source": [
    "<img src=\"hw2_images/hw2p1.png\">"
   ]
  },
  {
   "cell_type": "markdown",
   "metadata": {},
   "source": [
    "**Answer:**"
   ]
  },
  {
   "cell_type": "code",
   "execution_count": 1,
   "metadata": {},
   "outputs": [],
   "source": [
    "import numpy as np\n",
    "\n",
    "def coin_experiment(num_coins, num_flips):\n",
    "    # 0 = tail, 1 = head \n",
    "    data = np.random.randint(2, size = (num_coins, num_flips))\n",
    "    nu = np.count_nonzero(data == 1, axis = 1)\n",
    "    i = np.random.randint(num_coins)\n",
    "    i_min = np.argmin(nu)\n",
    "    return (nu[0]/num_flips, nu[i]/num_flips, nu[i_min]/num_flips)"
   ]
  },
  {
   "cell_type": "code",
   "execution_count": 2,
   "metadata": {},
   "outputs": [],
   "source": [
    "def run_coin_experiments(num_coins, num_flips, runs, eps):\n",
    "    c_1 = np.zeros(runs)\n",
    "    c_rand = np.zeros(runs)\n",
    "    c_min = np.zeros(runs)\n",
    "    ix = 0\n",
    "    while ix < runs:\n",
    "        c_1[ix], c_rand[ix], c_min[ix] = coin_experiment(num_coins, num_flips)\n",
    "        ix += 1\n",
    "    nu_min_avg = np.mean(c_min)\n",
    "    # Hoeffding\n",
    "    mu = 0.5\n",
    "    # values for eps that make sense: 0.2 to 0.5\n",
    "    rhs = 2*np.exp(-2*np.square(eps)*num_flips)\n",
    "    print(f\"rhs = {rhs}\")\n",
    "    c_1_frac = np.count_nonzero(np.abs(c_1 - mu) > eps) / runs\n",
    "    c_rand_frac = np.count_nonzero(np.abs(c_rand - mu) > eps) / runs\n",
    "    c_min_frac = np.count_nonzero(np.abs(c_min - mu) > eps) / runs\n",
    "    print(f\"c_1_frac = {c_1_frac}\")\n",
    "    print(f\"c_rand_frac = {c_rand_frac}\")\n",
    "    print(f\"c_min_frac = {c_min_frac}\")\n",
    "    c_1_sat = c_1_frac < rhs\n",
    "    c_rand_sat = c_rand_frac < rhs\n",
    "    c_min_sat = c_min_frac < rhs\n",
    "    print(f\"nu_min_avg = {nu_min_avg}\")\n",
    "    print(\"c_1_sat =\", c_1_sat)\n",
    "    print(\"c_rand_sat =\", c_rand_sat)\n",
    "    print(\"c_min_sat =\", c_min_sat)\n",
    "    return"
   ]
  },
  {
   "cell_type": "code",
   "execution_count": 3,
   "metadata": {},
   "outputs": [
    {
     "name": "stdout",
     "output_type": "stream",
     "text": [
      "rhs = 2.0\n",
      "c_1_frac = 0.75271\n",
      "c_rand_frac = 0.75445\n",
      "c_min_frac = 1.0\n",
      "nu_min_avg = 0.03751999999999999\n",
      "c_1_sat = True\n",
      "c_rand_sat = True\n",
      "c_min_sat = True\n"
     ]
    }
   ],
   "source": [
    "run_coin_experiments(1000, 10, 100000, 0)"
   ]
  },
  {
   "cell_type": "code",
   "execution_count": 4,
   "metadata": {},
   "outputs": [
    {
     "name": "stdout",
     "output_type": "stream",
     "text": [
      "rhs = 1.6374615061559636\n",
      "c_1_frac = 0.34399\n",
      "c_rand_frac = 0.3437\n",
      "c_min_frac = 1.0\n",
      "nu_min_avg = 0.037844\n",
      "c_1_sat = True\n",
      "c_rand_sat = True\n",
      "c_min_sat = True\n"
     ]
    }
   ],
   "source": [
    "run_coin_experiments(1000, 10, 100000, 0.1)"
   ]
  },
  {
   "cell_type": "code",
   "execution_count": 5,
   "metadata": {},
   "outputs": [
    {
     "name": "stdout",
     "output_type": "stream",
     "text": [
      "rhs = 0.898657928234443\n",
      "c_1_frac = 0.10907\n",
      "c_rand_frac = 0.10984\n",
      "c_min_frac = 1.0\n",
      "nu_min_avg = 0.037872\n",
      "c_1_sat = True\n",
      "c_rand_sat = True\n",
      "c_min_sat = False\n"
     ]
    }
   ],
   "source": [
    "run_coin_experiments(1000, 10, 100000, 0.2)"
   ]
  },
  {
   "cell_type": "code",
   "execution_count": 6,
   "metadata": {},
   "outputs": [
    {
     "name": "stdout",
     "output_type": "stream",
     "text": [
      "rhs = 0.3305977764431731\n",
      "c_1_frac = 0.06422\n",
      "c_rand_frac = 0.0644\n",
      "c_min_frac = 0.99996\n",
      "nu_min_avg = 0.037288999999999996\n",
      "c_1_sat = True\n",
      "c_rand_sat = True\n",
      "c_min_sat = False\n"
     ]
    }
   ],
   "source": [
    "run_coin_experiments(1000, 10, 100000, 0.3)"
   ]
  },
  {
   "cell_type": "code",
   "execution_count": 7,
   "metadata": {},
   "outputs": [
    {
     "name": "stdout",
     "output_type": "stream",
     "text": [
      "rhs = 0.08152440795673238\n",
      "c_1_frac = 0.0019\n",
      "c_rand_frac = 0.0021\n",
      "c_min_frac = 0.62266\n",
      "nu_min_avg = 0.037735\n",
      "c_1_sat = True\n",
      "c_rand_sat = True\n",
      "c_min_sat = False\n"
     ]
    }
   ],
   "source": [
    "run_coin_experiments(1000, 10, 100000, 0.4)"
   ]
  },
  {
   "cell_type": "code",
   "execution_count": 8,
   "metadata": {},
   "outputs": [
    {
     "name": "stdout",
     "output_type": "stream",
     "text": [
      "rhs = 0.013475893998170934\n",
      "c_1_frac = 0.0\n",
      "c_rand_frac = 0.0\n",
      "c_min_frac = 0.0\n",
      "nu_min_avg = 0.037518\n",
      "c_1_sat = True\n",
      "c_rand_sat = True\n",
      "c_min_sat = True\n"
     ]
    }
   ],
   "source": [
    "run_coin_experiments(1000, 10, 100000, 0.5)"
   ]
  },
  {
   "cell_type": "markdown",
   "metadata": {},
   "source": [
    "Average $\\nu_{min}$ is 0.037. Answer is [b].\n",
    "\n",
    "---"
   ]
  },
  {
   "cell_type": "markdown",
   "metadata": {},
   "source": [
    "<img src=\"hw2_images/hw2p2.png\">"
   ]
  },
  {
   "cell_type": "markdown",
   "metadata": {},
   "source": [
    "**Answer:**\n",
    "\n",
    "$$P[|\\nu - \\mu| > \\epsilon] <= 2 e^{-2 \\epsilon^2 N}$$\n",
    "\n",
    "$N = 10$  \n",
    "$\\mu = 0.5$\n",
    "\n",
    "$N$ is fixed, so need to pick $\\epsilon$ such that $\\text{rhs} = 2 e^{-2 \\epsilon^2 N}$ is meaningful.\n",
    "rhs should be between 0 and 1. Thus, $\\epsilon$ should be no smaller than about 0.2.\n",
    "\n",
    "Also given $\\mu = 0.5$, and $\\nu$ is between 0 and 1:\n",
    "\n",
    "- when $\\nu = 0$ or $1$, $|\\nu - \\mu| > \\epsilon$ becomes $0.5 > \\epsilon$ \n",
    "- for $\\nu = 0.5$, we have $0 > \\epsilon$\n",
    "\n",
    "Thus meaningful values for $\\epsilon$ are smaller than 0.5.\n",
    "\n",
    "The fraction of $\\{\\nu_1, \\nu_2, \\cdots, \\nu_k\\}$ where $k = 100,000$ trials,\n",
    "that satisfies $|\\nu_i - \\mu| > \\epsilon$ is an estimate of $P[|\\nu - \\mu| > \\epsilon]$.\n",
    "\n",
    "Check for which coins the Hoeffding is satisfied.\n",
    "\n",
    "For the $\\epsilon$ in the range 0.2 to 0.5 we can see that $c_1$ and $c_{rand}$ consistently satisfy Hoeffding, but $c_{min}$ does not.\n",
    "\n",
    "Answer: [d].\n",
    "\n",
    "---"
   ]
  },
  {
   "cell_type": "markdown",
   "metadata": {},
   "source": [
    "<img src=\"hw2_images/hw2p3a.png\">\n",
    "<img src=\"hw2_images/hw2p3b.png\">"
   ]
  },
  {
   "cell_type": "markdown",
   "metadata": {},
   "source": [
    "**Answer:**\n",
    "    \n",
    "P(error $h$ makes when approximating $y$) =  \n",
    "&ensp;  P(error due to noise $1-\\lambda$ AND no error due to deterministic error $1-\\mu$  \n",
    "&ensp;&ensp;  OR  \n",
    "&ensp;  no error due to noise $\\lambda$ AND error due to deterministic error $\\mu$)\n",
    "\n",
    "When A,B independent:\n",
    "\n",
    "$$P(A \\cap B) = P(B) P(A|B)$$\n",
    "\n",
    "$$P(X \\cup Y) = P(X) + P(Y)$$\n",
    "\n",
    "$$P = (1-\\lambda)(1-\\mu) + \\lambda \\mu$$\n",
    "\n",
    "Answer is [e].\n",
    "\n",
    "---"
   ]
  },
  {
   "cell_type": "markdown",
   "metadata": {},
   "source": [
    "<img src=\"hw2_images/hw2p4.png\">"
   ]
  },
  {
   "cell_type": "markdown",
   "metadata": {},
   "source": [
    "**Answer:**\n",
    "\n",
    "$$P = 1 + \\lambda \\mu - \\lambda - \\mu + \\lambda \\mu = 1 - \\lambda - \\mu + 2 \\lambda \\mu$$\n",
    "\n",
    "To cancel the mu terms, $\\mu = 2 \\lambda \\mu$ where from $\\lambda = 0.5$\n",
    "\n",
    "Answer is [b].\n",
    "\n",
    "---"
   ]
  },
  {
   "cell_type": "markdown",
   "metadata": {},
   "source": [
    "<img src=\"hw2_images/hw2p5.png\">"
   ]
  },
  {
   "cell_type": "markdown",
   "metadata": {},
   "source": [
    "**Answer:**\n",
    "\n",
    "Create data set and target function:"
   ]
  },
  {
   "cell_type": "code",
   "execution_count": 9,
   "metadata": {},
   "outputs": [],
   "source": [
    "# dimension of input space d = 2\n",
    "# number of data points = N\n",
    "# data is shape (N, d+1) i.e. (N, 3)\n",
    "def make_data_set(N):\n",
    "    data = np.zeros([N,3])\n",
    "    data[:,0] = np.ones([N,])\n",
    "    data[:,1] = np.random.uniform(-1,1,N)\n",
    "    data[:,2] = np.random.uniform(-1,1,N)\n",
    "    return (data)\n",
    "\n",
    "# the line defines the target function\n",
    "# line is shape (2,)\n",
    "def make_line():    \n",
    "    x_1,y_1 = np.random.uniform(-1,1,2)\n",
    "    x_2,y_2 = np.random.uniform(-1,1,2)\n",
    "    slope = (y_1 - y_2) / (x_1 - x_2)\n",
    "    b = y_2 - slope * x_2\n",
    "    return (slope, b)\n",
    "\n",
    "# y is shape (N,)    \n",
    "def classify_input(line, data):\n",
    "    slope, b = line\n",
    "    y = np.sign(data[:,1]*slope + b - data[:,2])\n",
    "    return (y)"
   ]
  },
  {
   "cell_type": "markdown",
   "metadata": {},
   "source": [
    "Regression and classification error:"
   ]
  },
  {
   "cell_type": "code",
   "execution_count": 10,
   "metadata": {},
   "outputs": [],
   "source": [
    "def solve_regression(data, y):\n",
    "    w = np.dot(np.linalg.pinv(data), y)\n",
    "    return (w)\n",
    "\n",
    "def classification_error(w, data, y):\n",
    "    y_c = np.sign(np.dot(data, w))\n",
    "    error = np.count_nonzero(y_c != y) / len(y)\n",
    "    return (error)"
   ]
  },
  {
   "cell_type": "code",
   "execution_count": 11,
   "metadata": {},
   "outputs": [],
   "source": [
    "def eval_ein(N, trials):\n",
    "    ein = np.zeros(trials)\n",
    "    trial = 0\n",
    "    while (trial < trials):\n",
    "        data = make_data_set(N)\n",
    "        line = make_line()\n",
    "        y = classify_input(line, data)\n",
    "        w = solve_regression(data, y)\n",
    "        ein[trial] = classification_error(w, data, y)\n",
    "        trial += 1\n",
    "    ein_mean = np.mean(ein)\n",
    "    print(f\"Ein_mean={ein_mean:5.3f}\")\n",
    "    return"
   ]
  },
  {
   "cell_type": "code",
   "execution_count": 12,
   "metadata": {},
   "outputs": [
    {
     "name": "stdout",
     "output_type": "stream",
     "text": [
      "Ein_mean=0.039\n"
     ]
    }
   ],
   "source": [
    "eval_ein(100, 1000)"
   ]
  },
  {
   "cell_type": "markdown",
   "metadata": {},
   "source": [
    "Answer is [c].\n",
    "\n",
    "---"
   ]
  },
  {
   "cell_type": "markdown",
   "metadata": {},
   "source": [
    "<img src=\"hw2_images/hw2p6.png\">"
   ]
  },
  {
   "cell_type": "markdown",
   "metadata": {},
   "source": [
    "**Answer:**"
   ]
  },
  {
   "cell_type": "code",
   "execution_count": 13,
   "metadata": {},
   "outputs": [],
   "source": [
    "def eval_eout(N, trials, N_test):\n",
    "    eout = np.zeros(trials)\n",
    "    trial = 0\n",
    "    while (trial < trials):\n",
    "        data = make_data_set(N)\n",
    "        line = make_line()\n",
    "        y = classify_input(line, data)\n",
    "        w = solve_regression(data, y)\n",
    "        data_test = make_data_set(N_test)\n",
    "        y_test = classify_input(line, data_test)\n",
    "        eout[trial] = classification_error(w, data_test, y_test)\n",
    "        trial += 1\n",
    "    eout_mean = np.mean(eout)\n",
    "    print(f\"Eout_mean={eout_mean:5.3f}\")\n",
    "    return"
   ]
  },
  {
   "cell_type": "code",
   "execution_count": 14,
   "metadata": {},
   "outputs": [
    {
     "name": "stdout",
     "output_type": "stream",
     "text": [
      "Eout_mean=0.048\n"
     ]
    }
   ],
   "source": [
    "eval_eout(100, 1000, 1000)"
   ]
  },
  {
   "cell_type": "markdown",
   "metadata": {},
   "source": [
    "Answer is [c].\n",
    "\n",
    "---"
   ]
  },
  {
   "cell_type": "markdown",
   "metadata": {},
   "source": [
    "<img src=\"hw2_images/hw2p7.png\">"
   ]
  },
  {
   "cell_type": "markdown",
   "metadata": {},
   "source": [
    "**Answer:**"
   ]
  },
  {
   "cell_type": "code",
   "execution_count": 15,
   "metadata": {},
   "outputs": [],
   "source": [
    "def pla(data, y, w_init):  \n",
    "    i = 0\n",
    "    w = w_init\n",
    "    while (1):\n",
    "        y_c = np.sign(np.dot(data, w))\n",
    "        if np.count_nonzero(y_c != y) == 0:\n",
    "            break\n",
    "        else:  # update perceptron with a misclassified point\n",
    "            misclassified_indices = (y_c != y).nonzero()[0]\n",
    "            ix = np.random.choice(misclassified_indices)\n",
    "            w = w + data[ix,:]*y[ix]\n",
    "        i += 1\n",
    "    return (w, i)\n",
    "\n",
    "def regression_and_pla(N, trials):\n",
    "    pla_iters = np.zeros(trials)\n",
    "    trial = 0\n",
    "    while (trial < trials):\n",
    "        data = make_data_set(N)\n",
    "        line = make_line()\n",
    "        y = classify_input(line, data)\n",
    "        w = solve_regression(data, y)\n",
    "        w_pla, i_pla = pla(data, y, w)\n",
    "        pla_iters[trial] = i_pla\n",
    "        trial += 1\n",
    "    pla_iters_mean = np.mean(pla_iters)\n",
    "    print(f\"pla_iters_mean={pla_iters_mean}\")\n",
    "    return"
   ]
  },
  {
   "cell_type": "code",
   "execution_count": 16,
   "metadata": {},
   "outputs": [
    {
     "name": "stdout",
     "output_type": "stream",
     "text": [
      "pla_iters_mean=3.753\n"
     ]
    }
   ],
   "source": [
    "regression_and_pla(10, 1000)"
   ]
  },
  {
   "cell_type": "markdown",
   "metadata": {},
   "source": [
    "Answer is [a].\n",
    "\n",
    "---"
   ]
  },
  {
   "cell_type": "markdown",
   "metadata": {},
   "source": [
    "<img src=\"hw2_images/hw2p8a.png\">\n",
    "<img src=\"hw2_images/hw2p8b.png\">"
   ]
  },
  {
   "cell_type": "markdown",
   "metadata": {},
   "source": [
    "**Answer:**"
   ]
  },
  {
   "cell_type": "code",
   "execution_count": 17,
   "metadata": {},
   "outputs": [],
   "source": [
    "def classify_input_nl(data):\n",
    "    y = np.sign(data[:,1]**2 + data[:,2]**2 - 0.6)\n",
    "    return (y)\n",
    "\n",
    "def inject_noise(noise_perc, data, y):\n",
    "    N = data.shape[0]\n",
    "    N_noise = np.round((noise_perc/100)*N)\n",
    "    all_indices = list(np.arange(0,N))\n",
    "    indices_noise = list()\n",
    "    count = 0\n",
    "    while (count < N_noise):\n",
    "        i = np.random.randint(0,len(all_indices))\n",
    "        ix = all_indices.pop(i)\n",
    "        indices_noise.append(ix)\n",
    "        count += 1\n",
    "    indices_noise.sort()\n",
    "    y_n = y.copy()\n",
    "    for i in indices_noise:\n",
    "        y_n[i] = - y_n[i]\n",
    "    return (y_n)\n",
    "\n",
    "def reg_no_transform(N, noise_perc, trials):\n",
    "    ein = np.zeros(trials)\n",
    "    trial = 0\n",
    "    while (trial < trials):\n",
    "        data = make_data_set(N)\n",
    "        y = classify_input_nl(data)\n",
    "        y_noise = inject_noise(noise_perc, data, y)\n",
    "        w = solve_regression(data, y_noise)\n",
    "        ein[trial] = classification_error(w, data, y_noise)\n",
    "        trial += 1\n",
    "    ein_mean = np.mean(ein)\n",
    "    print(f\"Ein_mean={ein_mean:5.3f}\")\n",
    "    return"
   ]
  },
  {
   "cell_type": "code",
   "execution_count": 18,
   "metadata": {},
   "outputs": [
    {
     "name": "stdout",
     "output_type": "stream",
     "text": [
      "Ein_mean=0.503\n"
     ]
    }
   ],
   "source": [
    "reg_no_transform(1000, 10, 1000)"
   ]
  },
  {
   "cell_type": "markdown",
   "metadata": {},
   "source": [
    "Answer is [d].\n",
    "\n",
    "---"
   ]
  },
  {
   "cell_type": "markdown",
   "metadata": {},
   "source": [
    "<img src=\"hw2_images/hw2p9.png\">"
   ]
  },
  {
   "cell_type": "markdown",
   "metadata": {},
   "source": [
    "**Answer:**"
   ]
  },
  {
   "cell_type": "code",
   "execution_count": 19,
   "metadata": {},
   "outputs": [],
   "source": [
    "def make_data_set_transformed(N):\n",
    "    data = np.zeros([N,6])\n",
    "    data[:,0] = np.ones([N,])\n",
    "    data[:,1] = np.random.uniform(-1,1,N)\n",
    "    data[:,2] = np.random.uniform(-1,1,N)\n",
    "    data[:,3] = np.multiply(data[:,1], data[:,2])\n",
    "    data[:,4] = data[:,1]**2\n",
    "    data[:,5] = data[:,2]**2\n",
    "    return (data)\n",
    "\n",
    "def solve_reg_transformed(N, trials, noise_perc):\n",
    "    weights = np.zeros((trials, 6))\n",
    "    i = 0\n",
    "    while (i < trials):\n",
    "        data = make_data_set_transformed(N)\n",
    "        y = classify_input_nl(data)\n",
    "        y_noise = inject_noise(noise_perc, data, y)\n",
    "        w = solve_regression(data, y_noise)\n",
    "        weights[i, :] = w\n",
    "        i += 1\n",
    "    w_mean = np.mean(weights, 0)\n",
    "    print(f\"w_mean={w_mean}\")\n",
    "    data_test = make_data_set(N)\n",
    "    compare_final_g(w_mean, data_test)\n",
    "    return w_mean\n",
    "\n",
    "def compare_final_g(w_mean, data):\n",
    "    x_1 = data[:,1]\n",
    "    x_2 = data[:,2]\n",
    "    y = g_generic(w_mean, x_1, x_2)\n",
    "    y_1 = g_1(x_1,x_2)\n",
    "    y_2 = g_2(x_1,x_2)\n",
    "    y_3 = g_3(x_1,x_2)\n",
    "    y_4 = g_4(x_1,x_2)\n",
    "    y_5 = g_5(x_1,x_2)\n",
    "    cmp1 = np.count_nonzero(y != y_1)\n",
    "    cmp2 = np.count_nonzero(y != y_2)\n",
    "    cmp3 = np.count_nonzero(y != y_3)\n",
    "    cmp4 = np.count_nonzero(y != y_4)\n",
    "    cmp5 = np.count_nonzero(y != y_5)\n",
    "    print(f\"Number of disagreements: g_1={cmp1}, g_2={cmp2}, g_3={cmp3}, \\\n",
    "g_4={cmp4}, g_5={cmp5}\")\n",
    "    return"
   ]
  },
  {
   "cell_type": "code",
   "execution_count": 20,
   "metadata": {},
   "outputs": [],
   "source": [
    "# weight is (6,)\n",
    "def g_generic(w, x_1, x_2):\n",
    "    value = np.sign(w[0] + w[1]*x_1 + w[2]*x_2 + w[3]*x_1*x_2 +\n",
    "                    w[4]*x_1**2 + w[5]*x_2**2)\n",
    "    return (value)\n",
    "\n",
    "def g_1(x_1,x_2):\n",
    "    w = [-1, -0.05, 0.08, 0.13, 1.5, 1.5]\n",
    "    return g_generic(w, x_1, x_2)\n",
    "\n",
    "def g_2(x_1,x_2):\n",
    "    w = [-1, -0.05, 0.08, 0.13, 1.5, 15]\n",
    "    return g_generic(w, x_1, x_2)\n",
    "\n",
    "def g_3(x_1,x_2):\n",
    "    w = [-1, -0.05, 0.08, 0.13, 15, 1.5]\n",
    "    return g_generic(w, x_1, x_2)\n",
    "\n",
    "def g_4(x_1,x_2):\n",
    "    w = [-1, -1.5, 0.08, 0.13, 0.05, 0.05]\n",
    "    return g_generic(w, x_1, x_2)\n",
    "\n",
    "def g_5(x_1,x_2):\n",
    "    w = [-1, -0.05, 0.08, 1.5, 0.15, 0.15]\n",
    "    return g_generic(w, x_1, x_2)"
   ]
  },
  {
   "cell_type": "code",
   "execution_count": 21,
   "metadata": {},
   "outputs": [
    {
     "name": "stdout",
     "output_type": "stream",
     "text": [
      "w_mean=[-9.91987734e-01  1.51808982e-03  1.65830925e-03  2.75387539e-03\n",
      "  1.55681678e+00  1.55888001e+00]\n",
      "Number of disagreements: g_1=26, g_2=326, g_3=332, g_4=354, g_5=425\n"
     ]
    }
   ],
   "source": [
    "w_mean = solve_reg_transformed(1000, 1000, 10)"
   ]
  },
  {
   "cell_type": "markdown",
   "metadata": {},
   "source": [
    "Smallest number of disagreements b/w final $g$ and the proposed $g_1,\\cdots,g_5$ is for $g_1$.\n",
    "\n",
    "Answer is [a].\n",
    "\n",
    "---"
   ]
  },
  {
   "cell_type": "markdown",
   "metadata": {},
   "source": [
    "<img src=\"hw2_images/hw2p10.png\">"
   ]
  },
  {
   "cell_type": "code",
   "execution_count": 22,
   "metadata": {},
   "outputs": [],
   "source": [
    "def eval_eout_final_g(w_mean, noise_perc, trials, N_test):\n",
    "    eout = np.zeros(trials)\n",
    "    trial = 0\n",
    "    while (trial < trials):\n",
    "        data_test = make_data_set_transformed(N_test)\n",
    "        y_test = classify_input_nl(data_test)\n",
    "        y_test_noise = inject_noise(noise_perc, data_test, y_test)\n",
    "        eout[trial] = classification_error(w_mean, data_test, y_test_noise)  \n",
    "        trial += 1\n",
    "    eout_mean = np.mean(eout)\n",
    "    print(f\"Eout_mean={eout_mean:5.3f}\")\n",
    "    return"
   ]
  },
  {
   "cell_type": "code",
   "execution_count": 23,
   "metadata": {},
   "outputs": [
    {
     "name": "stdout",
     "output_type": "stream",
     "text": [
      "Eout_mean=0.124\n"
     ]
    }
   ],
   "source": [
    "eval_eout_final_g(w_mean, 10, 1000, 1000)"
   ]
  },
  {
   "cell_type": "markdown",
   "metadata": {},
   "source": [
    "Answer is [b].\n",
    "\n",
    "---"
   ]
  }
 ],
 "metadata": {
  "kernelspec": {
   "display_name": "Python 3",
   "language": "python",
   "name": "python3"
  },
  "language_info": {
   "codemirror_mode": {
    "name": "ipython",
    "version": 3
   },
   "file_extension": ".py",
   "mimetype": "text/x-python",
   "name": "python",
   "nbconvert_exporter": "python",
   "pygments_lexer": "ipython3",
   "version": "3.7.5"
  }
 },
 "nbformat": 4,
 "nbformat_minor": 4
}
