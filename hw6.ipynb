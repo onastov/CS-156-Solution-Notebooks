{
 "cells": [
  {
   "cell_type": "markdown",
   "metadata": {},
   "source": [
    "# Learning From Data - Homework 6\n",
    "## Ognen Nastov"
   ]
  },
  {
   "cell_type": "markdown",
   "metadata": {},
   "source": [
    "![](hw6_images/hw6p1.png)"
   ]
  },
  {
   "cell_type": "markdown",
   "metadata": {},
   "source": [
    "**Answer:**\n",
    "\n",
    "When target is fixed, and $H$ complexity ⬆️, deterministic noise ⬇️.\n",
    "\n",
    "$H'$ is less complex than $H$.\n",
    "\n",
    "=> Deterministic noise will increase.\n",
    "\n",
    "Answer is [b].\n",
    "\n",
    "---"
   ]
  },
  {
   "cell_type": "markdown",
   "metadata": {},
   "source": [
    "![](hw6_images/hw6p2.png)"
   ]
  },
  {
   "cell_type": "markdown",
   "metadata": {},
   "source": [
    "**Answer:**"
   ]
  },
  {
   "cell_type": "code",
   "execution_count": 1,
   "metadata": {},
   "outputs": [],
   "source": [
    "import numpy as np\n",
    "\n",
    "# problem 2 \n",
    "# read input and test sets\n",
    "# d = 2\n",
    "# return X,Y where X = [[x1, ...] and Y = [y1, ...]\n",
    "def read_training_set():\n",
    "    S = np.loadtxt(\"http://work.caltech.edu/data/in.dta\")\n",
    "    return S[:,0:2], S[:,2]\n",
    "\n",
    "def read_test_set():\n",
    "    S = np.loadtxt(\"http://work.caltech.edu/data/out.dta\")\n",
    "    return S[:,0:2], S[:,2]\n",
    "\n",
    "# transformed input set is d = 7\n",
    "def transform_input_set(X):\n",
    "    N = np.size(X, 0)\n",
    "    X0 = np.ones([N,])\n",
    "    X1 = X[:,0]\n",
    "    X2 = X[:,1]\n",
    "    X3 = X1**2\n",
    "    X4 = X2**2\n",
    "    X5 = X1*X2\n",
    "    X6 = np.abs(X1-X2)\n",
    "    X7 = np.abs(X1+X2)\n",
    "    X_transformed = np.array([X0, X1, X2, X3, X4, X5, X6, X7]).T\n",
    "    return (X_transformed)"
   ]
  },
  {
   "cell_type": "code",
   "execution_count": 2,
   "metadata": {},
   "outputs": [],
   "source": [
    "def solve_regression(X, y):\n",
    "    w = np.dot(np.linalg.pinv(X), y)\n",
    "    return (w)\n",
    "\n",
    "# classification error\n",
    "def classification_error(w, X, y):\n",
    "    y_c = np.sign(np.dot(X,w))\n",
    "    error = np.count_nonzero(y_c != y) / len(y)\n",
    "    return (error)\n",
    "\n",
    "def problem_2():\n",
    "    X,y = read_training_set()\n",
    "    X_t,y_t = read_test_set()\n",
    "    X_transformed = transform_input_set(X)\n",
    "    X_t_transformed = transform_input_set(X_t)\n",
    "    w = solve_regression(X_transformed, y)\n",
    "    # E_in (classification error)\n",
    "    E_in = classification_error(w, X_transformed, y)\n",
    "    # E_out (test set classification error)\n",
    "    E_out = classification_error(w, X_t_transformed, y_t)\n",
    "    print(f\"E_in = {E_in} , E_out = {E_out}\")\n",
    "    return"
   ]
  },
  {
   "cell_type": "code",
   "execution_count": 3,
   "metadata": {},
   "outputs": [
    {
     "name": "stdout",
     "output_type": "stream",
     "text": [
      "E_in = 0.02857142857142857 , E_out = 0.084\n"
     ]
    }
   ],
   "source": [
    "problem_2()"
   ]
  },
  {
   "cell_type": "markdown",
   "metadata": {},
   "source": [
    "Answer is [a].\n",
    "\n",
    "---"
   ]
  },
  {
   "cell_type": "markdown",
   "metadata": {},
   "source": [
    "![](hw6_images/hw6p3a.png)\n",
    "![](hw6_images/hw6p3b.png)"
   ]
  },
  {
   "cell_type": "markdown",
   "metadata": {},
   "source": [
    "**Answer:**"
   ]
  },
  {
   "cell_type": "code",
   "execution_count": 4,
   "metadata": {},
   "outputs": [],
   "source": [
    "# problems 3, 4, 5, 6\n",
    "def solve_regression_with_weight_decay(X, y, k):\n",
    "    _lambda = np.power(10.0, k)\n",
    "    Q = np.size(X, 1)\n",
    "    X_pinv = np.linalg.inv(X.T@X + _lambda*np.eye(Q))@X.T\n",
    "    w = np.dot(X_pinv, y)\n",
    "    return w\n",
    "\n",
    "def problems_3_to_6(k):\n",
    "    X,y = read_training_set()\n",
    "    X_t,y_t = read_test_set()\n",
    "    X_transformed = transform_input_set(X)\n",
    "    X_t_transformed = transform_input_set(X_t)\n",
    "    w = solve_regression_with_weight_decay(X_transformed, y, k)\n",
    "    # E_in (classification error)\n",
    "    E_in = classification_error(w, X_transformed, y)\n",
    "    # E_out (test set classification error)\n",
    "    E_out = classification_error(w, X_t_transformed, y_t)\n",
    "    print(f\"E_in = {E_in} , E_out = {E_out}\")\n",
    "    return"
   ]
  },
  {
   "cell_type": "code",
   "execution_count": 5,
   "metadata": {},
   "outputs": [
    {
     "name": "stdout",
     "output_type": "stream",
     "text": [
      "E_in = 0.02857142857142857 , E_out = 0.08\n"
     ]
    }
   ],
   "source": [
    "problems_3_to_6(-3)"
   ]
  },
  {
   "cell_type": "markdown",
   "metadata": {},
   "source": [
    "Answer is [d].\n",
    "\n",
    "---"
   ]
  },
  {
   "cell_type": "markdown",
   "metadata": {},
   "source": [
    "![](hw6_images/hw6p4.png)"
   ]
  },
  {
   "cell_type": "markdown",
   "metadata": {},
   "source": [
    "**Answer:**"
   ]
  },
  {
   "cell_type": "code",
   "execution_count": 6,
   "metadata": {},
   "outputs": [
    {
     "name": "stdout",
     "output_type": "stream",
     "text": [
      "E_in = 0.37142857142857144 , E_out = 0.436\n"
     ]
    }
   ],
   "source": [
    "problems_3_to_6(3)"
   ]
  },
  {
   "cell_type": "markdown",
   "metadata": {},
   "source": [
    "Answer is [e].\n",
    "\n",
    "---"
   ]
  },
  {
   "cell_type": "markdown",
   "metadata": {},
   "source": [
    "![](hw6_images/hw6p5.png)"
   ]
  },
  {
   "cell_type": "markdown",
   "metadata": {},
   "source": [
    "**Answer:**"
   ]
  },
  {
   "cell_type": "code",
   "execution_count": 7,
   "metadata": {},
   "outputs": [
    {
     "name": "stdout",
     "output_type": "stream",
     "text": [
      "E_in = 0.02857142857142857 , E_out = 0.084\n"
     ]
    }
   ],
   "source": [
    "problems_3_to_6(-2)"
   ]
  },
  {
   "cell_type": "code",
   "execution_count": 8,
   "metadata": {},
   "outputs": [
    {
     "name": "stdout",
     "output_type": "stream",
     "text": [
      "E_in = 0.02857142857142857 , E_out = 0.056\n"
     ]
    }
   ],
   "source": [
    "problems_3_to_6(-1)"
   ]
  },
  {
   "cell_type": "code",
   "execution_count": 9,
   "metadata": {},
   "outputs": [
    {
     "name": "stdout",
     "output_type": "stream",
     "text": [
      "E_in = 0.0 , E_out = 0.092\n"
     ]
    }
   ],
   "source": [
    "problems_3_to_6(0)"
   ]
  },
  {
   "cell_type": "code",
   "execution_count": 10,
   "metadata": {},
   "outputs": [
    {
     "name": "stdout",
     "output_type": "stream",
     "text": [
      "E_in = 0.05714285714285714 , E_out = 0.124\n"
     ]
    }
   ],
   "source": [
    "problems_3_to_6(1)"
   ]
  },
  {
   "cell_type": "code",
   "execution_count": 11,
   "metadata": {},
   "outputs": [
    {
     "name": "stdout",
     "output_type": "stream",
     "text": [
      "E_in = 0.2 , E_out = 0.228\n"
     ]
    }
   ],
   "source": [
    "problems_3_to_6(2)"
   ]
  },
  {
   "cell_type": "markdown",
   "metadata": {},
   "source": [
    "Smallest $E_{out}$ for $k = -1$. Answer is [d].\n",
    "\n",
    "---"
   ]
  },
  {
   "cell_type": "markdown",
   "metadata": {},
   "source": [
    "![](hw6_images/hw6p6.png)"
   ]
  },
  {
   "cell_type": "markdown",
   "metadata": {},
   "source": [
    "**Answer:**\n",
    "\n",
    "Minimum for $k = -1$, $E_{out} = 0.056$\n",
    "\n",
    "Answer is [b].\n",
    "\n",
    "---"
   ]
  },
  {
   "cell_type": "markdown",
   "metadata": {},
   "source": [
    "![](hw6_images/hw6p7a.png)\n",
    "![](hw6_images/hw6p7b.png)"
   ]
  },
  {
   "cell_type": "markdown",
   "metadata": {},
   "source": [
    "**Answer:**\n",
    "\n",
    "If $C = 1$, $w_q = 1$ for $q ≥ Q_0$. But we need $w_q = 0$ for $q > Q$.\n",
    "\n",
    "In [b], the second term has $Q_0 = 4$, meaning $w_4 = 1$. $Q = 3$, meaning we need $w_4 = 0$. The statement is incorrect.\n",
    " \n",
    "In [d], the second term has $Q_0 = 4$, meaning $w_4 = 1$. $Q = 1$, meaning we need $w_2 = w_3 = w_4 = 0$. The statement is incorrect.\n",
    "\n",
    "In [a], the first term has $Q_0 = 3$, meaning $w_3 = 0$. $Q = 4$, meaning we need $w_3$ to be nonzero. The statement is incorrect.\n",
    "\n",
    "In [c], the first term has $Q_0 = 3$, meaning $w_3 = 0$, and the second term has $Q_0 = 4$, meaning $w_4 = 0$. $Q = 1$, meaning only $w_0$ and $w_1$ are nonzero. This statement is correct.\n",
    "\n",
    "Answer is [c].\n",
    "\n",
    "---"
   ]
  },
  {
   "cell_type": "markdown",
   "metadata": {},
   "source": [
    "![](hw6_images/hw6p8.png)"
   ]
  },
  {
   "cell_type": "markdown",
   "metadata": {},
   "source": [
    "**Answer:**\n",
    "\n",
    "One iteration of backpropagation includes forward propagation, backpropagation, and the SGD update.\n",
    "\n",
    "- Input layer `L0`: $d^{(0)}=5$ plus $1$ for the constant term = 6 nodes.\n",
    "- `L1`: $d^{(1)}=3$ plus $1$ for constant term = 4 nodes.\n",
    "- Output layer `L2`: $d^{(2)}=1$ = 1 node.\n",
    "\n",
    "Draw the NN."
   ]
  },
  {
   "cell_type": "markdown",
   "metadata": {},
   "source": [
    "![](hw6_images/hw6_problem_8_sketch.png)"
   ]
  },
  {
   "cell_type": "markdown",
   "metadata": {},
   "source": [
    "Going from `L0` to `L1`, there are 6\\*3 = 18 links (since no links to constant term in `L1`).  \n",
    "Going from `L1` to `L2`, there are 4 links.  \n",
    "=> Forward propagation has 18+4=22 links, i.e. 22 weights.\n",
    "\n",
    "SGD update needs to update all 22 weights.\n",
    "\n",
    "Backpropagation. We don't need to:\n",
    "\n",
    "- compute delta for the output (because it doesn't need any of the operations, counted as operation in this certain task).\n",
    "\n",
    "- compute deltas for constants (because they're constants).\n",
    "\n",
    "- compute deltas for input (because they're just features (x), and delta is a derivative of the error with respect to s).\n",
    "\n",
    "So for computing deltas you only need 3 operations going from `L2` to `L1`.\n",
    "\n",
    "=> Number of operations = 22 + 22 + 3 = 47.\n",
    "\n",
    "Answer is 45 i.e. [d].\n",
    "\n",
    "---"
   ]
  },
  {
   "cell_type": "markdown",
   "metadata": {},
   "source": [
    "![](hw6_images/hw6p9a.png)\n",
    "![](hw6_images/hw6p9b.png)"
   ]
  },
  {
   "cell_type": "markdown",
   "metadata": {},
   "source": [
    "**Answer:**\n",
    "    \n",
    "We should have as many hidden layers as possible. Minimum number of units per layer is 2 (including constant node), so 36/2 = 18 hidden layers.\n",
    "\n",
    "Number of weights (links) = 10\\*(2-1) + 2\\*(2-1) + ... + 2\\*(2-1) = 10+18\\*2 = 46\n",
    "\n",
    "Answer is [a].\n",
    "\n",
    "---"
   ]
  },
  {
   "cell_type": "markdown",
   "metadata": {},
   "source": [
    "![](hw6_images/hw6p10.png)"
   ]
  },
  {
   "cell_type": "markdown",
   "metadata": {},
   "source": [
    "**Answer:**\n",
    "\n",
    "Assume two hidden layers, with $m$ and $n$ nodes. $i = 10$ (input nodes) and $m+n = s = 36$ total nodes.\n",
    "\n",
    "It is intuitive to have 2 layers vs more when maximizing number of weights:  \n",
    "- First, adding more layers creates more wasted constant nodes.\n",
    "- Second, even if there were no wasted nodes we would be creating smaller multipliers and then summing them up vs multiplying them directly. i.e. adding layers cannot increase the weights among the hidden layers (it only deprives some nodes from connecting to others by putting them more than one layer apart) and cannot increase the connections to the input and output nodes.\n",
    "\n",
    "Maximize number of weights (links): \n",
    "\n",
    "$$f(m,n) = i*(m-1) + m*(n-1) + n*1$$\n",
    "\n",
    "Substitute $m = s-n$:\n",
    "\n",
    "$$\\begin{aligned}\n",
    "f(m) & = i*(s-n-1) + (s-n)*(n-1) + n \\\\\n",
    "& = -n^2 + (-i + s + 1 + 1)*n + i*s - i - s \\\\\n",
    "& = -n^2 + (s + 2 - i)*n + (i*s - i - s)\n",
    "\\end{aligned}$$\n",
    "\n",
    "Set $\\frac{df}{dm} = 0$ to find extrema:\n",
    "\n",
    "$$\\frac{df}{dm} =  -2*n + s + 2 - i = 0$$\n",
    "\n",
    "where from:\n",
    "\n",
    "$$n = \\frac{1}{2}(s+2-i)$$\n",
    "\n",
    "Substituting $s=26$, $i=10$ gives $n = 14$ and $m = 22$.\n",
    "\n",
    "Number of weights (links):\n",
    "\n",
    "$$f(m,n) = 10*(22-1) + 22*(14-1) + 14 = 10*21+22*13+14 = 510$$\n",
    "\n",
    "Answer is [e].\n",
    "\n",
    "---"
   ]
  }
 ],
 "metadata": {
  "kernelspec": {
   "display_name": "Python 3",
   "language": "python",
   "name": "python3"
  },
  "language_info": {
   "codemirror_mode": {
    "name": "ipython",
    "version": 3
   },
   "file_extension": ".py",
   "mimetype": "text/x-python",
   "name": "python",
   "nbconvert_exporter": "python",
   "pygments_lexer": "ipython3",
   "version": "3.7.5"
  }
 },
 "nbformat": 4,
 "nbformat_minor": 4
}
